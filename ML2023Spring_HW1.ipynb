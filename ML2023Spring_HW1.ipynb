{
  "cells": [
    {
      "cell_type": "markdown",
      "metadata": {
        "id": "view-in-github",
        "colab_type": "text"
      },
      "source": [
        "<a href=\"https://colab.research.google.com/github/pbwhere/pbwhere.github.io/blob/main/ML2023Spring_HW1.ipynb\" target=\"_parent\"><img src=\"https://colab.research.google.com/assets/colab-badge.svg\" alt=\"Open In Colab\"/></a>"
      ]
    },
    {
      "cell_type": "markdown",
      "metadata": {
        "id": "guE34D3Fj2R9"
      },
      "source": [
        "# **Homework 1: COVID-19 Cases Prediction (Regression)**"
      ]
    },
    {
      "cell_type": "markdown",
      "source": [
        "Objectives:\n",
        "* Solve a regression problem with deep neural networks (DNN).\n",
        "* Understand basic DNN training tips.\n",
        "* Familiarize yourself with PyTorch.\n",
        "\n",
        "If you have any questions, please contact the TAs via TA hours, NTU COOL, or email to mlta-2023-spring@googlegroups.com"
      ],
      "metadata": {
        "id": "V57zhcTp1Xxb"
      }
    },
    {
      "cell_type": "code",
      "source": [
        "# check gpu type\n",
        "!nvidia-smi"
      ],
      "metadata": {
        "id": "GUATI4ONArv_",
        "colab": {
          "base_uri": "https://localhost:8080/"
        },
        "outputId": "524430a2-5e0f-4f02-b755-c7707fe922f3"
      },
      "execution_count": 1,
      "outputs": [
        {
          "output_type": "stream",
          "name": "stdout",
          "text": [
            "Tue Feb 28 03:58:28 2023       \n",
            "+-----------------------------------------------------------------------------+\n",
            "| NVIDIA-SMI 525.85.12    Driver Version: 525.85.12    CUDA Version: 12.0     |\n",
            "|-------------------------------+----------------------+----------------------+\n",
            "| GPU  Name        Persistence-M| Bus-Id        Disp.A | Volatile Uncorr. ECC |\n",
            "| Fan  Temp  Perf  Pwr:Usage/Cap|         Memory-Usage | GPU-Util  Compute M. |\n",
            "|                               |                      |               MIG M. |\n",
            "|===============================+======================+======================|\n",
            "|   0  Tesla T4            Off  | 00000000:00:04.0 Off |                    0 |\n",
            "| N/A   63C    P0    28W /  70W |      0MiB / 15360MiB |      0%      Default |\n",
            "|                               |                      |                  N/A |\n",
            "+-------------------------------+----------------------+----------------------+\n",
            "                                                                               \n",
            "+-----------------------------------------------------------------------------+\n",
            "| Processes:                                                                  |\n",
            "|  GPU   GI   CI        PID   Type   Process name                  GPU Memory |\n",
            "|        ID   ID                                                   Usage      |\n",
            "|=============================================================================|\n",
            "|  No running processes found                                                 |\n",
            "+-----------------------------------------------------------------------------+\n"
          ]
        }
      ]
    },
    {
      "cell_type": "markdown",
      "metadata": {
        "id": "Tm2aXcb-j9Fc"
      },
      "source": [
        "# Download data\n",
        "If the Google Drive links below do not work, you can use the dropbox link below or download data from [Kaggle](https://www.kaggle.com/competitions/ml2023spring-hw1/overview), and upload data manually to the workspace."
      ]
    },
    {
      "cell_type": "code",
      "execution_count": 2,
      "metadata": {
        "id": "YPmfl-awlKZA",
        "colab": {
          "base_uri": "https://localhost:8080/"
        },
        "outputId": "ff40ef24-80b6-4aae-cca6-6b996d7c6eeb"
      },
      "outputs": [
        {
          "output_type": "stream",
          "name": "stdout",
          "text": [
            "--2023-02-28 03:58:29--  https://www.dropbox.com/s/lmy1riadzoy0ahw/covid.train.csv?dl=0\n",
            "Resolving www.dropbox.com (www.dropbox.com)... 162.125.64.18, 2620:100:6031:18::a27d:5112\n",
            "Connecting to www.dropbox.com (www.dropbox.com)|162.125.64.18|:443... connected.\n",
            "HTTP request sent, awaiting response... 302 Found\n",
            "Location: /s/raw/lmy1riadzoy0ahw/covid.train.csv [following]\n",
            "--2023-02-28 03:58:30--  https://www.dropbox.com/s/raw/lmy1riadzoy0ahw/covid.train.csv\n",
            "Reusing existing connection to www.dropbox.com:443.\n",
            "HTTP request sent, awaiting response... 302 Found\n",
            "Location: https://uc32efbcdcf37229c7542a915184.dl.dropboxusercontent.com/cd/0/inline/B3Xl-k0jVZ4gg0hTp-fcULjQS5A9zy63Kx2cLXeBPXhnYK6vrO3rHGzvgzCMy19t33dwsB3cDJSpwC2gvyHVNXAlNWN6_rUbqUwlfwjbncmHh6hDO29o7ENF3kXAV562Fi0MIU0mWjLnpebPdG8a2ctJLAMVG9rHR7RVFF4VQAUI0w/file# [following]\n",
            "--2023-02-28 03:58:30--  https://uc32efbcdcf37229c7542a915184.dl.dropboxusercontent.com/cd/0/inline/B3Xl-k0jVZ4gg0hTp-fcULjQS5A9zy63Kx2cLXeBPXhnYK6vrO3rHGzvgzCMy19t33dwsB3cDJSpwC2gvyHVNXAlNWN6_rUbqUwlfwjbncmHh6hDO29o7ENF3kXAV562Fi0MIU0mWjLnpebPdG8a2ctJLAMVG9rHR7RVFF4VQAUI0w/file\n",
            "Resolving uc32efbcdcf37229c7542a915184.dl.dropboxusercontent.com (uc32efbcdcf37229c7542a915184.dl.dropboxusercontent.com)... 162.125.64.15, 2620:100:6031:15::a27d:510f\n",
            "Connecting to uc32efbcdcf37229c7542a915184.dl.dropboxusercontent.com (uc32efbcdcf37229c7542a915184.dl.dropboxusercontent.com)|162.125.64.15|:443... connected.\n",
            "HTTP request sent, awaiting response... 200 OK\n",
            "Length: 2162766 (2.1M) [text/plain]\n",
            "Saving to: ‘covid_train.csv’\n",
            "\n",
            "covid_train.csv     100%[===================>]   2.06M  1.28MB/s    in 1.6s    \n",
            "\n",
            "2023-02-28 03:58:33 (1.28 MB/s) - ‘covid_train.csv’ saved [2162766/2162766]\n",
            "\n",
            "--2023-02-28 03:58:33--  https://www.dropbox.com/s/zalbw42lu4nmhr2/covid.test.csv?dl=0\n",
            "Resolving www.dropbox.com (www.dropbox.com)... 162.125.69.18, 2620:100:6031:18::a27d:5112\n",
            "Connecting to www.dropbox.com (www.dropbox.com)|162.125.69.18|:443... connected.\n",
            "HTTP request sent, awaiting response... 302 Found\n",
            "Location: /s/raw/zalbw42lu4nmhr2/covid.test.csv [following]\n",
            "--2023-02-28 03:58:34--  https://www.dropbox.com/s/raw/zalbw42lu4nmhr2/covid.test.csv\n",
            "Reusing existing connection to www.dropbox.com:443.\n",
            "HTTP request sent, awaiting response... 302 Found\n",
            "Location: https://uc65a45072e6dca8ce2d22664a15.dl.dropboxusercontent.com/cd/0/inline/B3UYm0PSIkHatpqg3F6LQ_CObGPLD89eGn4lh9ItP2RE-EvZpeIR8fyGneUCxCaJnJKV_PzP4gRMs027tZiACIZCJvs87ZSJLiO2b7HzJa-SLi-bKLn94ketuzgH9gAIHB28NXgTeiY-gmZelrlFGWIHhXmCwaNDfpHrLIG9n2E-kA/file# [following]\n",
            "--2023-02-28 03:58:35--  https://uc65a45072e6dca8ce2d22664a15.dl.dropboxusercontent.com/cd/0/inline/B3UYm0PSIkHatpqg3F6LQ_CObGPLD89eGn4lh9ItP2RE-EvZpeIR8fyGneUCxCaJnJKV_PzP4gRMs027tZiACIZCJvs87ZSJLiO2b7HzJa-SLi-bKLn94ketuzgH9gAIHB28NXgTeiY-gmZelrlFGWIHhXmCwaNDfpHrLIG9n2E-kA/file\n",
            "Resolving uc65a45072e6dca8ce2d22664a15.dl.dropboxusercontent.com (uc65a45072e6dca8ce2d22664a15.dl.dropboxusercontent.com)... 162.125.81.15, 2620:100:6031:15::a27d:510f\n",
            "Connecting to uc65a45072e6dca8ce2d22664a15.dl.dropboxusercontent.com (uc65a45072e6dca8ce2d22664a15.dl.dropboxusercontent.com)|162.125.81.15|:443... connected.\n",
            "HTTP request sent, awaiting response... 200 OK\n",
            "Length: 638359 (623K) [text/plain]\n",
            "Saving to: ‘covid_test.csv’\n",
            "\n",
            "covid_test.csv      100%[===================>] 623.40K  3.98MB/s    in 0.2s    \n",
            "\n",
            "2023-02-28 03:58:35 (3.98 MB/s) - ‘covid_test.csv’ saved [638359/638359]\n",
            "\n"
          ]
        }
      ],
      "source": [
        "# google drive link\n",
        "# !gdown --id '1BjXalPZxq9mybPKNjF3h5L3NcF7XKTS-' --output covid_train.csv\n",
        "# !gdown --id '1B55t74Jg2E5FCsKCsUEkPKIuqaY7UIi1' --output covid_test.csv\n",
        "\n",
        "# dropbox link\n",
        "!wget -O covid_train.csv https://www.dropbox.com/s/lmy1riadzoy0ahw/covid.train.csv?dl=0\n",
        "!wget -O covid_test.csv https://www.dropbox.com/s/zalbw42lu4nmhr2/covid.test.csv?dl=0"
      ]
    },
    {
      "cell_type": "markdown",
      "metadata": {
        "id": "igqIMEgu64-F"
      },
      "source": [
        "# Import packages"
      ]
    },
    {
      "cell_type": "code",
      "execution_count": 3,
      "metadata": {
        "id": "xybQNYCXYu13"
      },
      "outputs": [],
      "source": [
        "# Numerical Operations\n",
        "import math\n",
        "import numpy as np\n",
        "\n",
        "# Reading/Writing Data\n",
        "import pandas as pd\n",
        "import os\n",
        "import csv\n",
        "\n",
        "# For Progress Bar\n",
        "from tqdm import tqdm\n",
        "\n",
        "# Pytorch\n",
        "import torch \n",
        "import torch.nn as nn\n",
        "from torch.utils.data import Dataset, DataLoader, random_split\n",
        "\n",
        "# For plotting learning curve\n",
        "from torch.utils.tensorboard import SummaryWriter"
      ]
    },
    {
      "cell_type": "markdown",
      "source": [
        "# Some Utility Functions\n",
        "\n",
        "You do not need to modify this part."
      ],
      "metadata": {
        "id": "fTAVqRfc2KK3"
      }
    },
    {
      "cell_type": "code",
      "source": [
        "def same_seed(seed): \n",
        "    '''Fixes random number generator seeds for reproducibility.'''\n",
        "    torch.backends.cudnn.deterministic = True\n",
        "    torch.backends.cudnn.benchmark = False\n",
        "    np.random.seed(seed)\n",
        "    torch.manual_seed(seed)\n",
        "    if torch.cuda.is_available():\n",
        "        torch.cuda.manual_seed_all(seed)\n",
        "\n",
        "def train_valid_split(data_set, valid_ratio, seed):\n",
        "    '''Split provided training data into training set and validation set'''\n",
        "    valid_set_size = int(valid_ratio * len(data_set)) \n",
        "    train_set_size = len(data_set) - valid_set_size\n",
        "    train_set, valid_set = random_split(data_set, [train_set_size, valid_set_size], generator=torch.Generator().manual_seed(seed))\n",
        "    return np.array(train_set), np.array(valid_set)\n",
        "\n",
        "def predict(test_loader, model, device):\n",
        "    model.eval() # Set your model to evaluation mode.\n",
        "    preds = []\n",
        "    for x in tqdm(test_loader):\n",
        "        x = x.to(device)                        \n",
        "        with torch.no_grad():                   \n",
        "            pred = model(x)                     \n",
        "            preds.append(pred.detach().cpu())   \n",
        "    preds = torch.cat(preds, dim=0).numpy()  \n",
        "    return preds"
      ],
      "metadata": {
        "id": "RbrcpfYN2I-H"
      },
      "execution_count": 4,
      "outputs": []
    },
    {
      "cell_type": "markdown",
      "metadata": {
        "id": "IqO3lTm78nNO"
      },
      "source": [
        "# Dataset"
      ]
    },
    {
      "cell_type": "code",
      "execution_count": 5,
      "metadata": {
        "id": "-mjaJM0wprMs"
      },
      "outputs": [],
      "source": [
        "class COVID19Dataset(Dataset):\n",
        "    '''\n",
        "    x: Features.\n",
        "    y: Targets, if none, do prediction.\n",
        "    '''\n",
        "    def __init__(self, x, y=None):\n",
        "        if y is None:\n",
        "            self.y = y\n",
        "        else:\n",
        "            self.y = torch.FloatTensor(y)\n",
        "        self.x = torch.FloatTensor(x)\n",
        "\n",
        "    def __getitem__(self, idx):\n",
        "        if self.y is None:\n",
        "            return self.x[idx]\n",
        "        else:\n",
        "            return self.x[idx], self.y[idx]\n",
        "\n",
        "    def __len__(self):\n",
        "        return len(self.x)"
      ]
    },
    {
      "cell_type": "markdown",
      "source": [
        "# Neural Network Model\n",
        "Try out different model architectures by modifying the class below."
      ],
      "metadata": {
        "id": "m73ooU75CL_j"
      }
    },
    {
      "cell_type": "code",
      "execution_count": 6,
      "metadata": {
        "id": "Qn97_WvvrEkG"
      },
      "outputs": [],
      "source": [
        "class My_Model(nn.Module):\n",
        "    def __init__(self, input_dim):\n",
        "        super(My_Model, self).__init__()\n",
        "        # TODO: modify model's structure, be aware of dimensions. \n",
        "        self.layers = nn.Sequential(\n",
        "            nn.Linear(input_dim, 16),\n",
        "            nn.ReLU(),\n",
        "            nn.Linear(16, 8),\n",
        "            nn.ReLU(),\n",
        "            nn.Linear(8, 1)\n",
        "        )\n",
        "\n",
        "    def forward(self, x):\n",
        "        x = self.layers(x)\n",
        "        x = x.squeeze(1) # (B, 1) -> (B)\n",
        "        return x"
      ]
    },
    {
      "cell_type": "markdown",
      "metadata": {
        "id": "x5-LKF6R8xeq"
      },
      "source": [
        "# Feature Selection\n",
        "Choose features you deem useful by modifying the function below."
      ]
    },
    {
      "cell_type": "code",
      "source": [
        "def select_feat(train_data, valid_data, test_data, select_all):\n",
        "    '''Selects useful features to perform regression'''\n",
        "    y_train, y_valid = train_data[:,-1], valid_data[:,-1]\n",
        "    raw_x_train, raw_x_valid, raw_x_test = train_data[:,:-1], valid_data[:,:-1], test_data\n",
        "\n",
        "    if select_all:\n",
        "        feat_idx = list(range(raw_x_train.shape[1]))\n",
        "    else:\n",
        "        # feat_idx = [0,1,2,3,4] # TODO: Select suitable feature columns.\n",
        "        # feat_idx = list(range(int(raw_x_train.shape[1]/2)))\n",
        "        # old_list = list(range(60))\n",
        "        # new_list = list(range(70,88))\n",
        "        # feat_idx = old_list.extend(new_list)\n",
        "        feat_idx = list(range(80))\n",
        "        \n",
        "    return raw_x_train[:,feat_idx], raw_x_valid[:,feat_idx], raw_x_test[:,feat_idx], y_train, y_valid"
      ],
      "metadata": {
        "id": "0FEnKRaIIeKp"
      },
      "execution_count": 7,
      "outputs": []
    },
    {
      "cell_type": "markdown",
      "source": [
        "# Training Loop"
      ],
      "metadata": {
        "id": "kADIPNQ2Ih5X"
      }
    },
    {
      "cell_type": "code",
      "execution_count": 8,
      "metadata": {
        "id": "k4Rq8_TztAhq"
      },
      "outputs": [],
      "source": [
        "def trainer(train_loader, valid_loader, model, config, device):\n",
        "\n",
        "    criterion = nn.MSELoss(reduction='mean') # Define your loss function, do not modify this.\n",
        "\n",
        "    # Define your optimization algorithm. \n",
        "    # TODO: Please check https://pytorch.org/docs/stable/optim.html to get more available algorithms.\n",
        "    # TODO: L2 regularization (optimizer(weight decay...) or implement by your self).\n",
        "    # optimizer = torch.optim.SGD(model.parameters(), lr=config['learning_rate'], momentum=0.7) \n",
        "    optimizer = torch.optim.Adagrad(model.parameters(), lr=config['learning_rate'], weight_decay=config['weight_decay'], foreach=config['foreach'])\n",
        "    writer = SummaryWriter() # Writer of tensoboard.\n",
        "\n",
        "    if not os.path.isdir('./models'):\n",
        "        os.mkdir('./models') # Create directory of saving models.\n",
        "\n",
        "    n_epochs, best_loss, step, early_stop_count = config['n_epochs'], math.inf, 0, 0\n",
        "\n",
        "    for epoch in range(n_epochs):\n",
        "        model.train() # Set your model to train mode.\n",
        "        loss_record = []\n",
        "\n",
        "        # tqdm is a package to visualize your training progress.\n",
        "        train_pbar = tqdm(train_loader, position=0, leave=True)\n",
        "\n",
        "        for x, y in train_pbar:\n",
        "            optimizer.zero_grad()               # Set gradient to zero.\n",
        "            x, y = x.to(device), y.to(device)   # Move your data to device. \n",
        "            pred = model(x)             \n",
        "            loss = criterion(pred, y)\n",
        "            loss.backward()                     # Compute gradient(backpropagation).\n",
        "            optimizer.step()                    # Update parameters.\n",
        "            step += 1\n",
        "            loss_record.append(loss.detach().item())\n",
        "            \n",
        "            # Display current epoch number and loss on tqdm progress bar.\n",
        "            train_pbar.set_description(f'Epoch [{epoch+1}/{n_epochs}]')\n",
        "            train_pbar.set_postfix({'loss': loss.detach().item()})\n",
        "\n",
        "        mean_train_loss = sum(loss_record)/len(loss_record)\n",
        "        writer.add_scalar('Loss/train', mean_train_loss, step)\n",
        "\n",
        "        model.eval() # Set your model to evaluation mode.\n",
        "        loss_record = []\n",
        "        for x, y in valid_loader:\n",
        "            x, y = x.to(device), y.to(device)\n",
        "            with torch.no_grad():\n",
        "                pred = model(x)\n",
        "                loss = criterion(pred, y)\n",
        "\n",
        "            loss_record.append(loss.item())\n",
        "            \n",
        "        mean_valid_loss = sum(loss_record)/len(loss_record)\n",
        "        print(f'Epoch [{epoch+1}/{n_epochs}]: Train loss: {mean_train_loss:.4f}, Valid loss: {mean_valid_loss:.4f}')\n",
        "        # writer.add_scalar('Loss/valid', mean_valid_loss, step)\n",
        "\n",
        "        if mean_valid_loss < best_loss:\n",
        "            best_loss = mean_valid_loss\n",
        "            torch.save(model.state_dict(), config['save_path']) # Save your best model\n",
        "            print('Saving model with loss {:.3f}...'.format(best_loss))\n",
        "            early_stop_count = 0\n",
        "        else: \n",
        "            early_stop_count += 1\n",
        "\n",
        "        if early_stop_count >= config['early_stop']:\n",
        "            print('\\nModel is not improving, so we halt the training session.')\n",
        "            return"
      ]
    },
    {
      "cell_type": "markdown",
      "metadata": {
        "id": "0pgkOh2e9UjE"
      },
      "source": [
        "# Configurations\n",
        "`config` contains hyper-parameters for training and the path to save your model."
      ]
    },
    {
      "cell_type": "code",
      "execution_count": 9,
      "metadata": {
        "id": "QoWPUahCtoT6"
      },
      "outputs": [],
      "source": [
        "device = 'cuda' if torch.cuda.is_available() else 'cpu'\n",
        "config = {\n",
        "    'seed': 619136,      # Your seed number, you can pick your lucky number. :)\n",
        "    'select_all': False,   # Whether to use all features.\n",
        "    'valid_ratio': 0.2,   # validation_size = train_size * valid_ratio\n",
        "    'n_epochs': 8000,     # Number of epochs.            \n",
        "    'batch_size': 128, \n",
        "    'learning_rate': 1e-5,\n",
        "    'lr_decay':0,\n",
        "    'weight_decay':0.1,\n",
        "    'foreach': True,\n",
        "    'early_stop': 600,    # If model has not improved for this many consecutive epochs, stop training.     \n",
        "    'save_path': './models/model.ckpt'  # Your model will be saved here.\n",
        "}\n"
      ]
    },
    {
      "cell_type": "markdown",
      "metadata": {
        "id": "lrS-aJJh9XkW"
      },
      "source": [
        "# Dataloader\n",
        "Read data from files and set up training, validation, and testing sets. You do not need to modify this part."
      ]
    },
    {
      "cell_type": "code",
      "execution_count": 10,
      "metadata": {
        "id": "2jc7ZfDot2t9",
        "colab": {
          "base_uri": "https://localhost:8080/"
        },
        "outputId": "335ee0ce-511b-4e40-9e9e-456737e4838a"
      },
      "outputs": [
        {
          "output_type": "stream",
          "name": "stdout",
          "text": [
            "train_data size: (2408, 89) \n",
            "valid_data size: (601, 89) \n",
            "test_data size: (997, 88)\n",
            "number of features: 80\n"
          ]
        }
      ],
      "source": [
        "same_seed(config['seed'])\n",
        "train_data, test_data = pd.read_csv('./covid_train.csv').values, pd.read_csv('./covid_test.csv').values\n",
        "train_data, valid_data = train_valid_split(train_data, config['valid_ratio'], config['seed'])\n",
        "\n",
        "# Print out the data size.\n",
        "print(f\"\"\"train_data size: {train_data.shape} \n",
        "valid_data size: {valid_data.shape} \n",
        "test_data size: {test_data.shape}\"\"\")\n",
        "\n",
        "# Select features\n",
        "x_train, x_valid, x_test, y_train, y_valid = select_feat(train_data, valid_data, test_data, config['select_all'])\n",
        "\n",
        "# Print out the number of features.\n",
        "print(f'number of features: {x_train.shape[1]}')\n",
        "\n",
        "train_dataset, valid_dataset, test_dataset = COVID19Dataset(x_train, y_train), \\\n",
        "                                            COVID19Dataset(x_valid, y_valid), \\\n",
        "                                            COVID19Dataset(x_test)\n",
        "\n",
        "# Pytorch data loader loads pytorch dataset into batches.\n",
        "train_loader = DataLoader(train_dataset, batch_size=config['batch_size'], shuffle=True, pin_memory=True)\n",
        "valid_loader = DataLoader(valid_dataset, batch_size=config['batch_size'], shuffle=True, pin_memory=True)\n",
        "test_loader = DataLoader(test_dataset, batch_size=config['batch_size'], shuffle=False, pin_memory=True)"
      ]
    },
    {
      "cell_type": "markdown",
      "metadata": {
        "id": "0OBYgjCA-YwD"
      },
      "source": [
        "# Start training!"
      ]
    },
    {
      "cell_type": "code",
      "execution_count": null,
      "metadata": {
        "id": "YdttVRkAfu2t",
        "colab": {
          "base_uri": "https://localhost:8080/"
        },
        "outputId": "fe72ceee-623f-41f0-d7f6-a4fa85fb282b"
      },
      "outputs": [
        {
          "output_type": "stream",
          "name": "stderr",
          "text": [
            "Epoch [1/8000]: 100%|██████████| 19/19 [00:02<00:00,  6.36it/s, loss=1.37e+3]\n"
          ]
        },
        {
          "output_type": "stream",
          "name": "stdout",
          "text": [
            "Epoch [1/8000]: Train loss: 1278.9847, Valid loss: 1175.4054\n",
            "Saving model with loss 1175.405...\n"
          ]
        },
        {
          "output_type": "stream",
          "name": "stderr",
          "text": [
            "Epoch [2/8000]: 100%|██████████| 19/19 [00:00<00:00, 59.18it/s, loss=983]\n"
          ]
        },
        {
          "output_type": "stream",
          "name": "stdout",
          "text": [
            "Epoch [2/8000]: Train loss: 1269.9575, Valid loss: 1162.4021\n",
            "Saving model with loss 1162.402...\n"
          ]
        },
        {
          "output_type": "stream",
          "name": "stderr",
          "text": [
            "Epoch [3/8000]: 100%|██████████| 19/19 [00:00<00:00, 65.44it/s, loss=1.27e+3]\n"
          ]
        },
        {
          "output_type": "stream",
          "name": "stdout",
          "text": [
            "Epoch [3/8000]: Train loss: 1269.3818, Valid loss: 1160.0788\n",
            "Saving model with loss 1160.079...\n"
          ]
        },
        {
          "output_type": "stream",
          "name": "stderr",
          "text": [
            "Epoch [4/8000]: 100%|██████████| 19/19 [00:00<00:00, 81.74it/s, loss=1.52e+3]\n"
          ]
        },
        {
          "output_type": "stream",
          "name": "stdout",
          "text": [
            "Epoch [4/8000]: Train loss: 1269.0897, Valid loss: 1165.1309\n"
          ]
        },
        {
          "output_type": "stream",
          "name": "stderr",
          "text": [
            "Epoch [5/8000]: 100%|██████████| 19/19 [00:00<00:00, 104.41it/s, loss=1.19e+3]\n"
          ]
        },
        {
          "output_type": "stream",
          "name": "stdout",
          "text": [
            "Epoch [5/8000]: Train loss: 1263.4472, Valid loss: 1153.9940\n",
            "Saving model with loss 1153.994...\n"
          ]
        },
        {
          "output_type": "stream",
          "name": "stderr",
          "text": [
            "Epoch [6/8000]: 100%|██████████| 19/19 [00:00<00:00, 88.41it/s, loss=1.38e+3]\n"
          ]
        },
        {
          "output_type": "stream",
          "name": "stdout",
          "text": [
            "Epoch [6/8000]: Train loss: 1263.2220, Valid loss: 1157.2679\n"
          ]
        },
        {
          "output_type": "stream",
          "name": "stderr",
          "text": [
            "Epoch [7/8000]: 100%|██████████| 19/19 [00:00<00:00, 70.73it/s, loss=1.45e+3]\n"
          ]
        },
        {
          "output_type": "stream",
          "name": "stdout",
          "text": [
            "Epoch [7/8000]: Train loss: 1262.0633, Valid loss: 1158.0534\n"
          ]
        },
        {
          "output_type": "stream",
          "name": "stderr",
          "text": [
            "Epoch [8/8000]: 100%|██████████| 19/19 [00:00<00:00, 62.69it/s, loss=1.24e+3]\n"
          ]
        },
        {
          "output_type": "stream",
          "name": "stdout",
          "text": [
            "Epoch [8/8000]: Train loss: 1258.1937, Valid loss: 1152.0058\n",
            "Saving model with loss 1152.006...\n"
          ]
        },
        {
          "output_type": "stream",
          "name": "stderr",
          "text": [
            "Epoch [9/8000]: 100%|██████████| 19/19 [00:00<00:00, 93.80it/s, loss=1.26e+3] \n"
          ]
        },
        {
          "output_type": "stream",
          "name": "stdout",
          "text": [
            "Epoch [9/8000]: Train loss: 1256.7210, Valid loss: 1139.5711\n",
            "Saving model with loss 1139.571...\n"
          ]
        },
        {
          "output_type": "stream",
          "name": "stderr",
          "text": [
            "Epoch [10/8000]: 100%|██████████| 19/19 [00:00<00:00, 93.16it/s, loss=1.22e+3]\n"
          ]
        },
        {
          "output_type": "stream",
          "name": "stdout",
          "text": [
            "Epoch [10/8000]: Train loss: 1254.7014, Valid loss: 1145.8489\n"
          ]
        },
        {
          "output_type": "stream",
          "name": "stderr",
          "text": [
            "Epoch [11/8000]: 100%|██████████| 19/19 [00:00<00:00, 79.76it/s, loss=1.26e+3]\n"
          ]
        },
        {
          "output_type": "stream",
          "name": "stdout",
          "text": [
            "Epoch [11/8000]: Train loss: 1253.6990, Valid loss: 1147.9130\n"
          ]
        },
        {
          "output_type": "stream",
          "name": "stderr",
          "text": [
            "Epoch [12/8000]: 100%|██████████| 19/19 [00:00<00:00, 76.47it/s, loss=1.35e+3]\n"
          ]
        },
        {
          "output_type": "stream",
          "name": "stdout",
          "text": [
            "Epoch [12/8000]: Train loss: 1253.0868, Valid loss: 1150.5716\n"
          ]
        },
        {
          "output_type": "stream",
          "name": "stderr",
          "text": [
            "Epoch [13/8000]: 100%|██████████| 19/19 [00:00<00:00, 116.83it/s, loss=1.38e+3]\n"
          ]
        },
        {
          "output_type": "stream",
          "name": "stdout",
          "text": [
            "Epoch [13/8000]: Train loss: 1252.0919, Valid loss: 1137.0953\n",
            "Saving model with loss 1137.095...\n"
          ]
        },
        {
          "output_type": "stream",
          "name": "stderr",
          "text": [
            "Epoch [14/8000]: 100%|██████████| 19/19 [00:00<00:00, 123.85it/s, loss=1.3e+3]\n"
          ]
        },
        {
          "output_type": "stream",
          "name": "stdout",
          "text": [
            "Epoch [14/8000]: Train loss: 1249.9949, Valid loss: 1143.2857\n"
          ]
        },
        {
          "output_type": "stream",
          "name": "stderr",
          "text": [
            "Epoch [15/8000]: 100%|██████████| 19/19 [00:00<00:00, 127.69it/s, loss=1.17e+3]\n"
          ]
        },
        {
          "output_type": "stream",
          "name": "stdout",
          "text": [
            "Epoch [15/8000]: Train loss: 1247.4576, Valid loss: 1145.8469\n"
          ]
        },
        {
          "output_type": "stream",
          "name": "stderr",
          "text": [
            "Epoch [16/8000]: 100%|██████████| 19/19 [00:00<00:00, 122.03it/s, loss=1.18e+3]\n"
          ]
        },
        {
          "output_type": "stream",
          "name": "stdout",
          "text": [
            "Epoch [16/8000]: Train loss: 1246.3388, Valid loss: 1134.6898\n",
            "Saving model with loss 1134.690...\n"
          ]
        },
        {
          "output_type": "stream",
          "name": "stderr",
          "text": [
            "Epoch [17/8000]: 100%|██████████| 19/19 [00:00<00:00, 118.40it/s, loss=1.21e+3]\n"
          ]
        },
        {
          "output_type": "stream",
          "name": "stdout",
          "text": [
            "Epoch [17/8000]: Train loss: 1245.4793, Valid loss: 1136.9356\n"
          ]
        },
        {
          "output_type": "stream",
          "name": "stderr",
          "text": [
            "Epoch [18/8000]: 100%|██████████| 19/19 [00:00<00:00, 123.20it/s, loss=1.25e+3]\n"
          ]
        },
        {
          "output_type": "stream",
          "name": "stdout",
          "text": [
            "Epoch [18/8000]: Train loss: 1244.7108, Valid loss: 1140.2340\n"
          ]
        },
        {
          "output_type": "stream",
          "name": "stderr",
          "text": [
            "Epoch [19/8000]: 100%|██████████| 19/19 [00:00<00:00, 121.74it/s, loss=1.33e+3]\n"
          ]
        },
        {
          "output_type": "stream",
          "name": "stdout",
          "text": [
            "Epoch [19/8000]: Train loss: 1244.4736, Valid loss: 1139.8362\n"
          ]
        },
        {
          "output_type": "stream",
          "name": "stderr",
          "text": [
            "Epoch [20/8000]: 100%|██████████| 19/19 [00:00<00:00, 127.83it/s, loss=1.15e+3]\n"
          ]
        },
        {
          "output_type": "stream",
          "name": "stdout",
          "text": [
            "Epoch [20/8000]: Train loss: 1241.5596, Valid loss: 1136.7029\n"
          ]
        },
        {
          "output_type": "stream",
          "name": "stderr",
          "text": [
            "Epoch [21/8000]: 100%|██████████| 19/19 [00:00<00:00, 118.33it/s, loss=1.28e+3]\n"
          ]
        },
        {
          "output_type": "stream",
          "name": "stdout",
          "text": [
            "Epoch [21/8000]: Train loss: 1241.8459, Valid loss: 1120.7494\n",
            "Saving model with loss 1120.749...\n"
          ]
        },
        {
          "output_type": "stream",
          "name": "stderr",
          "text": [
            "Epoch [22/8000]: 100%|██████████| 19/19 [00:00<00:00, 113.18it/s, loss=1.11e+3]\n"
          ]
        },
        {
          "output_type": "stream",
          "name": "stdout",
          "text": [
            "Epoch [22/8000]: Train loss: 1239.1703, Valid loss: 1125.8201\n"
          ]
        },
        {
          "output_type": "stream",
          "name": "stderr",
          "text": [
            "Epoch [23/8000]: 100%|██████████| 19/19 [00:00<00:00, 121.36it/s, loss=1.18e+3]\n"
          ]
        },
        {
          "output_type": "stream",
          "name": "stdout",
          "text": [
            "Epoch [23/8000]: Train loss: 1238.8756, Valid loss: 1130.8549\n"
          ]
        },
        {
          "output_type": "stream",
          "name": "stderr",
          "text": [
            "Epoch [24/8000]: 100%|██████████| 19/19 [00:00<00:00, 125.10it/s, loss=1.57e+3]\n"
          ]
        },
        {
          "output_type": "stream",
          "name": "stdout",
          "text": [
            "Epoch [24/8000]: Train loss: 1241.7137, Valid loss: 1126.7528\n"
          ]
        },
        {
          "output_type": "stream",
          "name": "stderr",
          "text": [
            "Epoch [25/8000]: 100%|██████████| 19/19 [00:00<00:00, 120.63it/s, loss=1.03e+3]\n"
          ]
        },
        {
          "output_type": "stream",
          "name": "stdout",
          "text": [
            "Epoch [25/8000]: Train loss: 1235.4039, Valid loss: 1130.1131\n"
          ]
        },
        {
          "output_type": "stream",
          "name": "stderr",
          "text": [
            "Epoch [26/8000]: 100%|██████████| 19/19 [00:00<00:00, 124.46it/s, loss=1.08e+3]\n"
          ]
        },
        {
          "output_type": "stream",
          "name": "stdout",
          "text": [
            "Epoch [26/8000]: Train loss: 1235.0195, Valid loss: 1134.6446\n"
          ]
        },
        {
          "output_type": "stream",
          "name": "stderr",
          "text": [
            "Epoch [27/8000]: 100%|██████████| 19/19 [00:00<00:00, 116.28it/s, loss=1.08e+3]\n"
          ]
        },
        {
          "output_type": "stream",
          "name": "stdout",
          "text": [
            "Epoch [27/8000]: Train loss: 1234.1523, Valid loss: 1123.4688\n"
          ]
        },
        {
          "output_type": "stream",
          "name": "stderr",
          "text": [
            "Epoch [28/8000]: 100%|██████████| 19/19 [00:00<00:00, 116.34it/s, loss=1.12e+3]\n"
          ]
        },
        {
          "output_type": "stream",
          "name": "stdout",
          "text": [
            "Epoch [28/8000]: Train loss: 1233.5866, Valid loss: 1117.6540\n",
            "Saving model with loss 1117.654...\n"
          ]
        },
        {
          "output_type": "stream",
          "name": "stderr",
          "text": [
            "Epoch [29/8000]: 100%|██████████| 19/19 [00:00<00:00, 124.30it/s, loss=1.4e+3]\n"
          ]
        },
        {
          "output_type": "stream",
          "name": "stdout",
          "text": [
            "Epoch [29/8000]: Train loss: 1235.5375, Valid loss: 1126.3373\n"
          ]
        },
        {
          "output_type": "stream",
          "name": "stderr",
          "text": [
            "Epoch [30/8000]: 100%|██████████| 19/19 [00:00<00:00, 126.02it/s, loss=1.32e+3]\n"
          ]
        },
        {
          "output_type": "stream",
          "name": "stdout",
          "text": [
            "Epoch [30/8000]: Train loss: 1233.8562, Valid loss: 1130.6508\n"
          ]
        },
        {
          "output_type": "stream",
          "name": "stderr",
          "text": [
            "Epoch [31/8000]: 100%|██████████| 19/19 [00:00<00:00, 128.44it/s, loss=1.11e+3]\n"
          ]
        },
        {
          "output_type": "stream",
          "name": "stdout",
          "text": [
            "Epoch [31/8000]: Train loss: 1230.9882, Valid loss: 1131.5574\n"
          ]
        },
        {
          "output_type": "stream",
          "name": "stderr",
          "text": [
            "Epoch [32/8000]: 100%|██████████| 19/19 [00:00<00:00, 131.82it/s, loss=1.11e+3]\n"
          ]
        },
        {
          "output_type": "stream",
          "name": "stdout",
          "text": [
            "Epoch [32/8000]: Train loss: 1230.0813, Valid loss: 1121.3201\n"
          ]
        },
        {
          "output_type": "stream",
          "name": "stderr",
          "text": [
            "Epoch [33/8000]: 100%|██████████| 19/19 [00:00<00:00, 129.12it/s, loss=1.09e+3]\n"
          ]
        },
        {
          "output_type": "stream",
          "name": "stdout",
          "text": [
            "Epoch [33/8000]: Train loss: 1229.0558, Valid loss: 1126.9039\n"
          ]
        },
        {
          "output_type": "stream",
          "name": "stderr",
          "text": [
            "Epoch [34/8000]: 100%|██████████| 19/19 [00:00<00:00, 121.68it/s, loss=1.31e+3]\n"
          ]
        },
        {
          "output_type": "stream",
          "name": "stdout",
          "text": [
            "Epoch [34/8000]: Train loss: 1230.5199, Valid loss: 1121.6169\n"
          ]
        },
        {
          "output_type": "stream",
          "name": "stderr",
          "text": [
            "Epoch [35/8000]: 100%|██████████| 19/19 [00:00<00:00, 135.93it/s, loss=1.22e+3]\n"
          ]
        },
        {
          "output_type": "stream",
          "name": "stdout",
          "text": [
            "Epoch [35/8000]: Train loss: 1228.7799, Valid loss: 1117.5654\n",
            "Saving model with loss 1117.565...\n"
          ]
        },
        {
          "output_type": "stream",
          "name": "stderr",
          "text": [
            "Epoch [36/8000]: 100%|██████████| 19/19 [00:00<00:00, 113.49it/s, loss=1.03e+3]\n"
          ]
        },
        {
          "output_type": "stream",
          "name": "stdout",
          "text": [
            "Epoch [36/8000]: Train loss: 1226.1631, Valid loss: 1110.8850\n",
            "Saving model with loss 1110.885...\n"
          ]
        },
        {
          "output_type": "stream",
          "name": "stderr",
          "text": [
            "Epoch [37/8000]: 100%|██████████| 19/19 [00:00<00:00, 119.84it/s, loss=1.13e+3]\n"
          ]
        },
        {
          "output_type": "stream",
          "name": "stdout",
          "text": [
            "Epoch [37/8000]: Train loss: 1226.3914, Valid loss: 1123.8349\n"
          ]
        },
        {
          "output_type": "stream",
          "name": "stderr",
          "text": [
            "Epoch [38/8000]: 100%|██████████| 19/19 [00:00<00:00, 104.09it/s, loss=1.39e+3]\n"
          ]
        },
        {
          "output_type": "stream",
          "name": "stdout",
          "text": [
            "Epoch [38/8000]: Train loss: 1228.2103, Valid loss: 1117.9611\n"
          ]
        },
        {
          "output_type": "stream",
          "name": "stderr",
          "text": [
            "Epoch [39/8000]: 100%|██████████| 19/19 [00:00<00:00, 127.92it/s, loss=1.26e+3]\n"
          ]
        },
        {
          "output_type": "stream",
          "name": "stdout",
          "text": [
            "Epoch [39/8000]: Train loss: 1226.1471, Valid loss: 1127.2855\n"
          ]
        },
        {
          "output_type": "stream",
          "name": "stderr",
          "text": [
            "Epoch [40/8000]: 100%|██████████| 19/19 [00:00<00:00, 127.63it/s, loss=1.12e+3]\n"
          ]
        },
        {
          "output_type": "stream",
          "name": "stdout",
          "text": [
            "Epoch [40/8000]: Train loss: 1224.0222, Valid loss: 1121.9267\n"
          ]
        },
        {
          "output_type": "stream",
          "name": "stderr",
          "text": [
            "Epoch [41/8000]: 100%|██████████| 19/19 [00:00<00:00, 115.66it/s, loss=1.32e+3]\n"
          ]
        },
        {
          "output_type": "stream",
          "name": "stdout",
          "text": [
            "Epoch [41/8000]: Train loss: 1225.2555, Valid loss: 1114.3479\n"
          ]
        },
        {
          "output_type": "stream",
          "name": "stderr",
          "text": [
            "Epoch [42/8000]: 100%|██████████| 19/19 [00:00<00:00, 122.85it/s, loss=1.21e+3]\n"
          ]
        },
        {
          "output_type": "stream",
          "name": "stdout",
          "text": [
            "Epoch [42/8000]: Train loss: 1223.4479, Valid loss: 1114.4925\n"
          ]
        },
        {
          "output_type": "stream",
          "name": "stderr",
          "text": [
            "Epoch [43/8000]: 100%|██████████| 19/19 [00:00<00:00, 131.94it/s, loss=1.17e+3]\n"
          ]
        },
        {
          "output_type": "stream",
          "name": "stdout",
          "text": [
            "Epoch [43/8000]: Train loss: 1222.3740, Valid loss: 1116.3934\n"
          ]
        },
        {
          "output_type": "stream",
          "name": "stderr",
          "text": [
            "Epoch [44/8000]: 100%|██████████| 19/19 [00:00<00:00, 138.30it/s, loss=1.1e+3]\n"
          ]
        },
        {
          "output_type": "stream",
          "name": "stdout",
          "text": [
            "Epoch [44/8000]: Train loss: 1220.9765, Valid loss: 1107.1764\n",
            "Saving model with loss 1107.176...\n"
          ]
        },
        {
          "output_type": "stream",
          "name": "stderr",
          "text": [
            "Epoch [45/8000]: 100%|██████████| 19/19 [00:00<00:00, 133.05it/s, loss=1.32e+3]\n"
          ]
        },
        {
          "output_type": "stream",
          "name": "stdout",
          "text": [
            "Epoch [45/8000]: Train loss: 1222.4703, Valid loss: 1119.2681\n"
          ]
        },
        {
          "output_type": "stream",
          "name": "stderr",
          "text": [
            "Epoch [46/8000]: 100%|██████████| 19/19 [00:00<00:00, 133.71it/s, loss=1.15e+3]\n"
          ]
        },
        {
          "output_type": "stream",
          "name": "stdout",
          "text": [
            "Epoch [46/8000]: Train loss: 1220.0924, Valid loss: 1119.0270\n"
          ]
        },
        {
          "output_type": "stream",
          "name": "stderr",
          "text": [
            "Epoch [47/8000]: 100%|██████████| 19/19 [00:00<00:00, 140.19it/s, loss=1.22e+3]\n"
          ]
        },
        {
          "output_type": "stream",
          "name": "stdout",
          "text": [
            "Epoch [47/8000]: Train loss: 1220.1490, Valid loss: 1112.1968\n"
          ]
        },
        {
          "output_type": "stream",
          "name": "stderr",
          "text": [
            "Epoch [48/8000]: 100%|██████████| 19/19 [00:00<00:00, 145.26it/s, loss=1.13e+3]\n"
          ]
        },
        {
          "output_type": "stream",
          "name": "stdout",
          "text": [
            "Epoch [48/8000]: Train loss: 1218.5695, Valid loss: 1105.7636\n",
            "Saving model with loss 1105.764...\n"
          ]
        },
        {
          "output_type": "stream",
          "name": "stderr",
          "text": [
            "Epoch [49/8000]: 100%|██████████| 19/19 [00:00<00:00, 139.53it/s, loss=1.15e+3]\n"
          ]
        },
        {
          "output_type": "stream",
          "name": "stdout",
          "text": [
            "Epoch [49/8000]: Train loss: 1218.1275, Valid loss: 1108.1367\n"
          ]
        },
        {
          "output_type": "stream",
          "name": "stderr",
          "text": [
            "Epoch [50/8000]: 100%|██████████| 19/19 [00:00<00:00, 142.90it/s, loss=1.04e+3]\n"
          ]
        },
        {
          "output_type": "stream",
          "name": "stdout",
          "text": [
            "Epoch [50/8000]: Train loss: 1216.3454, Valid loss: 1110.8149\n"
          ]
        },
        {
          "output_type": "stream",
          "name": "stderr",
          "text": [
            "Epoch [51/8000]: 100%|██████████| 19/19 [00:00<00:00, 139.40it/s, loss=1.19e+3]\n"
          ]
        },
        {
          "output_type": "stream",
          "name": "stdout",
          "text": [
            "Epoch [51/8000]: Train loss: 1217.2112, Valid loss: 1111.4815\n"
          ]
        },
        {
          "output_type": "stream",
          "name": "stderr",
          "text": [
            "Epoch [52/8000]: 100%|██████████| 19/19 [00:00<00:00, 133.77it/s, loss=1.28e+3]\n"
          ]
        },
        {
          "output_type": "stream",
          "name": "stdout",
          "text": [
            "Epoch [52/8000]: Train loss: 1217.4211, Valid loss: 1104.7262\n",
            "Saving model with loss 1104.726...\n"
          ]
        },
        {
          "output_type": "stream",
          "name": "stderr",
          "text": [
            "Epoch [53/8000]: 100%|██████████| 19/19 [00:00<00:00, 122.36it/s, loss=1.29e+3]\n"
          ]
        },
        {
          "output_type": "stream",
          "name": "stdout",
          "text": [
            "Epoch [53/8000]: Train loss: 1216.8927, Valid loss: 1107.6926\n"
          ]
        },
        {
          "output_type": "stream",
          "name": "stderr",
          "text": [
            "Epoch [54/8000]: 100%|██████████| 19/19 [00:00<00:00, 128.57it/s, loss=1.1e+3]\n"
          ]
        },
        {
          "output_type": "stream",
          "name": "stdout",
          "text": [
            "Epoch [54/8000]: Train loss: 1214.3859, Valid loss: 1109.2509\n"
          ]
        },
        {
          "output_type": "stream",
          "name": "stderr",
          "text": [
            "Epoch [55/8000]: 100%|██████████| 19/19 [00:00<00:00, 136.86it/s, loss=1.35e+3]\n"
          ]
        },
        {
          "output_type": "stream",
          "name": "stdout",
          "text": [
            "Epoch [55/8000]: Train loss: 1216.2334, Valid loss: 1107.7212\n"
          ]
        },
        {
          "output_type": "stream",
          "name": "stderr",
          "text": [
            "Epoch [56/8000]: 100%|██████████| 19/19 [00:00<00:00, 126.85it/s, loss=1.35e+3]\n"
          ]
        },
        {
          "output_type": "stream",
          "name": "stdout",
          "text": [
            "Epoch [56/8000]: Train loss: 1215.6133, Valid loss: 1116.4974\n"
          ]
        },
        {
          "output_type": "stream",
          "name": "stderr",
          "text": [
            "Epoch [57/8000]: 100%|██████████| 19/19 [00:00<00:00, 129.30it/s, loss=1.32e+3]\n"
          ]
        },
        {
          "output_type": "stream",
          "name": "stdout",
          "text": [
            "Epoch [57/8000]: Train loss: 1214.7249, Valid loss: 1117.4161\n"
          ]
        },
        {
          "output_type": "stream",
          "name": "stderr",
          "text": [
            "Epoch [58/8000]: 100%|██████████| 19/19 [00:00<00:00, 141.45it/s, loss=1.26e+3]\n"
          ]
        },
        {
          "output_type": "stream",
          "name": "stdout",
          "text": [
            "Epoch [58/8000]: Train loss: 1213.4841, Valid loss: 1108.9343\n"
          ]
        },
        {
          "output_type": "stream",
          "name": "stderr",
          "text": [
            "Epoch [59/8000]: 100%|██████████| 19/19 [00:00<00:00, 122.71it/s, loss=1.07e+3]\n"
          ]
        },
        {
          "output_type": "stream",
          "name": "stdout",
          "text": [
            "Epoch [59/8000]: Train loss: 1211.0523, Valid loss: 1111.7470\n"
          ]
        },
        {
          "output_type": "stream",
          "name": "stderr",
          "text": [
            "Epoch [60/8000]: 100%|██████████| 19/19 [00:00<00:00, 132.27it/s, loss=1.21e+3]\n"
          ]
        },
        {
          "output_type": "stream",
          "name": "stdout",
          "text": [
            "Epoch [60/8000]: Train loss: 1211.7992, Valid loss: 1108.1976\n"
          ]
        },
        {
          "output_type": "stream",
          "name": "stderr",
          "text": [
            "Epoch [61/8000]: 100%|██████████| 19/19 [00:00<00:00, 138.20it/s, loss=1.12e+3]\n"
          ]
        },
        {
          "output_type": "stream",
          "name": "stdout",
          "text": [
            "Epoch [61/8000]: Train loss: 1210.3879, Valid loss: 1113.9371\n"
          ]
        },
        {
          "output_type": "stream",
          "name": "stderr",
          "text": [
            "Epoch [62/8000]: 100%|██████████| 19/19 [00:00<00:00, 137.84it/s, loss=1.27e+3]\n"
          ]
        },
        {
          "output_type": "stream",
          "name": "stdout",
          "text": [
            "Epoch [62/8000]: Train loss: 1211.2481, Valid loss: 1113.9820\n"
          ]
        },
        {
          "output_type": "stream",
          "name": "stderr",
          "text": [
            "Epoch [63/8000]: 100%|██████████| 19/19 [00:00<00:00, 139.03it/s, loss=1.22e+3]\n"
          ]
        },
        {
          "output_type": "stream",
          "name": "stdout",
          "text": [
            "Epoch [63/8000]: Train loss: 1210.2146, Valid loss: 1100.8551\n",
            "Saving model with loss 1100.855...\n"
          ]
        },
        {
          "output_type": "stream",
          "name": "stderr",
          "text": [
            "Epoch [64/8000]: 100%|██████████| 19/19 [00:00<00:00, 139.37it/s, loss=1.02e+3]\n"
          ]
        },
        {
          "output_type": "stream",
          "name": "stdout",
          "text": [
            "Epoch [64/8000]: Train loss: 1207.6218, Valid loss: 1107.4913\n"
          ]
        },
        {
          "output_type": "stream",
          "name": "stderr",
          "text": [
            "Epoch [65/8000]: 100%|██████████| 19/19 [00:00<00:00, 134.95it/s, loss=1.07e+3]\n"
          ]
        },
        {
          "output_type": "stream",
          "name": "stdout",
          "text": [
            "Epoch [65/8000]: Train loss: 1207.6137, Valid loss: 1110.1924\n"
          ]
        },
        {
          "output_type": "stream",
          "name": "stderr",
          "text": [
            "Epoch [66/8000]: 100%|██████████| 19/19 [00:00<00:00, 128.49it/s, loss=1.22e+3]\n"
          ]
        },
        {
          "output_type": "stream",
          "name": "stdout",
          "text": [
            "Epoch [66/8000]: Train loss: 1208.5387, Valid loss: 1110.2183\n"
          ]
        },
        {
          "output_type": "stream",
          "name": "stderr",
          "text": [
            "Epoch [67/8000]: 100%|██████████| 19/19 [00:00<00:00, 119.94it/s, loss=1.19e+3]\n"
          ]
        },
        {
          "output_type": "stream",
          "name": "stdout",
          "text": [
            "Epoch [67/8000]: Train loss: 1207.6725, Valid loss: 1098.6914\n",
            "Saving model with loss 1098.691...\n"
          ]
        },
        {
          "output_type": "stream",
          "name": "stderr",
          "text": [
            "Epoch [68/8000]: 100%|██████████| 19/19 [00:00<00:00, 126.00it/s, loss=1.31e+3]\n"
          ]
        },
        {
          "output_type": "stream",
          "name": "stdout",
          "text": [
            "Epoch [68/8000]: Train loss: 1208.2654, Valid loss: 1106.3935\n"
          ]
        },
        {
          "output_type": "stream",
          "name": "stderr",
          "text": [
            "Epoch [69/8000]: 100%|██████████| 19/19 [00:00<00:00, 115.71it/s, loss=1.19e+3]\n"
          ]
        },
        {
          "output_type": "stream",
          "name": "stdout",
          "text": [
            "Epoch [69/8000]: Train loss: 1206.5006, Valid loss: 1105.4224\n"
          ]
        },
        {
          "output_type": "stream",
          "name": "stderr",
          "text": [
            "Epoch [70/8000]: 100%|██████████| 19/19 [00:00<00:00, 139.57it/s, loss=1.34e+3]\n"
          ]
        },
        {
          "output_type": "stream",
          "name": "stdout",
          "text": [
            "Epoch [70/8000]: Train loss: 1207.4429, Valid loss: 1102.9678\n"
          ]
        },
        {
          "output_type": "stream",
          "name": "stderr",
          "text": [
            "Epoch [71/8000]: 100%|██████████| 19/19 [00:00<00:00, 140.90it/s, loss=1.29e+3]\n"
          ]
        },
        {
          "output_type": "stream",
          "name": "stdout",
          "text": [
            "Epoch [71/8000]: Train loss: 1206.4681, Valid loss: 1103.1876\n"
          ]
        },
        {
          "output_type": "stream",
          "name": "stderr",
          "text": [
            "Epoch [72/8000]: 100%|██████████| 19/19 [00:00<00:00, 118.15it/s, loss=1.23e+3]\n"
          ]
        },
        {
          "output_type": "stream",
          "name": "stdout",
          "text": [
            "Epoch [72/8000]: Train loss: 1205.2644, Valid loss: 1098.7843\n"
          ]
        },
        {
          "output_type": "stream",
          "name": "stderr",
          "text": [
            "Epoch [73/8000]: 100%|██████████| 19/19 [00:00<00:00, 137.86it/s, loss=1.28e+3]\n"
          ]
        },
        {
          "output_type": "stream",
          "name": "stdout",
          "text": [
            "Epoch [73/8000]: Train loss: 1205.2320, Valid loss: 1110.9623\n"
          ]
        },
        {
          "output_type": "stream",
          "name": "stderr",
          "text": [
            "Epoch [74/8000]: 100%|██████████| 19/19 [00:00<00:00, 142.27it/s, loss=1.27e+3]\n"
          ]
        },
        {
          "output_type": "stream",
          "name": "stdout",
          "text": [
            "Epoch [74/8000]: Train loss: 1204.6377, Valid loss: 1097.6051\n",
            "Saving model with loss 1097.605...\n"
          ]
        },
        {
          "output_type": "stream",
          "name": "stderr",
          "text": [
            "Epoch [75/8000]: 100%|██████████| 19/19 [00:00<00:00, 134.33it/s, loss=1.36e+3]\n"
          ]
        },
        {
          "output_type": "stream",
          "name": "stdout",
          "text": [
            "Epoch [75/8000]: Train loss: 1204.9883, Valid loss: 1095.8707\n",
            "Saving model with loss 1095.871...\n"
          ]
        },
        {
          "output_type": "stream",
          "name": "stderr",
          "text": [
            "Epoch [76/8000]: 100%|██████████| 19/19 [00:00<00:00, 143.75it/s, loss=1.05e+3]\n"
          ]
        },
        {
          "output_type": "stream",
          "name": "stdout",
          "text": [
            "Epoch [76/8000]: Train loss: 1201.3754, Valid loss: 1097.4708\n"
          ]
        },
        {
          "output_type": "stream",
          "name": "stderr",
          "text": [
            "Epoch [77/8000]: 100%|██████████| 19/19 [00:00<00:00, 137.59it/s, loss=1.27e+3]\n"
          ]
        },
        {
          "output_type": "stream",
          "name": "stdout",
          "text": [
            "Epoch [77/8000]: Train loss: 1203.0953, Valid loss: 1087.1694\n",
            "Saving model with loss 1087.169...\n"
          ]
        },
        {
          "output_type": "stream",
          "name": "stderr",
          "text": [
            "Epoch [78/8000]: 100%|██████████| 19/19 [00:00<00:00, 131.04it/s, loss=1.27e+3]\n"
          ]
        },
        {
          "output_type": "stream",
          "name": "stdout",
          "text": [
            "Epoch [78/8000]: Train loss: 1202.5457, Valid loss: 1098.1092\n"
          ]
        },
        {
          "output_type": "stream",
          "name": "stderr",
          "text": [
            "Epoch [79/8000]: 100%|██████████| 19/19 [00:00<00:00, 131.54it/s, loss=1.03e+3]\n"
          ]
        },
        {
          "output_type": "stream",
          "name": "stdout",
          "text": [
            "Epoch [79/8000]: Train loss: 1199.7164, Valid loss: 1094.7777\n"
          ]
        },
        {
          "output_type": "stream",
          "name": "stderr",
          "text": [
            "Epoch [80/8000]: 100%|██████████| 19/19 [00:00<00:00, 142.33it/s, loss=1.19e+3]\n"
          ]
        },
        {
          "output_type": "stream",
          "name": "stdout",
          "text": [
            "Epoch [80/8000]: Train loss: 1200.7714, Valid loss: 1082.7369\n",
            "Saving model with loss 1082.737...\n"
          ]
        },
        {
          "output_type": "stream",
          "name": "stderr",
          "text": [
            "Epoch [81/8000]: 100%|██████████| 19/19 [00:00<00:00, 137.46it/s, loss=1.07e+3]\n"
          ]
        },
        {
          "output_type": "stream",
          "name": "stdout",
          "text": [
            "Epoch [81/8000]: Train loss: 1199.0494, Valid loss: 1112.2950\n"
          ]
        },
        {
          "output_type": "stream",
          "name": "stderr",
          "text": [
            "Epoch [82/8000]: 100%|██████████| 19/19 [00:00<00:00, 139.05it/s, loss=1.19e+3]\n"
          ]
        },
        {
          "output_type": "stream",
          "name": "stdout",
          "text": [
            "Epoch [82/8000]: Train loss: 1199.6954, Valid loss: 1095.6820\n"
          ]
        },
        {
          "output_type": "stream",
          "name": "stderr",
          "text": [
            "Epoch [83/8000]: 100%|██████████| 19/19 [00:00<00:00, 141.96it/s, loss=1.18e+3]\n"
          ]
        },
        {
          "output_type": "stream",
          "name": "stdout",
          "text": [
            "Epoch [83/8000]: Train loss: 1199.0897, Valid loss: 1098.9846\n"
          ]
        },
        {
          "output_type": "stream",
          "name": "stderr",
          "text": [
            "Epoch [84/8000]: 100%|██████████| 19/19 [00:00<00:00, 143.08it/s, loss=1.1e+3]\n"
          ]
        },
        {
          "output_type": "stream",
          "name": "stdout",
          "text": [
            "Epoch [84/8000]: Train loss: 1197.8092, Valid loss: 1101.5240\n"
          ]
        },
        {
          "output_type": "stream",
          "name": "stderr",
          "text": [
            "Epoch [85/8000]: 100%|██████████| 19/19 [00:00<00:00, 138.36it/s, loss=1.21e+3]\n"
          ]
        },
        {
          "output_type": "stream",
          "name": "stdout",
          "text": [
            "Epoch [85/8000]: Train loss: 1198.4314, Valid loss: 1095.9876\n"
          ]
        },
        {
          "output_type": "stream",
          "name": "stderr",
          "text": [
            "Epoch [86/8000]: 100%|██████████| 19/19 [00:00<00:00, 139.66it/s, loss=1.36e+3]\n"
          ]
        },
        {
          "output_type": "stream",
          "name": "stdout",
          "text": [
            "Epoch [86/8000]: Train loss: 1199.4800, Valid loss: 1097.1951\n"
          ]
        },
        {
          "output_type": "stream",
          "name": "stderr",
          "text": [
            "Epoch [87/8000]: 100%|██████████| 19/19 [00:00<00:00, 143.95it/s, loss=1.23e+3]\n"
          ]
        },
        {
          "output_type": "stream",
          "name": "stdout",
          "text": [
            "Epoch [87/8000]: Train loss: 1197.6220, Valid loss: 1096.1083\n"
          ]
        },
        {
          "output_type": "stream",
          "name": "stderr",
          "text": [
            "Epoch [88/8000]: 100%|██████████| 19/19 [00:00<00:00, 137.96it/s, loss=1.06e+3]\n"
          ]
        },
        {
          "output_type": "stream",
          "name": "stdout",
          "text": [
            "Epoch [88/8000]: Train loss: 1195.5215, Valid loss: 1096.4101\n"
          ]
        },
        {
          "output_type": "stream",
          "name": "stderr",
          "text": [
            "Epoch [89/8000]: 100%|██████████| 19/19 [00:00<00:00, 142.79it/s, loss=1.06e+3]\n"
          ]
        },
        {
          "output_type": "stream",
          "name": "stdout",
          "text": [
            "Epoch [89/8000]: Train loss: 1195.0181, Valid loss: 1096.1472\n"
          ]
        },
        {
          "output_type": "stream",
          "name": "stderr",
          "text": [
            "Epoch [90/8000]: 100%|██████████| 19/19 [00:00<00:00, 139.41it/s, loss=1.25e+3]\n"
          ]
        },
        {
          "output_type": "stream",
          "name": "stdout",
          "text": [
            "Epoch [90/8000]: Train loss: 1196.4601, Valid loss: 1096.5512\n"
          ]
        },
        {
          "output_type": "stream",
          "name": "stderr",
          "text": [
            "Epoch [91/8000]: 100%|██████████| 19/19 [00:00<00:00, 145.66it/s, loss=1.06e+3]\n"
          ]
        },
        {
          "output_type": "stream",
          "name": "stdout",
          "text": [
            "Epoch [91/8000]: Train loss: 1194.0993, Valid loss: 1104.0488\n"
          ]
        },
        {
          "output_type": "stream",
          "name": "stderr",
          "text": [
            "Epoch [92/8000]: 100%|██████████| 19/19 [00:00<00:00, 136.28it/s, loss=1.35e+3]\n"
          ]
        },
        {
          "output_type": "stream",
          "name": "stdout",
          "text": [
            "Epoch [92/8000]: Train loss: 1196.4657, Valid loss: 1089.8890\n"
          ]
        },
        {
          "output_type": "stream",
          "name": "stderr",
          "text": [
            "Epoch [93/8000]: 100%|██████████| 19/19 [00:00<00:00, 138.00it/s, loss=1.15e+3]\n"
          ]
        },
        {
          "output_type": "stream",
          "name": "stdout",
          "text": [
            "Epoch [93/8000]: Train loss: 1194.0364, Valid loss: 1098.9180\n"
          ]
        },
        {
          "output_type": "stream",
          "name": "stderr",
          "text": [
            "Epoch [94/8000]: 100%|██████████| 19/19 [00:00<00:00, 146.92it/s, loss=1.08e+3]\n"
          ]
        },
        {
          "output_type": "stream",
          "name": "stdout",
          "text": [
            "Epoch [94/8000]: Train loss: 1192.8559, Valid loss: 1076.1894\n",
            "Saving model with loss 1076.189...\n"
          ]
        },
        {
          "output_type": "stream",
          "name": "stderr",
          "text": [
            "Epoch [95/8000]: 100%|██████████| 19/19 [00:00<00:00, 135.17it/s, loss=1.38e+3]\n"
          ]
        },
        {
          "output_type": "stream",
          "name": "stdout",
          "text": [
            "Epoch [95/8000]: Train loss: 1195.4074, Valid loss: 1073.0210\n",
            "Saving model with loss 1073.021...\n"
          ]
        },
        {
          "output_type": "stream",
          "name": "stderr",
          "text": [
            "Epoch [96/8000]: 100%|██████████| 19/19 [00:00<00:00, 132.84it/s, loss=1.16e+3]\n"
          ]
        },
        {
          "output_type": "stream",
          "name": "stdout",
          "text": [
            "Epoch [96/8000]: Train loss: 1192.6804, Valid loss: 1091.3403\n"
          ]
        },
        {
          "output_type": "stream",
          "name": "stderr",
          "text": [
            "Epoch [97/8000]: 100%|██████████| 19/19 [00:00<00:00, 139.93it/s, loss=1.42e+3]\n"
          ]
        },
        {
          "output_type": "stream",
          "name": "stdout",
          "text": [
            "Epoch [97/8000]: Train loss: 1194.8112, Valid loss: 1086.6474\n"
          ]
        },
        {
          "output_type": "stream",
          "name": "stderr",
          "text": [
            "Epoch [98/8000]: 100%|██████████| 19/19 [00:00<00:00, 135.53it/s, loss=1.49e+3]\n"
          ]
        },
        {
          "output_type": "stream",
          "name": "stdout",
          "text": [
            "Epoch [98/8000]: Train loss: 1195.0894, Valid loss: 1092.5141\n"
          ]
        },
        {
          "output_type": "stream",
          "name": "stderr",
          "text": [
            "Epoch [99/8000]: 100%|██████████| 19/19 [00:00<00:00, 134.59it/s, loss=1.12e+3]\n"
          ]
        },
        {
          "output_type": "stream",
          "name": "stdout",
          "text": [
            "Epoch [99/8000]: Train loss: 1190.9424, Valid loss: 1086.4664\n"
          ]
        },
        {
          "output_type": "stream",
          "name": "stderr",
          "text": [
            "Epoch [100/8000]: 100%|██████████| 19/19 [00:00<00:00, 137.95it/s, loss=1.22e+3]\n"
          ]
        },
        {
          "output_type": "stream",
          "name": "stdout",
          "text": [
            "Epoch [100/8000]: Train loss: 1191.4964, Valid loss: 1088.5900\n"
          ]
        },
        {
          "output_type": "stream",
          "name": "stderr",
          "text": [
            "Epoch [101/8000]: 100%|██████████| 19/19 [00:00<00:00, 121.88it/s, loss=1.21e+3]\n"
          ]
        },
        {
          "output_type": "stream",
          "name": "stdout",
          "text": [
            "Epoch [101/8000]: Train loss: 1190.9691, Valid loss: 1077.4633\n"
          ]
        },
        {
          "output_type": "stream",
          "name": "stderr",
          "text": [
            "Epoch [102/8000]: 100%|██████████| 19/19 [00:00<00:00, 142.75it/s, loss=1.14e+3]\n"
          ]
        },
        {
          "output_type": "stream",
          "name": "stdout",
          "text": [
            "Epoch [102/8000]: Train loss: 1189.7832, Valid loss: 1084.5441\n"
          ]
        },
        {
          "output_type": "stream",
          "name": "stderr",
          "text": [
            "Epoch [103/8000]: 100%|██████████| 19/19 [00:00<00:00, 148.03it/s, loss=1.21e+3]\n"
          ]
        },
        {
          "output_type": "stream",
          "name": "stdout",
          "text": [
            "Epoch [103/8000]: Train loss: 1190.0093, Valid loss: 1085.8988\n"
          ]
        },
        {
          "output_type": "stream",
          "name": "stderr",
          "text": [
            "Epoch [104/8000]: 100%|██████████| 19/19 [00:00<00:00, 139.85it/s, loss=1.25e+3]\n"
          ]
        },
        {
          "output_type": "stream",
          "name": "stdout",
          "text": [
            "Epoch [104/8000]: Train loss: 1190.0152, Valid loss: 1080.8238\n"
          ]
        },
        {
          "output_type": "stream",
          "name": "stderr",
          "text": [
            "Epoch [105/8000]: 100%|██████████| 19/19 [00:00<00:00, 127.73it/s, loss=1.29e+3]\n"
          ]
        },
        {
          "output_type": "stream",
          "name": "stdout",
          "text": [
            "Epoch [105/8000]: Train loss: 1190.0038, Valid loss: 1080.2941\n"
          ]
        },
        {
          "output_type": "stream",
          "name": "stderr",
          "text": [
            "Epoch [106/8000]: 100%|██████████| 19/19 [00:00<00:00, 142.73it/s, loss=1.04e+3]\n"
          ]
        },
        {
          "output_type": "stream",
          "name": "stdout",
          "text": [
            "Epoch [106/8000]: Train loss: 1187.0167, Valid loss: 1078.4352\n"
          ]
        },
        {
          "output_type": "stream",
          "name": "stderr",
          "text": [
            "Epoch [107/8000]: 100%|██████████| 19/19 [00:00<00:00, 129.62it/s, loss=1.19e+3]\n"
          ]
        },
        {
          "output_type": "stream",
          "name": "stdout",
          "text": [
            "Epoch [107/8000]: Train loss: 1188.1243, Valid loss: 1071.1852\n",
            "Saving model with loss 1071.185...\n"
          ]
        },
        {
          "output_type": "stream",
          "name": "stderr",
          "text": [
            "Epoch [108/8000]: 100%|██████████| 19/19 [00:00<00:00, 124.06it/s, loss=1.31e+3]\n"
          ]
        },
        {
          "output_type": "stream",
          "name": "stdout",
          "text": [
            "Epoch [108/8000]: Train loss: 1188.8071, Valid loss: 1083.7130\n"
          ]
        },
        {
          "output_type": "stream",
          "name": "stderr",
          "text": [
            "Epoch [109/8000]: 100%|██████████| 19/19 [00:00<00:00, 125.34it/s, loss=1.32e+3]\n"
          ]
        },
        {
          "output_type": "stream",
          "name": "stdout",
          "text": [
            "Epoch [109/8000]: Train loss: 1188.5408, Valid loss: 1085.7637\n"
          ]
        },
        {
          "output_type": "stream",
          "name": "stderr",
          "text": [
            "Epoch [110/8000]: 100%|██████████| 19/19 [00:00<00:00, 130.07it/s, loss=1.21e+3]\n"
          ]
        },
        {
          "output_type": "stream",
          "name": "stdout",
          "text": [
            "Epoch [110/8000]: Train loss: 1187.0514, Valid loss: 1086.6791\n"
          ]
        },
        {
          "output_type": "stream",
          "name": "stderr",
          "text": [
            "Epoch [111/8000]: 100%|██████████| 19/19 [00:00<00:00, 129.83it/s, loss=1.16e+3]\n"
          ]
        },
        {
          "output_type": "stream",
          "name": "stdout",
          "text": [
            "Epoch [111/8000]: Train loss: 1186.1153, Valid loss: 1084.0899\n"
          ]
        },
        {
          "output_type": "stream",
          "name": "stderr",
          "text": [
            "Epoch [112/8000]: 100%|██████████| 19/19 [00:00<00:00, 125.68it/s, loss=1.35e+3]\n"
          ]
        },
        {
          "output_type": "stream",
          "name": "stdout",
          "text": [
            "Epoch [112/8000]: Train loss: 1187.5232, Valid loss: 1085.4139\n"
          ]
        },
        {
          "output_type": "stream",
          "name": "stderr",
          "text": [
            "Epoch [113/8000]: 100%|██████████| 19/19 [00:00<00:00, 123.64it/s, loss=1.22e+3]\n"
          ]
        },
        {
          "output_type": "stream",
          "name": "stdout",
          "text": [
            "Epoch [113/8000]: Train loss: 1185.8242, Valid loss: 1080.8413\n"
          ]
        },
        {
          "output_type": "stream",
          "name": "stderr",
          "text": [
            "Epoch [114/8000]: 100%|██████████| 19/19 [00:00<00:00, 126.25it/s, loss=1.11e+3]\n"
          ]
        },
        {
          "output_type": "stream",
          "name": "stdout",
          "text": [
            "Epoch [114/8000]: Train loss: 1184.3058, Valid loss: 1078.8253\n"
          ]
        },
        {
          "output_type": "stream",
          "name": "stderr",
          "text": [
            "Epoch [115/8000]: 100%|██████████| 19/19 [00:00<00:00, 130.39it/s, loss=1189.25]\n"
          ]
        },
        {
          "output_type": "stream",
          "name": "stdout",
          "text": [
            "Epoch [115/8000]: Train loss: 1184.6828, Valid loss: 1083.4567\n"
          ]
        },
        {
          "output_type": "stream",
          "name": "stderr",
          "text": [
            "Epoch [116/8000]: 100%|██████████| 19/19 [00:00<00:00, 127.16it/s, loss=1.07e+3]\n"
          ]
        },
        {
          "output_type": "stream",
          "name": "stdout",
          "text": [
            "Epoch [116/8000]: Train loss: 1183.0984, Valid loss: 1076.7919\n"
          ]
        },
        {
          "output_type": "stream",
          "name": "stderr",
          "text": [
            "Epoch [117/8000]: 100%|██████████| 19/19 [00:00<00:00, 120.12it/s, loss=981]\n"
          ]
        },
        {
          "output_type": "stream",
          "name": "stdout",
          "text": [
            "Epoch [117/8000]: Train loss: 1181.7919, Valid loss: 1085.8085\n"
          ]
        },
        {
          "output_type": "stream",
          "name": "stderr",
          "text": [
            "Epoch [118/8000]: 100%|██████████| 19/19 [00:00<00:00, 125.54it/s, loss=1.15e+3]\n"
          ]
        },
        {
          "output_type": "stream",
          "name": "stdout",
          "text": [
            "Epoch [118/8000]: Train loss: 1183.0257, Valid loss: 1076.7154\n"
          ]
        },
        {
          "output_type": "stream",
          "name": "stderr",
          "text": [
            "Epoch [119/8000]: 100%|██████████| 19/19 [00:00<00:00, 122.17it/s, loss=1.07e+3]\n"
          ]
        },
        {
          "output_type": "stream",
          "name": "stdout",
          "text": [
            "Epoch [119/8000]: Train loss: 1181.8511, Valid loss: 1082.5772\n"
          ]
        },
        {
          "output_type": "stream",
          "name": "stderr",
          "text": [
            "Epoch [120/8000]: 100%|██████████| 19/19 [00:00<00:00, 122.94it/s, loss=1.03e+3]\n"
          ]
        },
        {
          "output_type": "stream",
          "name": "stdout",
          "text": [
            "Epoch [120/8000]: Train loss: 1180.9981, Valid loss: 1086.7833\n"
          ]
        },
        {
          "output_type": "stream",
          "name": "stderr",
          "text": [
            "Epoch [121/8000]: 100%|██████████| 19/19 [00:00<00:00, 126.91it/s, loss=1.23e+3]\n"
          ]
        },
        {
          "output_type": "stream",
          "name": "stdout",
          "text": [
            "Epoch [121/8000]: Train loss: 1182.6069, Valid loss: 1088.4756\n"
          ]
        },
        {
          "output_type": "stream",
          "name": "stderr",
          "text": [
            "Epoch [122/8000]: 100%|██████████| 19/19 [00:00<00:00, 114.93it/s, loss=1.36e+3]\n"
          ]
        },
        {
          "output_type": "stream",
          "name": "stdout",
          "text": [
            "Epoch [122/8000]: Train loss: 1183.4697, Valid loss: 1076.3232\n"
          ]
        },
        {
          "output_type": "stream",
          "name": "stderr",
          "text": [
            "Epoch [123/8000]: 100%|██████████| 19/19 [00:00<00:00, 112.48it/s, loss=1.16e+3]\n"
          ]
        },
        {
          "output_type": "stream",
          "name": "stdout",
          "text": [
            "Epoch [123/8000]: Train loss: 1181.1146, Valid loss: 1075.6979\n"
          ]
        },
        {
          "output_type": "stream",
          "name": "stderr",
          "text": [
            "Epoch [124/8000]: 100%|██████████| 19/19 [00:00<00:00, 109.29it/s, loss=1.11e+3]\n"
          ]
        },
        {
          "output_type": "stream",
          "name": "stdout",
          "text": [
            "Epoch [124/8000]: Train loss: 1180.2273, Valid loss: 1082.2106\n"
          ]
        },
        {
          "output_type": "stream",
          "name": "stderr",
          "text": [
            "Epoch [125/8000]: 100%|██████████| 19/19 [00:00<00:00, 116.38it/s, loss=1.19e+3]\n"
          ]
        },
        {
          "output_type": "stream",
          "name": "stdout",
          "text": [
            "Epoch [125/8000]: Train loss: 1180.5762, Valid loss: 1079.4140\n"
          ]
        },
        {
          "output_type": "stream",
          "name": "stderr",
          "text": [
            "Epoch [126/8000]: 100%|██████████| 19/19 [00:00<00:00, 125.11it/s, loss=1.25e+3]\n"
          ]
        },
        {
          "output_type": "stream",
          "name": "stdout",
          "text": [
            "Epoch [126/8000]: Train loss: 1180.7934, Valid loss: 1074.2963\n"
          ]
        },
        {
          "output_type": "stream",
          "name": "stderr",
          "text": [
            "Epoch [127/8000]: 100%|██████████| 19/19 [00:00<00:00, 124.35it/s, loss=1.01e+3]\n"
          ]
        },
        {
          "output_type": "stream",
          "name": "stdout",
          "text": [
            "Epoch [127/8000]: Train loss: 1178.0734, Valid loss: 1075.3863\n"
          ]
        },
        {
          "output_type": "stream",
          "name": "stderr",
          "text": [
            "Epoch [128/8000]: 100%|██████████| 19/19 [00:00<00:00, 139.93it/s, loss=1.12e+3]\n"
          ]
        },
        {
          "output_type": "stream",
          "name": "stdout",
          "text": [
            "Epoch [128/8000]: Train loss: 1178.7448, Valid loss: 1063.1857\n",
            "Saving model with loss 1063.186...\n"
          ]
        },
        {
          "output_type": "stream",
          "name": "stderr",
          "text": [
            "Epoch [129/8000]: 100%|██████████| 19/19 [00:00<00:00, 109.70it/s, loss=1.1e+3]\n"
          ]
        },
        {
          "output_type": "stream",
          "name": "stdout",
          "text": [
            "Epoch [129/8000]: Train loss: 1178.1168, Valid loss: 1080.0440\n"
          ]
        },
        {
          "output_type": "stream",
          "name": "stderr",
          "text": [
            "Epoch [130/8000]: 100%|██████████| 19/19 [00:00<00:00, 120.14it/s, loss=1.12e+3]\n"
          ]
        },
        {
          "output_type": "stream",
          "name": "stdout",
          "text": [
            "Epoch [130/8000]: Train loss: 1177.9131, Valid loss: 1079.3631\n"
          ]
        },
        {
          "output_type": "stream",
          "name": "stderr",
          "text": [
            "Epoch [131/8000]: 100%|██████████| 19/19 [00:00<00:00, 127.72it/s, loss=1.16e+3]\n"
          ]
        },
        {
          "output_type": "stream",
          "name": "stdout",
          "text": [
            "Epoch [131/8000]: Train loss: 1177.9396, Valid loss: 1071.1785\n"
          ]
        },
        {
          "output_type": "stream",
          "name": "stderr",
          "text": [
            "Epoch [132/8000]: 100%|██████████| 19/19 [00:00<00:00, 124.90it/s, loss=1.4e+3]\n"
          ]
        },
        {
          "output_type": "stream",
          "name": "stdout",
          "text": [
            "Epoch [132/8000]: Train loss: 1179.9543, Valid loss: 1072.5765\n"
          ]
        },
        {
          "output_type": "stream",
          "name": "stderr",
          "text": [
            "Epoch [133/8000]: 100%|██████████| 19/19 [00:00<00:00, 112.06it/s, loss=988]\n"
          ]
        },
        {
          "output_type": "stream",
          "name": "stdout",
          "text": [
            "Epoch [133/8000]: Train loss: 1175.4544, Valid loss: 1069.6721\n"
          ]
        },
        {
          "output_type": "stream",
          "name": "stderr",
          "text": [
            "Epoch [134/8000]: 100%|██████████| 19/19 [00:00<00:00, 107.64it/s, loss=1.08e+3]\n"
          ]
        },
        {
          "output_type": "stream",
          "name": "stdout",
          "text": [
            "Epoch [134/8000]: Train loss: 1175.9484, Valid loss: 1075.5888\n"
          ]
        },
        {
          "output_type": "stream",
          "name": "stderr",
          "text": [
            "Epoch [135/8000]: 100%|██████████| 19/19 [00:00<00:00, 122.67it/s, loss=1.02e+3]\n"
          ]
        },
        {
          "output_type": "stream",
          "name": "stdout",
          "text": [
            "Epoch [135/8000]: Train loss: 1175.0274, Valid loss: 1077.8369\n"
          ]
        },
        {
          "output_type": "stream",
          "name": "stderr",
          "text": [
            "Epoch [136/8000]: 100%|██████████| 19/19 [00:00<00:00, 118.62it/s, loss=1.23e+3]\n"
          ]
        },
        {
          "output_type": "stream",
          "name": "stdout",
          "text": [
            "Epoch [136/8000]: Train loss: 1176.6514, Valid loss: 1068.4319\n"
          ]
        },
        {
          "output_type": "stream",
          "name": "stderr",
          "text": [
            "Epoch [137/8000]: 100%|██████████| 19/19 [00:00<00:00, 117.20it/s, loss=1.35e+3]\n"
          ]
        },
        {
          "output_type": "stream",
          "name": "stdout",
          "text": [
            "Epoch [137/8000]: Train loss: 1177.4598, Valid loss: 1073.7966\n"
          ]
        },
        {
          "output_type": "stream",
          "name": "stderr",
          "text": [
            "Epoch [138/8000]: 100%|██████████| 19/19 [00:00<00:00, 123.17it/s, loss=1.11e+3]\n"
          ]
        },
        {
          "output_type": "stream",
          "name": "stdout",
          "text": [
            "Epoch [138/8000]: Train loss: 1174.7203, Valid loss: 1068.8194\n"
          ]
        },
        {
          "output_type": "stream",
          "name": "stderr",
          "text": [
            "Epoch [139/8000]: 100%|██████████| 19/19 [00:00<00:00, 119.82it/s, loss=1.29e+3]\n"
          ]
        },
        {
          "output_type": "stream",
          "name": "stdout",
          "text": [
            "Epoch [139/8000]: Train loss: 1176.1688, Valid loss: 1075.7270\n"
          ]
        },
        {
          "output_type": "stream",
          "name": "stderr",
          "text": [
            "Epoch [140/8000]: 100%|██████████| 19/19 [00:00<00:00, 127.01it/s, loss=1.21e+3]\n"
          ]
        },
        {
          "output_type": "stream",
          "name": "stdout",
          "text": [
            "Epoch [140/8000]: Train loss: 1174.9910, Valid loss: 1076.1646\n"
          ]
        },
        {
          "output_type": "stream",
          "name": "stderr",
          "text": [
            "Epoch [141/8000]: 100%|██████████| 19/19 [00:00<00:00, 115.98it/s, loss=1.11e+3]\n"
          ]
        },
        {
          "output_type": "stream",
          "name": "stdout",
          "text": [
            "Epoch [141/8000]: Train loss: 1173.5922, Valid loss: 1070.5127\n"
          ]
        },
        {
          "output_type": "stream",
          "name": "stderr",
          "text": [
            "Epoch [142/8000]: 100%|██████████| 19/19 [00:00<00:00, 127.25it/s, loss=1.17e+3]\n"
          ]
        },
        {
          "output_type": "stream",
          "name": "stdout",
          "text": [
            "Epoch [142/8000]: Train loss: 1173.8672, Valid loss: 1068.3194\n"
          ]
        },
        {
          "output_type": "stream",
          "name": "stderr",
          "text": [
            "Epoch [143/8000]: 100%|██████████| 19/19 [00:00<00:00, 118.78it/s, loss=1.14e+3]\n"
          ]
        },
        {
          "output_type": "stream",
          "name": "stdout",
          "text": [
            "Epoch [143/8000]: Train loss: 1173.1871, Valid loss: 1063.6142\n"
          ]
        },
        {
          "output_type": "stream",
          "name": "stderr",
          "text": [
            "Epoch [144/8000]: 100%|██████████| 19/19 [00:00<00:00, 147.23it/s, loss=1.16e+3]\n"
          ]
        },
        {
          "output_type": "stream",
          "name": "stdout",
          "text": [
            "Epoch [144/8000]: Train loss: 1172.9512, Valid loss: 1066.9844\n"
          ]
        },
        {
          "output_type": "stream",
          "name": "stderr",
          "text": [
            "Epoch [145/8000]: 100%|██████████| 19/19 [00:00<00:00, 126.97it/s, loss=1.09e+3]\n"
          ]
        },
        {
          "output_type": "stream",
          "name": "stdout",
          "text": [
            "Epoch [145/8000]: Train loss: 1171.9080, Valid loss: 1061.9419\n",
            "Saving model with loss 1061.942...\n"
          ]
        },
        {
          "output_type": "stream",
          "name": "stderr",
          "text": [
            "Epoch [146/8000]: 100%|██████████| 19/19 [00:00<00:00, 140.34it/s, loss=1.24e+3]\n"
          ]
        },
        {
          "output_type": "stream",
          "name": "stdout",
          "text": [
            "Epoch [146/8000]: Train loss: 1173.0426, Valid loss: 1078.7642\n"
          ]
        },
        {
          "output_type": "stream",
          "name": "stderr",
          "text": [
            "Epoch [147/8000]: 100%|██████████| 19/19 [00:00<00:00, 128.75it/s, loss=1.07e+3]\n"
          ]
        },
        {
          "output_type": "stream",
          "name": "stdout",
          "text": [
            "Epoch [147/8000]: Train loss: 1171.0057, Valid loss: 1076.3465\n"
          ]
        },
        {
          "output_type": "stream",
          "name": "stderr",
          "text": [
            "Epoch [148/8000]: 100%|██████████| 19/19 [00:00<00:00, 136.03it/s, loss=1.28e+3]\n"
          ]
        },
        {
          "output_type": "stream",
          "name": "stdout",
          "text": [
            "Epoch [148/8000]: Train loss: 1172.6764, Valid loss: 1069.4911\n"
          ]
        },
        {
          "output_type": "stream",
          "name": "stderr",
          "text": [
            "Epoch [149/8000]: 100%|██████████| 19/19 [00:00<00:00, 139.23it/s, loss=1.12e+3]\n"
          ]
        },
        {
          "output_type": "stream",
          "name": "stdout",
          "text": [
            "Epoch [149/8000]: Train loss: 1170.7080, Valid loss: 1058.5616\n",
            "Saving model with loss 1058.562...\n"
          ]
        },
        {
          "output_type": "stream",
          "name": "stderr",
          "text": [
            "Epoch [150/8000]: 100%|██████████| 19/19 [00:00<00:00, 144.18it/s, loss=1.25e+3]\n"
          ]
        },
        {
          "output_type": "stream",
          "name": "stdout",
          "text": [
            "Epoch [150/8000]: Train loss: 1171.6227, Valid loss: 1063.2991\n"
          ]
        },
        {
          "output_type": "stream",
          "name": "stderr",
          "text": [
            "Epoch [151/8000]: 100%|██████████| 19/19 [00:00<00:00, 144.21it/s, loss=1.31e+3]\n"
          ]
        },
        {
          "output_type": "stream",
          "name": "stdout",
          "text": [
            "Epoch [151/8000]: Train loss: 1171.9392, Valid loss: 1066.7927\n"
          ]
        },
        {
          "output_type": "stream",
          "name": "stderr",
          "text": [
            "Epoch [152/8000]: 100%|██████████| 19/19 [00:00<00:00, 142.91it/s, loss=1.15e+3]\n"
          ]
        },
        {
          "output_type": "stream",
          "name": "stdout",
          "text": [
            "Epoch [152/8000]: Train loss: 1169.9159, Valid loss: 1060.6865\n"
          ]
        },
        {
          "output_type": "stream",
          "name": "stderr",
          "text": [
            "Epoch [153/8000]: 100%|██████████| 19/19 [00:00<00:00, 139.83it/s, loss=1.29e+3]\n"
          ]
        },
        {
          "output_type": "stream",
          "name": "stdout",
          "text": [
            "Epoch [153/8000]: Train loss: 1170.9538, Valid loss: 1063.9055\n"
          ]
        },
        {
          "output_type": "stream",
          "name": "stderr",
          "text": [
            "Epoch [154/8000]: 100%|██████████| 19/19 [00:00<00:00, 125.78it/s, loss=1.25e+3]\n"
          ]
        },
        {
          "output_type": "stream",
          "name": "stdout",
          "text": [
            "Epoch [154/8000]: Train loss: 1170.1939, Valid loss: 1071.9271\n"
          ]
        },
        {
          "output_type": "stream",
          "name": "stderr",
          "text": [
            "Epoch [155/8000]: 100%|██████████| 19/19 [00:00<00:00, 140.57it/s, loss=1.24e+3]\n"
          ]
        },
        {
          "output_type": "stream",
          "name": "stdout",
          "text": [
            "Epoch [155/8000]: Train loss: 1169.7910, Valid loss: 1068.0465\n"
          ]
        },
        {
          "output_type": "stream",
          "name": "stderr",
          "text": [
            "Epoch [156/8000]: 100%|██████████| 19/19 [00:00<00:00, 137.89it/s, loss=1.17e+3]\n"
          ]
        },
        {
          "output_type": "stream",
          "name": "stdout",
          "text": [
            "Epoch [156/8000]: Train loss: 1168.7624, Valid loss: 1059.3989\n"
          ]
        },
        {
          "output_type": "stream",
          "name": "stderr",
          "text": [
            "Epoch [157/8000]: 100%|██████████| 19/19 [00:00<00:00, 124.48it/s, loss=1.18e+3]\n"
          ]
        },
        {
          "output_type": "stream",
          "name": "stdout",
          "text": [
            "Epoch [157/8000]: Train loss: 1168.4669, Valid loss: 1063.5400\n"
          ]
        },
        {
          "output_type": "stream",
          "name": "stderr",
          "text": [
            "Epoch [158/8000]: 100%|██████████| 19/19 [00:00<00:00, 125.93it/s, loss=1.04e+3]\n"
          ]
        },
        {
          "output_type": "stream",
          "name": "stdout",
          "text": [
            "Epoch [158/8000]: Train loss: 1166.7171, Valid loss: 1071.5373\n"
          ]
        },
        {
          "output_type": "stream",
          "name": "stderr",
          "text": [
            "Epoch [159/8000]: 100%|██████████| 19/19 [00:00<00:00, 129.07it/s, loss=1.25e+3]\n"
          ]
        },
        {
          "output_type": "stream",
          "name": "stdout",
          "text": [
            "Epoch [159/8000]: Train loss: 1168.4205, Valid loss: 1057.1579\n",
            "Saving model with loss 1057.158...\n"
          ]
        },
        {
          "output_type": "stream",
          "name": "stderr",
          "text": [
            "Epoch [160/8000]: 100%|██████████| 19/19 [00:00<00:00, 121.20it/s, loss=1.16e+3]\n"
          ]
        },
        {
          "output_type": "stream",
          "name": "stdout",
          "text": [
            "Epoch [160/8000]: Train loss: 1167.2187, Valid loss: 1060.7897\n"
          ]
        },
        {
          "output_type": "stream",
          "name": "stderr",
          "text": [
            "Epoch [161/8000]: 100%|██████████| 19/19 [00:00<00:00, 117.49it/s, loss=1.37e+3]\n"
          ]
        },
        {
          "output_type": "stream",
          "name": "stdout",
          "text": [
            "Epoch [161/8000]: Train loss: 1168.9193, Valid loss: 1074.7046\n"
          ]
        },
        {
          "output_type": "stream",
          "name": "stderr",
          "text": [
            "Epoch [162/8000]: 100%|██████████| 19/19 [00:00<00:00, 136.72it/s, loss=1.06e+3]\n"
          ]
        },
        {
          "output_type": "stream",
          "name": "stdout",
          "text": [
            "Epoch [162/8000]: Train loss: 1165.5483, Valid loss: 1070.4989\n"
          ]
        },
        {
          "output_type": "stream",
          "name": "stderr",
          "text": [
            "Epoch [163/8000]: 100%|██████████| 19/19 [00:00<00:00, 140.75it/s, loss=1.1e+3]\n"
          ]
        },
        {
          "output_type": "stream",
          "name": "stdout",
          "text": [
            "Epoch [163/8000]: Train loss: 1165.5652, Valid loss: 1068.7273\n"
          ]
        },
        {
          "output_type": "stream",
          "name": "stderr",
          "text": [
            "Epoch [164/8000]: 100%|██████████| 19/19 [00:00<00:00, 144.37it/s, loss=1.15e+3]\n"
          ]
        },
        {
          "output_type": "stream",
          "name": "stdout",
          "text": [
            "Epoch [164/8000]: Train loss: 1165.7183, Valid loss: 1063.4339\n"
          ]
        },
        {
          "output_type": "stream",
          "name": "stderr",
          "text": [
            "Epoch [165/8000]: 100%|██████████| 19/19 [00:00<00:00, 132.16it/s, loss=1.13e+3]\n"
          ]
        },
        {
          "output_type": "stream",
          "name": "stdout",
          "text": [
            "Epoch [165/8000]: Train loss: 1165.2085, Valid loss: 1067.0765\n"
          ]
        },
        {
          "output_type": "stream",
          "name": "stderr",
          "text": [
            "Epoch [166/8000]: 100%|██████████| 19/19 [00:00<00:00, 139.13it/s, loss=1.1e+3]\n"
          ]
        },
        {
          "output_type": "stream",
          "name": "stdout",
          "text": [
            "Epoch [166/8000]: Train loss: 1164.5253, Valid loss: 1063.9654\n"
          ]
        },
        {
          "output_type": "stream",
          "name": "stderr",
          "text": [
            "Epoch [167/8000]: 100%|██████████| 19/19 [00:00<00:00, 134.99it/s, loss=1.19e+3]\n"
          ]
        },
        {
          "output_type": "stream",
          "name": "stdout",
          "text": [
            "Epoch [167/8000]: Train loss: 1165.1072, Valid loss: 1057.5315\n"
          ]
        },
        {
          "output_type": "stream",
          "name": "stderr",
          "text": [
            "Epoch [168/8000]: 100%|██████████| 19/19 [00:00<00:00, 139.43it/s, loss=1.18e+3]\n"
          ]
        },
        {
          "output_type": "stream",
          "name": "stdout",
          "text": [
            "Epoch [168/8000]: Train loss: 1164.6402, Valid loss: 1062.6664\n"
          ]
        },
        {
          "output_type": "stream",
          "name": "stderr",
          "text": [
            "Epoch [169/8000]: 100%|██████████| 19/19 [00:00<00:00, 142.31it/s, loss=1.33e+3]\n"
          ]
        },
        {
          "output_type": "stream",
          "name": "stdout",
          "text": [
            "Epoch [169/8000]: Train loss: 1165.7780, Valid loss: 1058.9177\n"
          ]
        },
        {
          "output_type": "stream",
          "name": "stderr",
          "text": [
            "Epoch [170/8000]: 100%|██████████| 19/19 [00:00<00:00, 137.02it/s, loss=1.22e+3]\n"
          ]
        },
        {
          "output_type": "stream",
          "name": "stdout",
          "text": [
            "Epoch [170/8000]: Train loss: 1164.3035, Valid loss: 1062.4247\n"
          ]
        },
        {
          "output_type": "stream",
          "name": "stderr",
          "text": [
            "Epoch [171/8000]: 100%|██████████| 19/19 [00:00<00:00, 143.22it/s, loss=1.19e+3]\n"
          ]
        },
        {
          "output_type": "stream",
          "name": "stdout",
          "text": [
            "Epoch [171/8000]: Train loss: 1163.6794, Valid loss: 1073.0888\n"
          ]
        },
        {
          "output_type": "stream",
          "name": "stderr",
          "text": [
            "Epoch [172/8000]: 100%|██████████| 19/19 [00:00<00:00, 138.19it/s, loss=1.06e+3]\n"
          ]
        },
        {
          "output_type": "stream",
          "name": "stdout",
          "text": [
            "Epoch [172/8000]: Train loss: 1162.0715, Valid loss: 1044.8226\n",
            "Saving model with loss 1044.823...\n"
          ]
        },
        {
          "output_type": "stream",
          "name": "stderr",
          "text": [
            "Epoch [173/8000]: 100%|██████████| 19/19 [00:00<00:00, 142.70it/s, loss=1.15e+3]\n"
          ]
        },
        {
          "output_type": "stream",
          "name": "stdout",
          "text": [
            "Epoch [173/8000]: Train loss: 1162.6354, Valid loss: 1055.3622\n"
          ]
        },
        {
          "output_type": "stream",
          "name": "stderr",
          "text": [
            "Epoch [174/8000]: 100%|██████████| 19/19 [00:00<00:00, 112.30it/s, loss=1.16e+3]\n"
          ]
        },
        {
          "output_type": "stream",
          "name": "stdout",
          "text": [
            "Epoch [174/8000]: Train loss: 1162.3928, Valid loss: 1058.6331\n"
          ]
        },
        {
          "output_type": "stream",
          "name": "stderr",
          "text": [
            "Epoch [175/8000]: 100%|██████████| 19/19 [00:00<00:00, 124.28it/s, loss=1.32e+3]\n"
          ]
        },
        {
          "output_type": "stream",
          "name": "stdout",
          "text": [
            "Epoch [175/8000]: Train loss: 1163.6311, Valid loss: 1058.5785\n"
          ]
        },
        {
          "output_type": "stream",
          "name": "stderr",
          "text": [
            "Epoch [176/8000]: 100%|██████████| 19/19 [00:00<00:00, 124.18it/s, loss=1.26e+3]\n"
          ]
        },
        {
          "output_type": "stream",
          "name": "stdout",
          "text": [
            "Epoch [176/8000]: Train loss: 1162.6697, Valid loss: 1057.2897\n"
          ]
        },
        {
          "output_type": "stream",
          "name": "stderr",
          "text": [
            "Epoch [177/8000]: 100%|██████████| 19/19 [00:00<00:00, 127.13it/s, loss=1.11e+3]\n"
          ]
        },
        {
          "output_type": "stream",
          "name": "stdout",
          "text": [
            "Epoch [177/8000]: Train loss: 1160.9274, Valid loss: 1043.4975\n",
            "Saving model with loss 1043.498...\n"
          ]
        },
        {
          "output_type": "stream",
          "name": "stderr",
          "text": [
            "Epoch [178/8000]: 100%|██████████| 19/19 [00:00<00:00, 124.01it/s, loss=1.21e+3]\n"
          ]
        },
        {
          "output_type": "stream",
          "name": "stdout",
          "text": [
            "Epoch [178/8000]: Train loss: 1161.5760, Valid loss: 1059.7352\n"
          ]
        },
        {
          "output_type": "stream",
          "name": "stderr",
          "text": [
            "Epoch [179/8000]: 100%|██████████| 19/19 [00:00<00:00, 144.53it/s, loss=1.04e+3]\n"
          ]
        },
        {
          "output_type": "stream",
          "name": "stdout",
          "text": [
            "Epoch [179/8000]: Train loss: 1159.5653, Valid loss: 1060.5559\n"
          ]
        },
        {
          "output_type": "stream",
          "name": "stderr",
          "text": [
            "Epoch [180/8000]: 100%|██████████| 19/19 [00:00<00:00, 131.01it/s, loss=1.25e+3]\n"
          ]
        },
        {
          "output_type": "stream",
          "name": "stdout",
          "text": [
            "Epoch [180/8000]: Train loss: 1161.3267, Valid loss: 1059.4057\n"
          ]
        },
        {
          "output_type": "stream",
          "name": "stderr",
          "text": [
            "Epoch [181/8000]: 100%|██████████| 19/19 [00:00<00:00, 144.95it/s, loss=1.36e+3]\n"
          ]
        },
        {
          "output_type": "stream",
          "name": "stdout",
          "text": [
            "Epoch [181/8000]: Train loss: 1162.0887, Valid loss: 1051.2891\n"
          ]
        },
        {
          "output_type": "stream",
          "name": "stderr",
          "text": [
            "Epoch [182/8000]: 100%|██████████| 19/19 [00:00<00:00, 144.05it/s, loss=1.28e+3]\n"
          ]
        },
        {
          "output_type": "stream",
          "name": "stdout",
          "text": [
            "Epoch [182/8000]: Train loss: 1160.8996, Valid loss: 1052.8828\n"
          ]
        },
        {
          "output_type": "stream",
          "name": "stderr",
          "text": [
            "Epoch [183/8000]: 100%|██████████| 19/19 [00:00<00:00, 144.40it/s, loss=1.1e+3]\n"
          ]
        },
        {
          "output_type": "stream",
          "name": "stdout",
          "text": [
            "Epoch [183/8000]: Train loss: 1158.8139, Valid loss: 1056.8644\n"
          ]
        },
        {
          "output_type": "stream",
          "name": "stderr",
          "text": [
            "Epoch [184/8000]: 100%|██████████| 19/19 [00:00<00:00, 140.86it/s, loss=1.09e+3]\n"
          ]
        },
        {
          "output_type": "stream",
          "name": "stdout",
          "text": [
            "Epoch [184/8000]: Train loss: 1158.4265, Valid loss: 1064.3775\n"
          ]
        },
        {
          "output_type": "stream",
          "name": "stderr",
          "text": [
            "Epoch [186/8000]: 100%|██████████| 19/19 [00:00<00:00, 141.26it/s, loss=979]\n"
          ]
        },
        {
          "output_type": "stream",
          "name": "stdout",
          "text": [
            "Epoch [186/8000]: Train loss: 1156.6475, Valid loss: 1062.8121\n"
          ]
        },
        {
          "output_type": "stream",
          "name": "stderr",
          "text": [
            "Epoch [187/8000]: 100%|██████████| 19/19 [00:00<00:00, 137.89it/s, loss=1.14e+3]\n"
          ]
        },
        {
          "output_type": "stream",
          "name": "stdout",
          "text": [
            "Epoch [187/8000]: Train loss: 1157.9137, Valid loss: 1052.1033\n"
          ]
        },
        {
          "output_type": "stream",
          "name": "stderr",
          "text": [
            "Epoch [188/8000]: 100%|██████████| 19/19 [00:00<00:00, 140.85it/s, loss=1.26e+3]\n"
          ]
        },
        {
          "output_type": "stream",
          "name": "stdout",
          "text": [
            "Epoch [188/8000]: Train loss: 1158.7351, Valid loss: 1060.2931\n"
          ]
        },
        {
          "output_type": "stream",
          "name": "stderr",
          "text": [
            "Epoch [189/8000]: 100%|██████████| 19/19 [00:00<00:00, 136.73it/s, loss=1.17e+3]\n"
          ]
        },
        {
          "output_type": "stream",
          "name": "stdout",
          "text": [
            "Epoch [189/8000]: Train loss: 1157.6044, Valid loss: 1055.4313\n"
          ]
        },
        {
          "output_type": "stream",
          "name": "stderr",
          "text": [
            "Epoch [190/8000]: 100%|██████████| 19/19 [00:00<00:00, 139.16it/s, loss=1.11e+3]\n"
          ]
        },
        {
          "output_type": "stream",
          "name": "stdout",
          "text": [
            "Epoch [190/8000]: Train loss: 1156.6536, Valid loss: 1055.9725\n"
          ]
        },
        {
          "output_type": "stream",
          "name": "stderr",
          "text": [
            "Epoch [191/8000]: 100%|██████████| 19/19 [00:00<00:00, 134.43it/s, loss=1.43e+3]\n"
          ]
        },
        {
          "output_type": "stream",
          "name": "stdout",
          "text": [
            "Epoch [191/8000]: Train loss: 1159.4629, Valid loss: 1056.9322\n"
          ]
        },
        {
          "output_type": "stream",
          "name": "stderr",
          "text": [
            "Epoch [192/8000]: 100%|██████████| 19/19 [00:00<00:00, 142.30it/s, loss=1.23e+3]\n"
          ]
        },
        {
          "output_type": "stream",
          "name": "stdout",
          "text": [
            "Epoch [192/8000]: Train loss: 1157.1800, Valid loss: 1047.1898\n"
          ]
        },
        {
          "output_type": "stream",
          "name": "stderr",
          "text": [
            "Epoch [193/8000]: 100%|██████████| 19/19 [00:00<00:00, 139.30it/s, loss=1.19e+3]\n"
          ]
        },
        {
          "output_type": "stream",
          "name": "stdout",
          "text": [
            "Epoch [193/8000]: Train loss: 1156.4312, Valid loss: 1065.3116\n"
          ]
        },
        {
          "output_type": "stream",
          "name": "stderr",
          "text": [
            "Epoch [194/8000]: 100%|██████████| 19/19 [00:00<00:00, 142.51it/s, loss=941]\n"
          ]
        },
        {
          "output_type": "stream",
          "name": "stdout",
          "text": [
            "Epoch [194/8000]: Train loss: 1153.7053, Valid loss: 1054.6416\n"
          ]
        },
        {
          "output_type": "stream",
          "name": "stderr",
          "text": [
            "Epoch [195/8000]: 100%|██████████| 19/19 [00:00<00:00, 138.53it/s, loss=1.29e+3]\n"
          ]
        },
        {
          "output_type": "stream",
          "name": "stdout",
          "text": [
            "Epoch [195/8000]: Train loss: 1156.8599, Valid loss: 1051.8374\n"
          ]
        },
        {
          "output_type": "stream",
          "name": "stderr",
          "text": [
            "Epoch [196/8000]: 100%|██████████| 19/19 [00:00<00:00, 142.23it/s, loss=1.13e+3]\n"
          ]
        },
        {
          "output_type": "stream",
          "name": "stdout",
          "text": [
            "Epoch [196/8000]: Train loss: 1154.9698, Valid loss: 1054.3510\n"
          ]
        },
        {
          "output_type": "stream",
          "name": "stderr",
          "text": [
            "Epoch [201/8000]: 100%|██████████| 19/19 [00:00<00:00, 130.24it/s, loss=1.34e+3]\n"
          ]
        },
        {
          "output_type": "stream",
          "name": "stdout",
          "text": [
            "Epoch [201/8000]: Train loss: 1155.4404, Valid loss: 1046.2427\n"
          ]
        },
        {
          "output_type": "stream",
          "name": "stderr",
          "text": [
            "Epoch [202/8000]: 100%|██████████| 19/19 [00:00<00:00, 139.97it/s, loss=1.19e+3]\n"
          ]
        },
        {
          "output_type": "stream",
          "name": "stdout",
          "text": [
            "Epoch [202/8000]: Train loss: 1153.6382, Valid loss: 1051.4323\n"
          ]
        },
        {
          "output_type": "stream",
          "name": "stderr",
          "text": [
            "Epoch [203/8000]: 100%|██████████| 19/19 [00:00<00:00, 141.17it/s, loss=1.12e+3]\n"
          ]
        },
        {
          "output_type": "stream",
          "name": "stdout",
          "text": [
            "Epoch [203/8000]: Train loss: 1152.6941, Valid loss: 1045.8038\n"
          ]
        },
        {
          "output_type": "stream",
          "name": "stderr",
          "text": [
            "Epoch [204/8000]: 100%|██████████| 19/19 [00:00<00:00, 135.49it/s, loss=1.34e+3]\n"
          ]
        },
        {
          "output_type": "stream",
          "name": "stdout",
          "text": [
            "Epoch [204/8000]: Train loss: 1154.5095, Valid loss: 1064.7776\n"
          ]
        },
        {
          "output_type": "stream",
          "name": "stderr",
          "text": [
            "Epoch [205/8000]: 100%|██████████| 19/19 [00:00<00:00, 138.98it/s, loss=995]\n"
          ]
        },
        {
          "output_type": "stream",
          "name": "stdout",
          "text": [
            "Epoch [205/8000]: Train loss: 1150.7930, Valid loss: 1055.6007\n"
          ]
        },
        {
          "output_type": "stream",
          "name": "stderr",
          "text": [
            "Epoch [206/8000]: 100%|██████████| 19/19 [00:00<00:00, 143.21it/s, loss=1.13e+3]\n"
          ]
        },
        {
          "output_type": "stream",
          "name": "stdout",
          "text": [
            "Epoch [206/8000]: Train loss: 1151.8254, Valid loss: 1045.4558\n"
          ]
        },
        {
          "output_type": "stream",
          "name": "stderr",
          "text": [
            "Epoch [207/8000]: 100%|██████████| 19/19 [00:00<00:00, 138.70it/s, loss=1.11e+3]\n"
          ]
        },
        {
          "output_type": "stream",
          "name": "stdout",
          "text": [
            "Epoch [207/8000]: Train loss: 1151.2808, Valid loss: 1053.9813\n"
          ]
        },
        {
          "output_type": "stream",
          "name": "stderr",
          "text": [
            "Epoch [208/8000]: 100%|██████████| 19/19 [00:00<00:00, 139.38it/s, loss=1.31e+3]\n"
          ]
        },
        {
          "output_type": "stream",
          "name": "stdout",
          "text": [
            "Epoch [208/8000]: Train loss: 1153.0025, Valid loss: 1050.6450\n"
          ]
        },
        {
          "output_type": "stream",
          "name": "stderr",
          "text": [
            "Epoch [209/8000]: 100%|██████████| 19/19 [00:00<00:00, 135.34it/s, loss=1.18e+3]\n"
          ]
        },
        {
          "output_type": "stream",
          "name": "stdout",
          "text": [
            "Epoch [209/8000]: Train loss: 1151.4011, Valid loss: 1063.6639\n"
          ]
        },
        {
          "output_type": "stream",
          "name": "stderr",
          "text": [
            "Epoch [210/8000]: 100%|██████████| 19/19 [00:00<00:00, 136.24it/s, loss=1.13e+3]\n"
          ]
        },
        {
          "output_type": "stream",
          "name": "stdout",
          "text": [
            "Epoch [210/8000]: Train loss: 1150.6018, Valid loss: 1045.4068\n"
          ]
        },
        {
          "output_type": "stream",
          "name": "stderr",
          "text": [
            "Epoch [211/8000]: 100%|██████████| 19/19 [00:00<00:00, 136.70it/s, loss=1.16e+3]\n"
          ]
        },
        {
          "output_type": "stream",
          "name": "stdout",
          "text": [
            "Epoch [211/8000]: Train loss: 1150.5685, Valid loss: 1064.6247\n"
          ]
        },
        {
          "output_type": "stream",
          "name": "stderr",
          "text": [
            "Epoch [212/8000]: 100%|██████████| 19/19 [00:00<00:00, 128.11it/s, loss=1.21e+3]\n"
          ]
        },
        {
          "output_type": "stream",
          "name": "stdout",
          "text": [
            "Epoch [212/8000]: Train loss: 1150.7308, Valid loss: 1050.9591\n"
          ]
        },
        {
          "output_type": "stream",
          "name": "stderr",
          "text": [
            "Epoch [218/8000]: 100%|██████████| 19/19 [00:00<00:00, 125.68it/s, loss=1.11e+3]\n"
          ]
        },
        {
          "output_type": "stream",
          "name": "stdout",
          "text": [
            "Epoch [218/8000]: Train loss: 1147.9697, Valid loss: 1046.7328\n"
          ]
        },
        {
          "output_type": "stream",
          "name": "stderr",
          "text": [
            "Epoch [219/8000]: 100%|██████████| 19/19 [00:00<00:00, 126.66it/s, loss=1.07e+3]\n"
          ]
        },
        {
          "output_type": "stream",
          "name": "stdout",
          "text": [
            "Epoch [219/8000]: Train loss: 1147.3115, Valid loss: 1040.7474\n"
          ]
        },
        {
          "output_type": "stream",
          "name": "stderr",
          "text": [
            "Epoch [220/8000]: 100%|██████████| 19/19 [00:00<00:00, 125.61it/s, loss=1.22e+3]\n"
          ]
        },
        {
          "output_type": "stream",
          "name": "stdout",
          "text": [
            "Epoch [220/8000]: Train loss: 1148.4805, Valid loss: 1052.5665\n"
          ]
        },
        {
          "output_type": "stream",
          "name": "stderr",
          "text": [
            "Epoch [221/8000]: 100%|██████████| 19/19 [00:00<00:00, 127.16it/s, loss=1.3e+3]\n"
          ]
        },
        {
          "output_type": "stream",
          "name": "stdout",
          "text": [
            "Epoch [221/8000]: Train loss: 1148.9741, Valid loss: 1042.5018\n"
          ]
        },
        {
          "output_type": "stream",
          "name": "stderr",
          "text": [
            "Epoch [222/8000]: 100%|██████████| 19/19 [00:00<00:00, 132.66it/s, loss=1.21e+3]\n"
          ]
        },
        {
          "output_type": "stream",
          "name": "stdout",
          "text": [
            "Epoch [222/8000]: Train loss: 1147.8258, Valid loss: 1048.4586\n"
          ]
        },
        {
          "output_type": "stream",
          "name": "stderr",
          "text": [
            "Epoch [223/8000]: 100%|██████████| 19/19 [00:00<00:00, 127.03it/s, loss=1.07e+3]\n"
          ]
        },
        {
          "output_type": "stream",
          "name": "stdout",
          "text": [
            "Epoch [223/8000]: Train loss: 1146.0625, Valid loss: 1038.9078\n",
            "Saving model with loss 1038.908...\n"
          ]
        },
        {
          "output_type": "stream",
          "name": "stderr",
          "text": [
            "Epoch [224/8000]: 100%|██████████| 19/19 [00:00<00:00, 129.43it/s, loss=1.1e+3]\n"
          ]
        },
        {
          "output_type": "stream",
          "name": "stdout",
          "text": [
            "Epoch [224/8000]: Train loss: 1146.1503, Valid loss: 1051.6250\n"
          ]
        },
        {
          "output_type": "stream",
          "name": "stderr",
          "text": [
            "Epoch [225/8000]: 100%|██████████| 19/19 [00:00<00:00, 119.53it/s, loss=1.15e+3]\n"
          ]
        },
        {
          "output_type": "stream",
          "name": "stdout",
          "text": [
            "Epoch [225/8000]: Train loss: 1146.2982, Valid loss: 1049.7085\n"
          ]
        },
        {
          "output_type": "stream",
          "name": "stderr",
          "text": [
            "Epoch [226/8000]: 100%|██████████| 19/19 [00:00<00:00, 108.19it/s, loss=1.19e+3]\n"
          ]
        },
        {
          "output_type": "stream",
          "name": "stdout",
          "text": [
            "Epoch [226/8000]: Train loss: 1146.4270, Valid loss: 1038.0931\n",
            "Saving model with loss 1038.093...\n"
          ]
        },
        {
          "output_type": "stream",
          "name": "stderr",
          "text": [
            "Epoch [227/8000]: 100%|██████████| 19/19 [00:00<00:00, 127.25it/s, loss=1.16e+3]\n"
          ]
        },
        {
          "output_type": "stream",
          "name": "stdout",
          "text": [
            "Epoch [227/8000]: Train loss: 1145.8375, Valid loss: 1044.8484\n"
          ]
        },
        {
          "output_type": "stream",
          "name": "stderr",
          "text": [
            "Epoch [228/8000]: 100%|██████████| 19/19 [00:00<00:00, 133.45it/s, loss=1.16e+3]\n"
          ]
        },
        {
          "output_type": "stream",
          "name": "stdout",
          "text": [
            "Epoch [228/8000]: Train loss: 1145.5492, Valid loss: 1049.2151\n"
          ]
        },
        {
          "output_type": "stream",
          "name": "stderr",
          "text": [
            "Epoch [229/8000]: 100%|██████████| 19/19 [00:00<00:00, 145.18it/s, loss=1.15e+3]\n"
          ]
        },
        {
          "output_type": "stream",
          "name": "stdout",
          "text": [
            "Epoch [229/8000]: Train loss: 1145.1064, Valid loss: 1039.1759\n"
          ]
        },
        {
          "output_type": "stream",
          "name": "stderr",
          "text": [
            "Epoch [240/8000]: 100%|██████████| 19/19 [00:00<00:00, 130.51it/s, loss=1.15e+3]\n"
          ]
        },
        {
          "output_type": "stream",
          "name": "stdout",
          "text": [
            "Epoch [240/8000]: Train loss: 1141.9471, Valid loss: 1047.5288\n"
          ]
        },
        {
          "output_type": "stream",
          "name": "stderr",
          "text": [
            "Epoch [241/8000]: 100%|██████████| 19/19 [00:00<00:00, 144.68it/s, loss=1.23e+3]\n"
          ]
        },
        {
          "output_type": "stream",
          "name": "stdout",
          "text": [
            "Epoch [241/8000]: Train loss: 1142.5188, Valid loss: 1037.1000\n"
          ]
        },
        {
          "output_type": "stream",
          "name": "stderr",
          "text": [
            "Epoch [242/8000]: 100%|██████████| 19/19 [00:00<00:00, 142.86it/s, loss=1.03e+3]\n"
          ]
        },
        {
          "output_type": "stream",
          "name": "stdout",
          "text": [
            "Epoch [242/8000]: Train loss: 1140.2500, Valid loss: 1039.4415\n"
          ]
        },
        {
          "output_type": "stream",
          "name": "stderr",
          "text": [
            "Epoch [243/8000]: 100%|██████████| 19/19 [00:00<00:00, 142.49it/s, loss=1.22e+3]\n"
          ]
        },
        {
          "output_type": "stream",
          "name": "stdout",
          "text": [
            "Epoch [243/8000]: Train loss: 1141.8231, Valid loss: 1055.7425\n"
          ]
        },
        {
          "output_type": "stream",
          "name": "stderr",
          "text": [
            "Epoch [244/8000]: 100%|██████████| 19/19 [00:00<00:00, 130.47it/s, loss=1.01e+3]\n"
          ]
        },
        {
          "output_type": "stream",
          "name": "stdout",
          "text": [
            "Epoch [244/8000]: Train loss: 1139.4703, Valid loss: 1034.7949\n",
            "Saving model with loss 1034.795...\n"
          ]
        },
        {
          "output_type": "stream",
          "name": "stderr",
          "text": [
            "Epoch [245/8000]: 100%|██████████| 19/19 [00:00<00:00, 124.81it/s, loss=1.12e+3]\n"
          ]
        },
        {
          "output_type": "stream",
          "name": "stdout",
          "text": [
            "Epoch [245/8000]: Train loss: 1140.2406, Valid loss: 1027.6241\n",
            "Saving model with loss 1027.624...\n"
          ]
        },
        {
          "output_type": "stream",
          "name": "stderr",
          "text": [
            "Epoch [246/8000]: 100%|██████████| 19/19 [00:00<00:00, 138.04it/s, loss=1.35e+3]\n"
          ]
        },
        {
          "output_type": "stream",
          "name": "stdout",
          "text": [
            "Epoch [246/8000]: Train loss: 1142.2610, Valid loss: 1054.0311\n"
          ]
        },
        {
          "output_type": "stream",
          "name": "stderr",
          "text": [
            "Epoch [247/8000]: 100%|██████████| 19/19 [00:00<00:00, 138.96it/s, loss=1.2e+3]\n"
          ]
        },
        {
          "output_type": "stream",
          "name": "stdout",
          "text": [
            "Epoch [247/8000]: Train loss: 1140.4921, Valid loss: 1051.8513\n"
          ]
        },
        {
          "output_type": "stream",
          "name": "stderr",
          "text": [
            "Epoch [248/8000]: 100%|██████████| 19/19 [00:00<00:00, 127.36it/s, loss=1.23e+3]\n"
          ]
        },
        {
          "output_type": "stream",
          "name": "stdout",
          "text": [
            "Epoch [248/8000]: Train loss: 1140.4929, Valid loss: 1038.8159\n"
          ]
        },
        {
          "output_type": "stream",
          "name": "stderr",
          "text": [
            "Epoch [249/8000]: 100%|██████████| 19/19 [00:00<00:00, 137.32it/s, loss=1.06e+3]\n"
          ]
        },
        {
          "output_type": "stream",
          "name": "stdout",
          "text": [
            "Epoch [249/8000]: Train loss: 1138.5817, Valid loss: 1043.5735\n"
          ]
        },
        {
          "output_type": "stream",
          "name": "stderr",
          "text": [
            "Epoch [250/8000]: 100%|██████████| 19/19 [00:00<00:00, 138.46it/s, loss=1.2e+3]\n"
          ]
        },
        {
          "output_type": "stream",
          "name": "stdout",
          "text": [
            "Epoch [250/8000]: Train loss: 1139.6890, Valid loss: 1040.1870\n"
          ]
        },
        {
          "output_type": "stream",
          "name": "stderr",
          "text": [
            "Epoch [251/8000]: 100%|██████████| 19/19 [00:00<00:00, 136.83it/s, loss=1.21e+3]\n"
          ]
        },
        {
          "output_type": "stream",
          "name": "stdout",
          "text": [
            "Epoch [251/8000]: Train loss: 1139.5145, Valid loss: 1041.3448\n"
          ]
        },
        {
          "output_type": "stream",
          "name": "stderr",
          "text": [
            "Epoch [254/8000]: 100%|██████████| 19/19 [00:00<00:00, 134.80it/s, loss=1.14e+3]\n"
          ]
        },
        {
          "output_type": "stream",
          "name": "stdout",
          "text": [
            "Epoch [254/8000]: Train loss: 1137.9904, Valid loss: 1044.0833\n"
          ]
        },
        {
          "output_type": "stream",
          "name": "stderr",
          "text": [
            "Epoch [255/8000]: 100%|██████████| 19/19 [00:00<00:00, 131.37it/s, loss=1.17e+3]\n"
          ]
        },
        {
          "output_type": "stream",
          "name": "stdout",
          "text": [
            "Epoch [255/8000]: Train loss: 1137.9879, Valid loss: 1044.7401\n"
          ]
        },
        {
          "output_type": "stream",
          "name": "stderr",
          "text": [
            "Epoch [256/8000]: 100%|██████████| 19/19 [00:00<00:00, 138.70it/s, loss=1.13e+3]\n"
          ]
        },
        {
          "output_type": "stream",
          "name": "stdout",
          "text": [
            "Epoch [256/8000]: Train loss: 1137.3414, Valid loss: 1046.7473\n"
          ]
        },
        {
          "output_type": "stream",
          "name": "stderr",
          "text": [
            "Epoch [257/8000]: 100%|██████████| 19/19 [00:00<00:00, 147.16it/s, loss=1.15e+3]\n"
          ]
        },
        {
          "output_type": "stream",
          "name": "stdout",
          "text": [
            "Epoch [257/8000]: Train loss: 1137.2910, Valid loss: 1032.1091\n"
          ]
        },
        {
          "output_type": "stream",
          "name": "stderr",
          "text": [
            "Epoch [258/8000]: 100%|██████████| 19/19 [00:00<00:00, 141.95it/s, loss=1.17e+3]\n"
          ]
        },
        {
          "output_type": "stream",
          "name": "stdout",
          "text": [
            "Epoch [258/8000]: Train loss: 1137.2497, Valid loss: 1040.7228\n"
          ]
        },
        {
          "output_type": "stream",
          "name": "stderr",
          "text": [
            "Epoch [259/8000]: 100%|██████████| 19/19 [00:00<00:00, 141.71it/s, loss=905]\n"
          ]
        },
        {
          "output_type": "stream",
          "name": "stdout",
          "text": [
            "Epoch [259/8000]: Train loss: 1134.3148, Valid loss: 1042.7618\n"
          ]
        },
        {
          "output_type": "stream",
          "name": "stderr",
          "text": [
            "Epoch [260/8000]: 100%|██████████| 19/19 [00:00<00:00, 113.52it/s, loss=1.03e+3]\n"
          ]
        },
        {
          "output_type": "stream",
          "name": "stdout",
          "text": [
            "Epoch [260/8000]: Train loss: 1135.2739, Valid loss: 1045.7048\n"
          ]
        },
        {
          "output_type": "stream",
          "name": "stderr",
          "text": [
            "Epoch [261/8000]: 100%|██████████| 19/19 [00:00<00:00, 119.96it/s, loss=1.32e+3]\n"
          ]
        },
        {
          "output_type": "stream",
          "name": "stdout",
          "text": [
            "Epoch [261/8000]: Train loss: 1137.8253, Valid loss: 1038.3030\n"
          ]
        },
        {
          "output_type": "stream",
          "name": "stderr",
          "text": [
            "Epoch [262/8000]: 100%|██████████| 19/19 [00:00<00:00, 121.97it/s, loss=1.35e+3]\n"
          ]
        },
        {
          "output_type": "stream",
          "name": "stdout",
          "text": [
            "Epoch [262/8000]: Train loss: 1137.9304, Valid loss: 1038.3708\n"
          ]
        },
        {
          "output_type": "stream",
          "name": "stderr",
          "text": [
            "Epoch [263/8000]: 100%|██████████| 19/19 [00:00<00:00, 126.88it/s, loss=1.11e+3]\n"
          ]
        },
        {
          "output_type": "stream",
          "name": "stdout",
          "text": [
            "Epoch [263/8000]: Train loss: 1135.2944, Valid loss: 1035.8572\n"
          ]
        },
        {
          "output_type": "stream",
          "name": "stderr",
          "text": [
            "Epoch [264/8000]: 100%|██████████| 19/19 [00:00<00:00, 130.16it/s, loss=1.01e+3]\n"
          ]
        },
        {
          "output_type": "stream",
          "name": "stdout",
          "text": [
            "Epoch [264/8000]: Train loss: 1133.9898, Valid loss: 1028.0749\n"
          ]
        },
        {
          "output_type": "stream",
          "name": "stderr",
          "text": [
            "Epoch [265/8000]: 100%|██████████| 19/19 [00:00<00:00, 129.68it/s, loss=1.14e+3]\n"
          ]
        },
        {
          "output_type": "stream",
          "name": "stdout",
          "text": [
            "Epoch [265/8000]: Train loss: 1134.9803, Valid loss: 1035.6321\n"
          ]
        },
        {
          "output_type": "stream",
          "name": "stderr",
          "text": [
            "Epoch [266/8000]: 100%|██████████| 19/19 [00:00<00:00, 138.87it/s, loss=1.02e+3]\n"
          ]
        },
        {
          "output_type": "stream",
          "name": "stdout",
          "text": [
            "Epoch [266/8000]: Train loss: 1133.6078, Valid loss: 1034.5279\n"
          ]
        },
        {
          "output_type": "stream",
          "name": "stderr",
          "text": [
            "Epoch [267/8000]: 100%|██████████| 19/19 [00:00<00:00, 139.02it/s, loss=1.24e+3]\n"
          ]
        },
        {
          "output_type": "stream",
          "name": "stdout",
          "text": [
            "Epoch [267/8000]: Train loss: 1135.4828, Valid loss: 1032.1256\n"
          ]
        },
        {
          "output_type": "stream",
          "name": "stderr",
          "text": [
            "Epoch [268/8000]: 100%|██████████| 19/19 [00:00<00:00, 137.08it/s, loss=1.18e+3]\n"
          ]
        },
        {
          "output_type": "stream",
          "name": "stdout",
          "text": [
            "Epoch [268/8000]: Train loss: 1134.6083, Valid loss: 1036.6707\n"
          ]
        },
        {
          "output_type": "stream",
          "name": "stderr",
          "text": [
            "Epoch [269/8000]: 100%|██████████| 19/19 [00:00<00:00, 116.10it/s, loss=1.21e+3]\n"
          ]
        },
        {
          "output_type": "stream",
          "name": "stdout",
          "text": [
            "Epoch [269/8000]: Train loss: 1134.6242, Valid loss: 1031.9454\n"
          ]
        },
        {
          "output_type": "stream",
          "name": "stderr",
          "text": [
            "Epoch [270/8000]: 100%|██████████| 19/19 [00:00<00:00, 121.66it/s, loss=1.09e+3]\n"
          ]
        },
        {
          "output_type": "stream",
          "name": "stdout",
          "text": [
            "Epoch [270/8000]: Train loss: 1133.1847, Valid loss: 1038.2824\n"
          ]
        },
        {
          "output_type": "stream",
          "name": "stderr",
          "text": [
            "Epoch [271/8000]: 100%|██████████| 19/19 [00:00<00:00, 100.90it/s, loss=1.18e+3]\n"
          ]
        },
        {
          "output_type": "stream",
          "name": "stdout",
          "text": [
            "Epoch [271/8000]: Train loss: 1133.8181, Valid loss: 1024.2411\n",
            "Saving model with loss 1024.241...\n"
          ]
        },
        {
          "output_type": "stream",
          "name": "stderr",
          "text": [
            "Epoch [272/8000]: 100%|██████████| 19/19 [00:00<00:00, 103.60it/s, loss=1.05e+3]\n"
          ]
        },
        {
          "output_type": "stream",
          "name": "stdout",
          "text": [
            "Epoch [272/8000]: Train loss: 1132.2983, Valid loss: 1037.3049\n"
          ]
        },
        {
          "output_type": "stream",
          "name": "stderr",
          "text": [
            "Epoch [273/8000]: 100%|██████████| 19/19 [00:00<00:00, 113.87it/s, loss=1.19e+3]\n"
          ]
        },
        {
          "output_type": "stream",
          "name": "stdout",
          "text": [
            "Epoch [273/8000]: Train loss: 1133.4079, Valid loss: 1026.5820\n"
          ]
        },
        {
          "output_type": "stream",
          "name": "stderr",
          "text": [
            "Epoch [274/8000]: 100%|██████████| 19/19 [00:00<00:00, 117.55it/s, loss=893]\n"
          ]
        },
        {
          "output_type": "stream",
          "name": "stdout",
          "text": [
            "Epoch [274/8000]: Train loss: 1130.1972, Valid loss: 1025.1608\n"
          ]
        },
        {
          "output_type": "stream",
          "name": "stderr",
          "text": [
            "Epoch [275/8000]: 100%|██████████| 19/19 [00:00<00:00, 113.67it/s, loss=1.07e+3]\n"
          ]
        },
        {
          "output_type": "stream",
          "name": "stdout",
          "text": [
            "Epoch [275/8000]: Train loss: 1131.6897, Valid loss: 1033.7007\n"
          ]
        },
        {
          "output_type": "stream",
          "name": "stderr",
          "text": [
            "Epoch [276/8000]: 100%|██████████| 19/19 [00:00<00:00, 108.26it/s, loss=1.19e+3]\n"
          ]
        },
        {
          "output_type": "stream",
          "name": "stdout",
          "text": [
            "Epoch [276/8000]: Train loss: 1132.6000, Valid loss: 1038.7693\n"
          ]
        },
        {
          "output_type": "stream",
          "name": "stderr",
          "text": [
            "Epoch [277/8000]: 100%|██████████| 19/19 [00:00<00:00, 108.84it/s, loss=1.11e+3]\n"
          ]
        },
        {
          "output_type": "stream",
          "name": "stdout",
          "text": [
            "Epoch [277/8000]: Train loss: 1131.5476, Valid loss: 1032.8892\n"
          ]
        },
        {
          "output_type": "stream",
          "name": "stderr",
          "text": [
            "Epoch [278/8000]: 100%|██████████| 19/19 [00:00<00:00, 117.55it/s, loss=1.16e+3]\n"
          ]
        },
        {
          "output_type": "stream",
          "name": "stdout",
          "text": [
            "Epoch [278/8000]: Train loss: 1131.7865, Valid loss: 1029.9961\n"
          ]
        },
        {
          "output_type": "stream",
          "name": "stderr",
          "text": [
            "Epoch [279/8000]: 100%|██████████| 19/19 [00:00<00:00, 108.43it/s, loss=1.14e+3]\n"
          ]
        },
        {
          "output_type": "stream",
          "name": "stdout",
          "text": [
            "Epoch [279/8000]: Train loss: 1131.2981, Valid loss: 1034.6677\n"
          ]
        },
        {
          "output_type": "stream",
          "name": "stderr",
          "text": [
            "Epoch [280/8000]: 100%|██████████| 19/19 [00:00<00:00, 107.40it/s, loss=1.08e+3]\n"
          ]
        },
        {
          "output_type": "stream",
          "name": "stdout",
          "text": [
            "Epoch [280/8000]: Train loss: 1130.5216, Valid loss: 1031.5372\n"
          ]
        },
        {
          "output_type": "stream",
          "name": "stderr",
          "text": [
            "Epoch [281/8000]: 100%|██████████| 19/19 [00:00<00:00, 113.73it/s, loss=1e+3]\n"
          ]
        },
        {
          "output_type": "stream",
          "name": "stdout",
          "text": [
            "Epoch [281/8000]: Train loss: 1129.4382, Valid loss: 1028.1834\n"
          ]
        },
        {
          "output_type": "stream",
          "name": "stderr",
          "text": [
            "Epoch [282/8000]: 100%|██████████| 19/19 [00:00<00:00, 115.46it/s, loss=1.19e+3]\n"
          ]
        },
        {
          "output_type": "stream",
          "name": "stdout",
          "text": [
            "Epoch [282/8000]: Train loss: 1131.0656, Valid loss: 1029.3730\n"
          ]
        },
        {
          "output_type": "stream",
          "name": "stderr",
          "text": [
            "Epoch [283/8000]: 100%|██████████| 19/19 [00:00<00:00, 113.30it/s, loss=1.17e+3]\n"
          ]
        },
        {
          "output_type": "stream",
          "name": "stdout",
          "text": [
            "Epoch [283/8000]: Train loss: 1130.5722, Valid loss: 1020.0659\n",
            "Saving model with loss 1020.066...\n"
          ]
        },
        {
          "output_type": "stream",
          "name": "stderr",
          "text": [
            "Epoch [284/8000]: 100%|██████████| 19/19 [00:00<00:00, 125.49it/s, loss=1.25e+3]\n"
          ]
        },
        {
          "output_type": "stream",
          "name": "stdout",
          "text": [
            "Epoch [284/8000]: Train loss: 1131.0892, Valid loss: 1027.7584\n"
          ]
        },
        {
          "output_type": "stream",
          "name": "stderr",
          "text": [
            "Epoch [285/8000]: 100%|██████████| 19/19 [00:00<00:00, 109.61it/s, loss=1.12e+3]\n"
          ]
        },
        {
          "output_type": "stream",
          "name": "stdout",
          "text": [
            "Epoch [285/8000]: Train loss: 1129.6034, Valid loss: 1035.6043\n"
          ]
        },
        {
          "output_type": "stream",
          "name": "stderr",
          "text": [
            "Epoch [286/8000]: 100%|██████████| 19/19 [00:00<00:00, 120.53it/s, loss=1.28e+3]\n"
          ]
        },
        {
          "output_type": "stream",
          "name": "stdout",
          "text": [
            "Epoch [286/8000]: Train loss: 1130.8735, Valid loss: 1030.6664\n"
          ]
        },
        {
          "output_type": "stream",
          "name": "stderr",
          "text": [
            "Epoch [287/8000]: 100%|██████████| 19/19 [00:00<00:00, 104.79it/s, loss=1.07e+3]\n"
          ]
        },
        {
          "output_type": "stream",
          "name": "stdout",
          "text": [
            "Epoch [287/8000]: Train loss: 1128.5285, Valid loss: 1024.7282\n"
          ]
        },
        {
          "output_type": "stream",
          "name": "stderr",
          "text": [
            "Epoch [288/8000]: 100%|██████████| 19/19 [00:00<00:00, 96.37it/s, loss=1.33e+3] \n"
          ]
        },
        {
          "output_type": "stream",
          "name": "stdout",
          "text": [
            "Epoch [288/8000]: Train loss: 1130.9277, Valid loss: 1020.6964\n"
          ]
        },
        {
          "output_type": "stream",
          "name": "stderr",
          "text": [
            "Epoch [289/8000]: 100%|██████████| 19/19 [00:00<00:00, 105.40it/s, loss=1.14e+3]\n"
          ]
        },
        {
          "output_type": "stream",
          "name": "stdout",
          "text": [
            "Epoch [289/8000]: Train loss: 1128.7709, Valid loss: 1030.9964\n"
          ]
        },
        {
          "output_type": "stream",
          "name": "stderr",
          "text": [
            "Epoch [290/8000]: 100%|██████████| 19/19 [00:00<00:00, 124.32it/s, loss=1.13e+3]\n"
          ]
        },
        {
          "output_type": "stream",
          "name": "stdout",
          "text": [
            "Epoch [290/8000]: Train loss: 1128.3929, Valid loss: 1025.0265\n"
          ]
        },
        {
          "output_type": "stream",
          "name": "stderr",
          "text": [
            "Epoch [291/8000]: 100%|██████████| 19/19 [00:00<00:00, 111.73it/s, loss=1.07e+3]\n"
          ]
        },
        {
          "output_type": "stream",
          "name": "stdout",
          "text": [
            "Epoch [291/8000]: Train loss: 1127.5816, Valid loss: 1024.1721\n"
          ]
        },
        {
          "output_type": "stream",
          "name": "stderr",
          "text": [
            "Epoch [292/8000]: 100%|██████████| 19/19 [00:00<00:00, 116.51it/s, loss=1.22e+3]\n"
          ]
        },
        {
          "output_type": "stream",
          "name": "stdout",
          "text": [
            "Epoch [292/8000]: Train loss: 1128.8224, Valid loss: 1020.5588\n"
          ]
        },
        {
          "output_type": "stream",
          "name": "stderr",
          "text": [
            "Epoch [293/8000]: 100%|██████████| 19/19 [00:00<00:00, 124.11it/s, loss=1.08e+3]\n"
          ]
        },
        {
          "output_type": "stream",
          "name": "stdout",
          "text": [
            "Epoch [293/8000]: Train loss: 1127.1588, Valid loss: 1033.7376\n"
          ]
        },
        {
          "output_type": "stream",
          "name": "stderr",
          "text": [
            "Epoch [294/8000]: 100%|██████████| 19/19 [00:00<00:00, 129.55it/s, loss=1.18e+3]\n"
          ]
        },
        {
          "output_type": "stream",
          "name": "stdout",
          "text": [
            "Epoch [294/8000]: Train loss: 1127.8819, Valid loss: 1025.5585\n"
          ]
        },
        {
          "output_type": "stream",
          "name": "stderr",
          "text": [
            "Epoch [295/8000]: 100%|██████████| 19/19 [00:00<00:00, 123.68it/s, loss=1.14e+3]\n"
          ]
        },
        {
          "output_type": "stream",
          "name": "stdout",
          "text": [
            "Epoch [295/8000]: Train loss: 1127.1916, Valid loss: 1027.2913\n"
          ]
        },
        {
          "output_type": "stream",
          "name": "stderr",
          "text": [
            "Epoch [296/8000]: 100%|██████████| 19/19 [00:00<00:00, 107.45it/s, loss=1.09e+3]\n"
          ]
        },
        {
          "output_type": "stream",
          "name": "stdout",
          "text": [
            "Epoch [296/8000]: Train loss: 1126.5327, Valid loss: 1033.3091\n"
          ]
        },
        {
          "output_type": "stream",
          "name": "stderr",
          "text": [
            "Epoch [297/8000]: 100%|██████████| 19/19 [00:00<00:00, 109.28it/s, loss=1.13e+3]\n"
          ]
        },
        {
          "output_type": "stream",
          "name": "stdout",
          "text": [
            "Epoch [297/8000]: Train loss: 1126.6630, Valid loss: 1024.9895\n"
          ]
        },
        {
          "output_type": "stream",
          "name": "stderr",
          "text": [
            "Epoch [298/8000]: 100%|██████████| 19/19 [00:00<00:00, 106.71it/s, loss=1.32e+3]\n"
          ]
        },
        {
          "output_type": "stream",
          "name": "stdout",
          "text": [
            "Epoch [298/8000]: Train loss: 1128.2693, Valid loss: 1028.2259\n"
          ]
        },
        {
          "output_type": "stream",
          "name": "stderr",
          "text": [
            "Epoch [299/8000]: 100%|██████████| 19/19 [00:00<00:00, 107.68it/s, loss=1.12e+3]\n"
          ]
        },
        {
          "output_type": "stream",
          "name": "stdout",
          "text": [
            "Epoch [299/8000]: Train loss: 1126.0579, Valid loss: 1030.3437\n"
          ]
        },
        {
          "output_type": "stream",
          "name": "stderr",
          "text": [
            "Epoch [300/8000]: 100%|██████████| 19/19 [00:00<00:00, 126.19it/s, loss=1.2e+3]\n"
          ]
        },
        {
          "output_type": "stream",
          "name": "stdout",
          "text": [
            "Epoch [300/8000]: Train loss: 1126.5338, Valid loss: 1024.6437\n"
          ]
        },
        {
          "output_type": "stream",
          "name": "stderr",
          "text": [
            "Epoch [301/8000]: 100%|██████████| 19/19 [00:00<00:00, 118.05it/s, loss=1.29e+3]\n"
          ]
        },
        {
          "output_type": "stream",
          "name": "stdout",
          "text": [
            "Epoch [301/8000]: Train loss: 1127.2416, Valid loss: 1031.9207\n"
          ]
        },
        {
          "output_type": "stream",
          "name": "stderr",
          "text": [
            "Epoch [302/8000]: 100%|██████████| 19/19 [00:00<00:00, 123.56it/s, loss=977]\n"
          ]
        },
        {
          "output_type": "stream",
          "name": "stdout",
          "text": [
            "Epoch [302/8000]: Train loss: 1123.8728, Valid loss: 1020.6014\n"
          ]
        },
        {
          "output_type": "stream",
          "name": "stderr",
          "text": [
            "Epoch [303/8000]: 100%|██████████| 19/19 [00:00<00:00, 121.21it/s, loss=987]\n"
          ]
        },
        {
          "output_type": "stream",
          "name": "stdout",
          "text": [
            "Epoch [303/8000]: Train loss: 1123.7149, Valid loss: 1016.4983\n",
            "Saving model with loss 1016.498...\n"
          ]
        },
        {
          "output_type": "stream",
          "name": "stderr",
          "text": [
            "Epoch [304/8000]: 100%|██████████| 19/19 [00:00<00:00, 126.66it/s, loss=1.08e+3]\n"
          ]
        },
        {
          "output_type": "stream",
          "name": "stdout",
          "text": [
            "Epoch [304/8000]: Train loss: 1124.4296, Valid loss: 1030.9046\n"
          ]
        },
        {
          "output_type": "stream",
          "name": "stderr",
          "text": [
            "Epoch [305/8000]: 100%|██████████| 19/19 [00:00<00:00, 127.44it/s, loss=995]\n"
          ]
        },
        {
          "output_type": "stream",
          "name": "stdout",
          "text": [
            "Epoch [305/8000]: Train loss: 1123.3005, Valid loss: 1028.1207\n"
          ]
        },
        {
          "output_type": "stream",
          "name": "stderr",
          "text": [
            "Epoch [306/8000]: 100%|██████████| 19/19 [00:00<00:00, 119.40it/s, loss=1.1e+3]\n"
          ]
        },
        {
          "output_type": "stream",
          "name": "stdout",
          "text": [
            "Epoch [306/8000]: Train loss: 1124.1202, Valid loss: 1037.3408\n"
          ]
        },
        {
          "output_type": "stream",
          "name": "stderr",
          "text": [
            "Epoch [307/8000]: 100%|██████████| 19/19 [00:00<00:00, 124.81it/s, loss=1.03e+3]\n"
          ]
        },
        {
          "output_type": "stream",
          "name": "stdout",
          "text": [
            "Epoch [307/8000]: Train loss: 1123.1577, Valid loss: 1021.7670\n"
          ]
        },
        {
          "output_type": "stream",
          "name": "stderr",
          "text": [
            "Epoch [308/8000]: 100%|██████████| 19/19 [00:00<00:00, 126.91it/s, loss=1.13e+3]\n"
          ]
        },
        {
          "output_type": "stream",
          "name": "stdout",
          "text": [
            "Epoch [308/8000]: Train loss: 1123.8670, Valid loss: 1031.3964\n"
          ]
        },
        {
          "output_type": "stream",
          "name": "stderr",
          "text": [
            "Epoch [309/8000]: 100%|██████████| 19/19 [00:00<00:00, 125.61it/s, loss=1.14e+3]\n"
          ]
        },
        {
          "output_type": "stream",
          "name": "stdout",
          "text": [
            "Epoch [309/8000]: Train loss: 1123.7332, Valid loss: 1022.1390\n"
          ]
        },
        {
          "output_type": "stream",
          "name": "stderr",
          "text": [
            "Epoch [310/8000]: 100%|██████████| 19/19 [00:00<00:00, 124.84it/s, loss=1.07e+3]\n"
          ]
        },
        {
          "output_type": "stream",
          "name": "stdout",
          "text": [
            "Epoch [310/8000]: Train loss: 1122.8548, Valid loss: 1026.7600\n"
          ]
        },
        {
          "output_type": "stream",
          "name": "stderr",
          "text": [
            "Epoch [311/8000]: 100%|██████████| 19/19 [00:00<00:00, 126.27it/s, loss=1.25e+3]\n"
          ]
        },
        {
          "output_type": "stream",
          "name": "stdout",
          "text": [
            "Epoch [311/8000]: Train loss: 1124.3853, Valid loss: 1018.0719\n"
          ]
        },
        {
          "output_type": "stream",
          "name": "stderr",
          "text": [
            "Epoch [312/8000]: 100%|██████████| 19/19 [00:00<00:00, 124.01it/s, loss=1.09e+3]\n"
          ]
        },
        {
          "output_type": "stream",
          "name": "stdout",
          "text": [
            "Epoch [312/8000]: Train loss: 1122.5552, Valid loss: 1022.1654\n"
          ]
        },
        {
          "output_type": "stream",
          "name": "stderr",
          "text": [
            "Epoch [313/8000]: 100%|██████████| 19/19 [00:00<00:00, 127.93it/s, loss=1.06e+3]\n"
          ]
        },
        {
          "output_type": "stream",
          "name": "stdout",
          "text": [
            "Epoch [313/8000]: Train loss: 1121.9680, Valid loss: 1012.7248\n",
            "Saving model with loss 1012.725...\n"
          ]
        },
        {
          "output_type": "stream",
          "name": "stderr",
          "text": [
            "Epoch [314/8000]: 100%|██████████| 19/19 [00:00<00:00, 121.68it/s, loss=1.34e+3]\n"
          ]
        },
        {
          "output_type": "stream",
          "name": "stdout",
          "text": [
            "Epoch [314/8000]: Train loss: 1124.4918, Valid loss: 1027.1954\n"
          ]
        },
        {
          "output_type": "stream",
          "name": "stderr",
          "text": [
            "Epoch [315/8000]: 100%|██████████| 19/19 [00:00<00:00, 125.34it/s, loss=1.16e+3]\n"
          ]
        },
        {
          "output_type": "stream",
          "name": "stdout",
          "text": [
            "Epoch [315/8000]: Train loss: 1122.4993, Valid loss: 1026.1899\n"
          ]
        },
        {
          "output_type": "stream",
          "name": "stderr",
          "text": [
            "Epoch [316/8000]: 100%|██████████| 19/19 [00:00<00:00, 132.81it/s, loss=1.2e+3]\n"
          ]
        },
        {
          "output_type": "stream",
          "name": "stdout",
          "text": [
            "Epoch [316/8000]: Train loss: 1122.6128, Valid loss: 1017.0850\n"
          ]
        },
        {
          "output_type": "stream",
          "name": "stderr",
          "text": [
            "Epoch [317/8000]: 100%|██████████| 19/19 [00:00<00:00, 133.85it/s, loss=1.1e+3]\n"
          ]
        },
        {
          "output_type": "stream",
          "name": "stdout",
          "text": [
            "Epoch [317/8000]: Train loss: 1121.3719, Valid loss: 1021.1571\n"
          ]
        },
        {
          "output_type": "stream",
          "name": "stderr",
          "text": [
            "Epoch [318/8000]: 100%|██████████| 19/19 [00:00<00:00, 122.70it/s, loss=939]\n"
          ]
        },
        {
          "output_type": "stream",
          "name": "stdout",
          "text": [
            "Epoch [318/8000]: Train loss: 1119.5708, Valid loss: 1025.9676\n"
          ]
        },
        {
          "output_type": "stream",
          "name": "stderr",
          "text": [
            "Epoch [319/8000]: 100%|██████████| 19/19 [00:00<00:00, 125.76it/s, loss=1.26e+3]\n"
          ]
        },
        {
          "output_type": "stream",
          "name": "stdout",
          "text": [
            "Epoch [319/8000]: Train loss: 1122.4859, Valid loss: 1020.4175\n"
          ]
        },
        {
          "output_type": "stream",
          "name": "stderr",
          "text": [
            "Epoch [320/8000]: 100%|██████████| 19/19 [00:00<00:00, 115.09it/s, loss=1.19e+3]\n"
          ]
        },
        {
          "output_type": "stream",
          "name": "stdout",
          "text": [
            "Epoch [320/8000]: Train loss: 1121.5765, Valid loss: 1025.4074\n"
          ]
        },
        {
          "output_type": "stream",
          "name": "stderr",
          "text": [
            "Epoch [321/8000]: 100%|██████████| 19/19 [00:00<00:00, 124.75it/s, loss=1.09e+3]\n"
          ]
        },
        {
          "output_type": "stream",
          "name": "stdout",
          "text": [
            "Epoch [321/8000]: Train loss: 1120.3661, Valid loss: 1027.4621\n"
          ]
        },
        {
          "output_type": "stream",
          "name": "stderr",
          "text": [
            "Epoch [322/8000]: 100%|██████████| 19/19 [00:00<00:00, 117.79it/s, loss=1.07e+3]\n"
          ]
        },
        {
          "output_type": "stream",
          "name": "stdout",
          "text": [
            "Epoch [322/8000]: Train loss: 1119.8878, Valid loss: 1021.9603\n"
          ]
        },
        {
          "output_type": "stream",
          "name": "stderr",
          "text": [
            "Epoch [323/8000]: 100%|██████████| 19/19 [00:00<00:00, 123.53it/s, loss=1.06e+3]\n"
          ]
        },
        {
          "output_type": "stream",
          "name": "stdout",
          "text": [
            "Epoch [323/8000]: Train loss: 1119.5765, Valid loss: 1010.8739\n",
            "Saving model with loss 1010.874...\n"
          ]
        },
        {
          "output_type": "stream",
          "name": "stderr",
          "text": [
            "Epoch [324/8000]: 100%|██████████| 19/19 [00:00<00:00, 135.64it/s, loss=1.16e+3]\n"
          ]
        },
        {
          "output_type": "stream",
          "name": "stdout",
          "text": [
            "Epoch [324/8000]: Train loss: 1120.2983, Valid loss: 1019.7574\n"
          ]
        },
        {
          "output_type": "stream",
          "name": "stderr",
          "text": [
            "Epoch [325/8000]: 100%|██████████| 19/19 [00:00<00:00, 134.13it/s, loss=1.17e+3]\n"
          ]
        },
        {
          "output_type": "stream",
          "name": "stdout",
          "text": [
            "Epoch [325/8000]: Train loss: 1120.1225, Valid loss: 1019.8411\n"
          ]
        },
        {
          "output_type": "stream",
          "name": "stderr",
          "text": [
            "Epoch [326/8000]: 100%|██████████| 19/19 [00:00<00:00, 136.76it/s, loss=1.18e+3]\n"
          ]
        },
        {
          "output_type": "stream",
          "name": "stdout",
          "text": [
            "Epoch [326/8000]: Train loss: 1120.0414, Valid loss: 1021.0183\n"
          ]
        },
        {
          "output_type": "stream",
          "name": "stderr",
          "text": [
            "Epoch [327/8000]: 100%|██████████| 19/19 [00:00<00:00, 142.22it/s, loss=1.25e+3]\n"
          ]
        },
        {
          "output_type": "stream",
          "name": "stdout",
          "text": [
            "Epoch [327/8000]: Train loss: 1120.4764, Valid loss: 1031.3401\n"
          ]
        },
        {
          "output_type": "stream",
          "name": "stderr",
          "text": [
            "Epoch [328/8000]: 100%|██████████| 19/19 [00:00<00:00, 149.47it/s, loss=1.48e+3]\n"
          ]
        },
        {
          "output_type": "stream",
          "name": "stdout",
          "text": [
            "Epoch [328/8000]: Train loss: 1122.4909, Valid loss: 1016.5909\n"
          ]
        },
        {
          "output_type": "stream",
          "name": "stderr",
          "text": [
            "Epoch [329/8000]: 100%|██████████| 19/19 [00:00<00:00, 126.44it/s, loss=1.07e+3]\n"
          ]
        },
        {
          "output_type": "stream",
          "name": "stdout",
          "text": [
            "Epoch [329/8000]: Train loss: 1118.2242, Valid loss: 1022.0224\n"
          ]
        },
        {
          "output_type": "stream",
          "name": "stderr",
          "text": [
            "Epoch [330/8000]: 100%|██████████| 19/19 [00:00<00:00, 139.62it/s, loss=1.14e+3]\n"
          ]
        },
        {
          "output_type": "stream",
          "name": "stdout",
          "text": [
            "Epoch [330/8000]: Train loss: 1118.6531, Valid loss: 1010.8157\n",
            "Saving model with loss 1010.816...\n"
          ]
        },
        {
          "output_type": "stream",
          "name": "stderr",
          "text": [
            "Epoch [331/8000]: 100%|██████████| 19/19 [00:00<00:00, 133.83it/s, loss=931]\n"
          ]
        },
        {
          "output_type": "stream",
          "name": "stdout",
          "text": [
            "Epoch [331/8000]: Train loss: 1116.3891, Valid loss: 1017.5427\n"
          ]
        },
        {
          "output_type": "stream",
          "name": "stderr",
          "text": [
            "Epoch [332/8000]: 100%|██████████| 19/19 [00:00<00:00, 135.21it/s, loss=1.03e+3]\n"
          ]
        },
        {
          "output_type": "stream",
          "name": "stdout",
          "text": [
            "Epoch [332/8000]: Train loss: 1117.0981, Valid loss: 1009.8657\n",
            "Saving model with loss 1009.866...\n"
          ]
        },
        {
          "output_type": "stream",
          "name": "stderr",
          "text": [
            "Epoch [333/8000]: 100%|██████████| 19/19 [00:00<00:00, 117.13it/s, loss=1.08e+3]\n"
          ]
        },
        {
          "output_type": "stream",
          "name": "stdout",
          "text": [
            "Epoch [333/8000]: Train loss: 1117.3592, Valid loss: 1012.1941\n"
          ]
        },
        {
          "output_type": "stream",
          "name": "stderr",
          "text": [
            "Epoch [334/8000]: 100%|██████████| 19/19 [00:00<00:00, 105.44it/s, loss=1.15e+3]\n"
          ]
        },
        {
          "output_type": "stream",
          "name": "stdout",
          "text": [
            "Epoch [334/8000]: Train loss: 1117.8490, Valid loss: 1023.2545\n"
          ]
        },
        {
          "output_type": "stream",
          "name": "stderr",
          "text": [
            "Epoch [335/8000]: 100%|██████████| 19/19 [00:00<00:00, 101.57it/s, loss=995]\n"
          ]
        },
        {
          "output_type": "stream",
          "name": "stdout",
          "text": [
            "Epoch [335/8000]: Train loss: 1116.0820, Valid loss: 1027.2198\n"
          ]
        },
        {
          "output_type": "stream",
          "name": "stderr",
          "text": [
            "Epoch [340/8000]: 100%|██████████| 19/19 [00:00<00:00, 125.59it/s, loss=1.18e+3]\n"
          ]
        },
        {
          "output_type": "stream",
          "name": "stdout",
          "text": [
            "Epoch [340/8000]: Train loss: 1116.7843, Valid loss: 1017.4154\n"
          ]
        },
        {
          "output_type": "stream",
          "name": "stderr",
          "text": [
            "Epoch [341/8000]: 100%|██████████| 19/19 [00:00<00:00, 111.02it/s, loss=1.19e+3]\n"
          ]
        },
        {
          "output_type": "stream",
          "name": "stdout",
          "text": [
            "Epoch [341/8000]: Train loss: 1116.5900, Valid loss: 1023.4234\n"
          ]
        },
        {
          "output_type": "stream",
          "name": "stderr",
          "text": [
            "Epoch [342/8000]: 100%|██████████| 19/19 [00:00<00:00, 111.14it/s, loss=1.33e+3]\n"
          ]
        },
        {
          "output_type": "stream",
          "name": "stdout",
          "text": [
            "Epoch [342/8000]: Train loss: 1117.7209, Valid loss: 1014.5917\n"
          ]
        },
        {
          "output_type": "stream",
          "name": "stderr",
          "text": [
            "Epoch [343/8000]: 100%|██████████| 19/19 [00:00<00:00, 109.20it/s, loss=1.02e+3]\n"
          ]
        },
        {
          "output_type": "stream",
          "name": "stdout",
          "text": [
            "Epoch [343/8000]: Train loss: 1114.4219, Valid loss: 1012.9895\n"
          ]
        },
        {
          "output_type": "stream",
          "name": "stderr",
          "text": [
            "Epoch [344/8000]: 100%|██████████| 19/19 [00:00<00:00, 130.24it/s, loss=1.03e+3]\n"
          ]
        },
        {
          "output_type": "stream",
          "name": "stdout",
          "text": [
            "Epoch [344/8000]: Train loss: 1114.2906, Valid loss: 1014.8646\n"
          ]
        },
        {
          "output_type": "stream",
          "name": "stderr",
          "text": [
            "Epoch [345/8000]: 100%|██████████| 19/19 [00:00<00:00, 128.17it/s, loss=990]\n"
          ]
        },
        {
          "output_type": "stream",
          "name": "stdout",
          "text": [
            "Epoch [345/8000]: Train loss: 1113.7055, Valid loss: 1020.1065\n"
          ]
        },
        {
          "output_type": "stream",
          "name": "stderr",
          "text": [
            "Epoch [346/8000]: 100%|██████████| 19/19 [00:00<00:00, 126.92it/s, loss=1.1e+3]\n"
          ]
        },
        {
          "output_type": "stream",
          "name": "stdout",
          "text": [
            "Epoch [346/8000]: Train loss: 1114.5982, Valid loss: 1019.6546\n"
          ]
        },
        {
          "output_type": "stream",
          "name": "stderr",
          "text": [
            "Epoch [347/8000]: 100%|██████████| 19/19 [00:00<00:00, 112.00it/s, loss=1.11e+3]\n"
          ]
        },
        {
          "output_type": "stream",
          "name": "stdout",
          "text": [
            "Epoch [347/8000]: Train loss: 1114.3940, Valid loss: 1003.5226\n",
            "Saving model with loss 1003.523...\n"
          ]
        },
        {
          "output_type": "stream",
          "name": "stderr",
          "text": [
            "Epoch [348/8000]: 100%|██████████| 19/19 [00:00<00:00, 116.33it/s, loss=1.22e+3]\n"
          ]
        },
        {
          "output_type": "stream",
          "name": "stdout",
          "text": [
            "Epoch [348/8000]: Train loss: 1115.2352, Valid loss: 1011.5137\n"
          ]
        },
        {
          "output_type": "stream",
          "name": "stderr",
          "text": [
            "Epoch [349/8000]: 100%|██████████| 19/19 [00:00<00:00, 105.07it/s, loss=1.02e+3]\n"
          ]
        },
        {
          "output_type": "stream",
          "name": "stdout",
          "text": [
            "Epoch [349/8000]: Train loss: 1113.0429, Valid loss: 1019.4892\n"
          ]
        },
        {
          "output_type": "stream",
          "name": "stderr",
          "text": [
            "Epoch [350/8000]: 100%|██████████| 19/19 [00:00<00:00, 119.43it/s, loss=1.28e+3]\n"
          ]
        },
        {
          "output_type": "stream",
          "name": "stdout",
          "text": [
            "Epoch [350/8000]: Train loss: 1115.4505, Valid loss: 1008.4732\n"
          ]
        },
        {
          "output_type": "stream",
          "name": "stderr",
          "text": [
            "Epoch [351/8000]: 100%|██████████| 19/19 [00:00<00:00, 103.99it/s, loss=941]\n"
          ]
        },
        {
          "output_type": "stream",
          "name": "stdout",
          "text": [
            "Epoch [351/8000]: Train loss: 1111.8371, Valid loss: 1011.0259\n"
          ]
        },
        {
          "output_type": "stream",
          "name": "stderr",
          "text": [
            "Epoch [352/8000]: 100%|██████████| 19/19 [00:00<00:00, 125.52it/s, loss=1.26e+3]\n"
          ]
        },
        {
          "output_type": "stream",
          "name": "stdout",
          "text": [
            "Epoch [352/8000]: Train loss: 1114.7912, Valid loss: 1025.1789\n"
          ]
        },
        {
          "output_type": "stream",
          "name": "stderr",
          "text": [
            "Epoch [353/8000]: 100%|██████████| 19/19 [00:00<00:00, 123.37it/s, loss=1.17e+3]\n"
          ]
        },
        {
          "output_type": "stream",
          "name": "stdout",
          "text": [
            "Epoch [353/8000]: Train loss: 1113.6425, Valid loss: 1011.1069\n"
          ]
        },
        {
          "output_type": "stream",
          "name": "stderr",
          "text": [
            "Epoch [354/8000]: 100%|██████████| 19/19 [00:00<00:00, 117.82it/s, loss=1.21e+3]\n"
          ]
        },
        {
          "output_type": "stream",
          "name": "stdout",
          "text": [
            "Epoch [354/8000]: Train loss: 1113.8276, Valid loss: 1018.5364\n"
          ]
        },
        {
          "output_type": "stream",
          "name": "stderr",
          "text": [
            "Epoch [355/8000]: 100%|██████████| 19/19 [00:00<00:00, 129.00it/s, loss=981]\n"
          ]
        },
        {
          "output_type": "stream",
          "name": "stdout",
          "text": [
            "Epoch [355/8000]: Train loss: 1111.3304, Valid loss: 1016.4436\n"
          ]
        },
        {
          "output_type": "stream",
          "name": "stderr",
          "text": [
            "Epoch [356/8000]: 100%|██████████| 19/19 [00:00<00:00, 111.98it/s, loss=1.24e+3]\n"
          ]
        },
        {
          "output_type": "stream",
          "name": "stdout",
          "text": [
            "Epoch [356/8000]: Train loss: 1113.6286, Valid loss: 1020.4719\n"
          ]
        },
        {
          "output_type": "stream",
          "name": "stderr",
          "text": [
            "Epoch [357/8000]: 100%|██████████| 19/19 [00:00<00:00, 112.90it/s, loss=1.08e+3]\n"
          ]
        },
        {
          "output_type": "stream",
          "name": "stdout",
          "text": [
            "Epoch [357/8000]: Train loss: 1111.8858, Valid loss: 1011.6457\n"
          ]
        },
        {
          "output_type": "stream",
          "name": "stderr",
          "text": [
            "Epoch [358/8000]: 100%|██████████| 19/19 [00:00<00:00, 121.31it/s, loss=1.11e+3]\n"
          ]
        },
        {
          "output_type": "stream",
          "name": "stdout",
          "text": [
            "Epoch [358/8000]: Train loss: 1111.8841, Valid loss: 1017.6047\n"
          ]
        },
        {
          "output_type": "stream",
          "name": "stderr",
          "text": [
            "Epoch [359/8000]: 100%|██████████| 19/19 [00:00<00:00, 132.06it/s, loss=1.1e+3]\n"
          ]
        },
        {
          "output_type": "stream",
          "name": "stdout",
          "text": [
            "Epoch [359/8000]: Train loss: 1111.5509, Valid loss: 1023.3858\n"
          ]
        },
        {
          "output_type": "stream",
          "name": "stderr",
          "text": [
            "Epoch [360/8000]: 100%|██████████| 19/19 [00:00<00:00, 133.68it/s, loss=1.05e+3]\n"
          ]
        },
        {
          "output_type": "stream",
          "name": "stdout",
          "text": [
            "Epoch [360/8000]: Train loss: 1110.8593, Valid loss: 1020.2562\n"
          ]
        },
        {
          "output_type": "stream",
          "name": "stderr",
          "text": [
            "Epoch [361/8000]: 100%|██████████| 19/19 [00:00<00:00, 139.21it/s, loss=1.26e+3]\n"
          ]
        },
        {
          "output_type": "stream",
          "name": "stdout",
          "text": [
            "Epoch [361/8000]: Train loss: 1112.7491, Valid loss: 1012.4749\n"
          ]
        },
        {
          "output_type": "stream",
          "name": "stderr",
          "text": [
            "Epoch [362/8000]: 100%|██████████| 19/19 [00:00<00:00, 124.02it/s, loss=1.2e+3]\n"
          ]
        },
        {
          "output_type": "stream",
          "name": "stdout",
          "text": [
            "Epoch [362/8000]: Train loss: 1111.9272, Valid loss: 1019.4114\n"
          ]
        },
        {
          "output_type": "stream",
          "name": "stderr",
          "text": [
            "Epoch [363/8000]: 100%|██████████| 19/19 [00:00<00:00, 125.44it/s, loss=1.18e+3]\n"
          ]
        },
        {
          "output_type": "stream",
          "name": "stdout",
          "text": [
            "Epoch [363/8000]: Train loss: 1111.5027, Valid loss: 1009.2411\n"
          ]
        },
        {
          "output_type": "stream",
          "name": "stderr",
          "text": [
            "Epoch [364/8000]: 100%|██████████| 19/19 [00:00<00:00, 127.19it/s, loss=1.17e+3]\n"
          ]
        },
        {
          "output_type": "stream",
          "name": "stdout",
          "text": [
            "Epoch [364/8000]: Train loss: 1111.1650, Valid loss: 1009.2126\n"
          ]
        },
        {
          "output_type": "stream",
          "name": "stderr",
          "text": [
            "Epoch [365/8000]: 100%|██████████| 19/19 [00:00<00:00, 140.43it/s, loss=1.03e+3]\n"
          ]
        },
        {
          "output_type": "stream",
          "name": "stdout",
          "text": [
            "Epoch [365/8000]: Train loss: 1109.5311, Valid loss: 1003.7181\n"
          ]
        },
        {
          "output_type": "stream",
          "name": "stderr",
          "text": [
            "Epoch [366/8000]: 100%|██████████| 19/19 [00:00<00:00, 134.28it/s, loss=1.03e+3]\n"
          ]
        },
        {
          "output_type": "stream",
          "name": "stdout",
          "text": [
            "Epoch [366/8000]: Train loss: 1109.2980, Valid loss: 1010.7367\n"
          ]
        },
        {
          "output_type": "stream",
          "name": "stderr",
          "text": [
            "Epoch [367/8000]: 100%|██████████| 19/19 [00:00<00:00, 135.44it/s, loss=1.24e+3]\n"
          ]
        },
        {
          "output_type": "stream",
          "name": "stdout",
          "text": [
            "Epoch [367/8000]: Train loss: 1111.2229, Valid loss: 1009.8689\n"
          ]
        },
        {
          "output_type": "stream",
          "name": "stderr",
          "text": [
            "Epoch [368/8000]: 100%|██████████| 19/19 [00:00<00:00, 136.15it/s, loss=1.12e+3]\n"
          ]
        },
        {
          "output_type": "stream",
          "name": "stdout",
          "text": [
            "Epoch [368/8000]: Train loss: 1109.7677, Valid loss: 1016.4544\n"
          ]
        },
        {
          "output_type": "stream",
          "name": "stderr",
          "text": [
            "Epoch [369/8000]: 100%|██████████| 19/19 [00:00<00:00, 113.54it/s, loss=986]\n"
          ]
        },
        {
          "output_type": "stream",
          "name": "stdout",
          "text": [
            "Epoch [369/8000]: Train loss: 1108.2355, Valid loss: 1017.8929\n"
          ]
        },
        {
          "output_type": "stream",
          "name": "stderr",
          "text": [
            "Epoch [370/8000]: 100%|██████████| 19/19 [00:00<00:00, 134.58it/s, loss=1.01e+3]\n"
          ]
        },
        {
          "output_type": "stream",
          "name": "stdout",
          "text": [
            "Epoch [370/8000]: Train loss: 1108.2775, Valid loss: 1000.6788\n",
            "Saving model with loss 1000.679...\n"
          ]
        },
        {
          "output_type": "stream",
          "name": "stderr",
          "text": [
            "Epoch [371/8000]: 100%|██████████| 19/19 [00:00<00:00, 125.13it/s, loss=1.03e+3]\n"
          ]
        },
        {
          "output_type": "stream",
          "name": "stdout",
          "text": [
            "Epoch [371/8000]: Train loss: 1108.1903, Valid loss: 1017.5727\n"
          ]
        },
        {
          "output_type": "stream",
          "name": "stderr",
          "text": [
            "Epoch [372/8000]: 100%|██████████| 19/19 [00:00<00:00, 112.39it/s, loss=1.19e+3]\n"
          ]
        },
        {
          "output_type": "stream",
          "name": "stdout",
          "text": [
            "Epoch [372/8000]: Train loss: 1109.5538, Valid loss: 1011.5671\n"
          ]
        },
        {
          "output_type": "stream",
          "name": "stderr",
          "text": [
            "Epoch [373/8000]: 100%|██████████| 19/19 [00:00<00:00, 128.48it/s, loss=1.12e+3]\n"
          ]
        },
        {
          "output_type": "stream",
          "name": "stdout",
          "text": [
            "Epoch [373/8000]: Train loss: 1108.6298, Valid loss: 1013.1500\n"
          ]
        },
        {
          "output_type": "stream",
          "name": "stderr",
          "text": [
            "Epoch [374/8000]: 100%|██████████| 19/19 [00:00<00:00, 142.67it/s, loss=1.02e+3]\n"
          ]
        },
        {
          "output_type": "stream",
          "name": "stdout",
          "text": [
            "Epoch [374/8000]: Train loss: 1107.4940, Valid loss: 1017.9015\n"
          ]
        },
        {
          "output_type": "stream",
          "name": "stderr",
          "text": [
            "Epoch [375/8000]: 100%|██████████| 19/19 [00:00<00:00, 144.20it/s, loss=1.16e+3]\n"
          ]
        },
        {
          "output_type": "stream",
          "name": "stdout",
          "text": [
            "Epoch [375/8000]: Train loss: 1108.5889, Valid loss: 1014.3244\n"
          ]
        },
        {
          "output_type": "stream",
          "name": "stderr",
          "text": [
            "Epoch [376/8000]: 100%|██████████| 19/19 [00:00<00:00, 141.21it/s, loss=1.1e+3]\n"
          ]
        },
        {
          "output_type": "stream",
          "name": "stdout",
          "text": [
            "Epoch [376/8000]: Train loss: 1107.8538, Valid loss: 1010.4750\n"
          ]
        },
        {
          "output_type": "stream",
          "name": "stderr",
          "text": [
            "Epoch [377/8000]: 100%|██████████| 19/19 [00:00<00:00, 127.83it/s, loss=970]\n"
          ]
        },
        {
          "output_type": "stream",
          "name": "stdout",
          "text": [
            "Epoch [377/8000]: Train loss: 1106.3186, Valid loss: 1010.4674\n"
          ]
        },
        {
          "output_type": "stream",
          "name": "stderr",
          "text": [
            "Epoch [378/8000]: 100%|██████████| 19/19 [00:00<00:00, 137.87it/s, loss=1.24e+3]\n"
          ]
        },
        {
          "output_type": "stream",
          "name": "stdout",
          "text": [
            "Epoch [378/8000]: Train loss: 1108.7488, Valid loss: 1004.5172\n"
          ]
        },
        {
          "output_type": "stream",
          "name": "stderr",
          "text": [
            "Epoch [379/8000]: 100%|██████████| 19/19 [00:00<00:00, 148.04it/s, loss=1.1e+3]\n"
          ]
        },
        {
          "output_type": "stream",
          "name": "stdout",
          "text": [
            "Epoch [379/8000]: Train loss: 1107.1228, Valid loss: 1003.5204\n"
          ]
        },
        {
          "output_type": "stream",
          "name": "stderr",
          "text": [
            "Epoch [380/8000]: 100%|██████████| 19/19 [00:00<00:00, 143.39it/s, loss=1.2e+3]\n"
          ]
        },
        {
          "output_type": "stream",
          "name": "stdout",
          "text": [
            "Epoch [380/8000]: Train loss: 1107.9553, Valid loss: 1005.0210\n"
          ]
        },
        {
          "output_type": "stream",
          "name": "stderr",
          "text": [
            "Epoch [381/8000]: 100%|██████████| 19/19 [00:00<00:00, 143.80it/s, loss=1.21e+3]\n"
          ]
        },
        {
          "output_type": "stream",
          "name": "stdout",
          "text": [
            "Epoch [381/8000]: Train loss: 1107.7954, Valid loss: 1003.3238\n"
          ]
        },
        {
          "output_type": "stream",
          "name": "stderr",
          "text": [
            "Epoch [382/8000]: 100%|██████████| 19/19 [00:00<00:00, 140.13it/s, loss=1.26e+3]\n"
          ]
        },
        {
          "output_type": "stream",
          "name": "stdout",
          "text": [
            "Epoch [382/8000]: Train loss: 1108.1376, Valid loss: 1008.0009\n"
          ]
        },
        {
          "output_type": "stream",
          "name": "stderr",
          "text": [
            "Epoch [383/8000]: 100%|██████████| 19/19 [00:00<00:00, 144.05it/s, loss=1.27e+3]\n"
          ]
        },
        {
          "output_type": "stream",
          "name": "stdout",
          "text": [
            "Epoch [383/8000]: Train loss: 1107.9344, Valid loss: 1013.1503\n"
          ]
        },
        {
          "output_type": "stream",
          "name": "stderr",
          "text": [
            "Epoch [384/8000]: 100%|██████████| 19/19 [00:00<00:00, 124.44it/s, loss=983]\n"
          ]
        },
        {
          "output_type": "stream",
          "name": "stdout",
          "text": [
            "Epoch [384/8000]: Train loss: 1104.9315, Valid loss: 998.8688\n",
            "Saving model with loss 998.869...\n"
          ]
        },
        {
          "output_type": "stream",
          "name": "stderr",
          "text": [
            "Epoch [385/8000]: 100%|██████████| 19/19 [00:00<00:00, 137.59it/s, loss=917]\n"
          ]
        },
        {
          "output_type": "stream",
          "name": "stdout",
          "text": [
            "Epoch [385/8000]: Train loss: 1104.0563, Valid loss: 1013.1193\n"
          ]
        },
        {
          "output_type": "stream",
          "name": "stderr",
          "text": [
            "Epoch [386/8000]: 100%|██████████| 19/19 [00:00<00:00, 133.58it/s, loss=1.12e+3]\n"
          ]
        },
        {
          "output_type": "stream",
          "name": "stdout",
          "text": [
            "Epoch [386/8000]: Train loss: 1105.8510, Valid loss: 1003.1858\n"
          ]
        },
        {
          "output_type": "stream",
          "name": "stderr",
          "text": [
            "Epoch [387/8000]: 100%|██████████| 19/19 [00:00<00:00, 136.98it/s, loss=1.13e+3]\n"
          ]
        },
        {
          "output_type": "stream",
          "name": "stdout",
          "text": [
            "Epoch [387/8000]: Train loss: 1105.7686, Valid loss: 1004.6492\n"
          ]
        },
        {
          "output_type": "stream",
          "name": "stderr",
          "text": [
            "Epoch [388/8000]: 100%|██████████| 19/19 [00:00<00:00, 126.04it/s, loss=1.24e+3]\n"
          ]
        },
        {
          "output_type": "stream",
          "name": "stdout",
          "text": [
            "Epoch [388/8000]: Train loss: 1106.5882, Valid loss: 1010.7005\n"
          ]
        },
        {
          "output_type": "stream",
          "name": "stderr",
          "text": [
            "Epoch [389/8000]: 100%|██████████| 19/19 [00:00<00:00, 128.31it/s, loss=902]\n"
          ]
        },
        {
          "output_type": "stream",
          "name": "stdout",
          "text": [
            "Epoch [389/8000]: Train loss: 1103.0541, Valid loss: 1004.2447\n"
          ]
        },
        {
          "output_type": "stream",
          "name": "stderr",
          "text": [
            "Epoch [390/8000]: 100%|██████████| 19/19 [00:00<00:00, 120.83it/s, loss=1.04e+3]\n"
          ]
        },
        {
          "output_type": "stream",
          "name": "stdout",
          "text": [
            "Epoch [390/8000]: Train loss: 1104.2417, Valid loss: 1017.5715\n"
          ]
        },
        {
          "output_type": "stream",
          "name": "stderr",
          "text": [
            "Epoch [391/8000]: 100%|██████████| 19/19 [00:00<00:00, 142.42it/s, loss=912]\n"
          ]
        },
        {
          "output_type": "stream",
          "name": "stdout",
          "text": [
            "Epoch [391/8000]: Train loss: 1102.7267, Valid loss: 1025.4647\n"
          ]
        },
        {
          "output_type": "stream",
          "name": "stderr",
          "text": [
            "Epoch [392/8000]: 100%|██████████| 19/19 [00:00<00:00, 146.79it/s, loss=1.18e+3]\n"
          ]
        },
        {
          "output_type": "stream",
          "name": "stdout",
          "text": [
            "Epoch [392/8000]: Train loss: 1105.1344, Valid loss: 1003.5432\n"
          ]
        },
        {
          "output_type": "stream",
          "name": "stderr",
          "text": [
            "Epoch [393/8000]: 100%|██████████| 19/19 [00:00<00:00, 143.97it/s, loss=1.08e+3]\n"
          ]
        },
        {
          "output_type": "stream",
          "name": "stdout",
          "text": [
            "Epoch [393/8000]: Train loss: 1103.9519, Valid loss: 1003.4420\n"
          ]
        },
        {
          "output_type": "stream",
          "name": "stderr",
          "text": [
            "Epoch [394/8000]: 100%|██████████| 19/19 [00:00<00:00, 142.86it/s, loss=1.3e+3]\n"
          ]
        },
        {
          "output_type": "stream",
          "name": "stdout",
          "text": [
            "Epoch [394/8000]: Train loss: 1105.9462, Valid loss: 1016.7472\n"
          ]
        },
        {
          "output_type": "stream",
          "name": "stderr",
          "text": [
            "Epoch [395/8000]: 100%|██████████| 19/19 [00:00<00:00, 145.29it/s, loss=1.17e+3]\n"
          ]
        },
        {
          "output_type": "stream",
          "name": "stdout",
          "text": [
            "Epoch [395/8000]: Train loss: 1104.4328, Valid loss: 1014.2204\n"
          ]
        },
        {
          "output_type": "stream",
          "name": "stderr",
          "text": [
            "Epoch [396/8000]: 100%|██████████| 19/19 [00:00<00:00, 145.30it/s, loss=989]\n"
          ]
        },
        {
          "output_type": "stream",
          "name": "stdout",
          "text": [
            "Epoch [396/8000]: Train loss: 1102.4142, Valid loss: 1011.2247\n"
          ]
        },
        {
          "output_type": "stream",
          "name": "stderr",
          "text": [
            "Epoch [397/8000]: 100%|██████████| 19/19 [00:00<00:00, 119.18it/s, loss=1.03e+3]\n"
          ]
        },
        {
          "output_type": "stream",
          "name": "stdout",
          "text": [
            "Epoch [397/8000]: Train loss: 1102.6342, Valid loss: 1004.8961\n"
          ]
        },
        {
          "output_type": "stream",
          "name": "stderr",
          "text": [
            "Epoch [410/8000]: 100%|██████████| 19/19 [00:00<00:00, 134.12it/s, loss=1.26e+3]\n"
          ]
        },
        {
          "output_type": "stream",
          "name": "stdout",
          "text": [
            "Epoch [410/8000]: Train loss: 1102.1151, Valid loss: 993.9765\n",
            "Saving model with loss 993.976...\n"
          ]
        },
        {
          "output_type": "stream",
          "name": "stderr",
          "text": [
            "Epoch [411/8000]: 100%|██████████| 19/19 [00:00<00:00, 115.06it/s, loss=1.02e+3]\n"
          ]
        },
        {
          "output_type": "stream",
          "name": "stdout",
          "text": [
            "Epoch [411/8000]: Train loss: 1099.5360, Valid loss: 1002.7271\n"
          ]
        },
        {
          "output_type": "stream",
          "name": "stderr",
          "text": [
            "Epoch [412/8000]: 100%|██████████| 19/19 [00:00<00:00, 131.07it/s, loss=1.02e+3]\n"
          ]
        },
        {
          "output_type": "stream",
          "name": "stdout",
          "text": [
            "Epoch [412/8000]: Train loss: 1099.3812, Valid loss: 1005.4127\n"
          ]
        },
        {
          "output_type": "stream",
          "name": "stderr",
          "text": [
            "Epoch [413/8000]: 100%|██████████| 19/19 [00:00<00:00, 118.01it/s, loss=1.15e+3]\n"
          ]
        },
        {
          "output_type": "stream",
          "name": "stdout",
          "text": [
            "Epoch [413/8000]: Train loss: 1100.3968, Valid loss: 1008.1809\n"
          ]
        },
        {
          "output_type": "stream",
          "name": "stderr",
          "text": [
            "Epoch [414/8000]: 100%|██████████| 19/19 [00:00<00:00, 130.34it/s, loss=1.07e+3]\n"
          ]
        },
        {
          "output_type": "stream",
          "name": "stdout",
          "text": [
            "Epoch [414/8000]: Train loss: 1099.4089, Valid loss: 1001.6809\n"
          ]
        },
        {
          "output_type": "stream",
          "name": "stderr",
          "text": [
            "Epoch [415/8000]: 100%|██████████| 19/19 [00:00<00:00, 120.51it/s, loss=1.06e+3]\n"
          ]
        },
        {
          "output_type": "stream",
          "name": "stdout",
          "text": [
            "Epoch [415/8000]: Train loss: 1099.1068, Valid loss: 1001.6916\n"
          ]
        },
        {
          "output_type": "stream",
          "name": "stderr",
          "text": [
            "Epoch [416/8000]: 100%|██████████| 19/19 [00:00<00:00, 135.73it/s, loss=989]\n"
          ]
        },
        {
          "output_type": "stream",
          "name": "stdout",
          "text": [
            "Epoch [416/8000]: Train loss: 1098.2343, Valid loss: 990.7800\n",
            "Saving model with loss 990.780...\n"
          ]
        },
        {
          "output_type": "stream",
          "name": "stderr",
          "text": [
            "Epoch [417/8000]: 100%|██████████| 19/19 [00:00<00:00, 126.07it/s, loss=1.08e+3]\n"
          ]
        },
        {
          "output_type": "stream",
          "name": "stdout",
          "text": [
            "Epoch [417/8000]: Train loss: 1098.9100, Valid loss: 1007.8987\n"
          ]
        },
        {
          "output_type": "stream",
          "name": "stderr",
          "text": [
            "Epoch [418/8000]: 100%|██████████| 19/19 [00:00<00:00, 131.67it/s, loss=1.05e+3]\n"
          ]
        },
        {
          "output_type": "stream",
          "name": "stdout",
          "text": [
            "Epoch [418/8000]: Train loss: 1098.4480, Valid loss: 998.3588\n"
          ]
        },
        {
          "output_type": "stream",
          "name": "stderr",
          "text": [
            "Epoch [419/8000]: 100%|██████████| 19/19 [00:00<00:00, 132.54it/s, loss=1.1e+3]\n"
          ]
        },
        {
          "output_type": "stream",
          "name": "stdout",
          "text": [
            "Epoch [419/8000]: Train loss: 1098.7614, Valid loss: 998.8635\n"
          ]
        },
        {
          "output_type": "stream",
          "name": "stderr",
          "text": [
            "Epoch [420/8000]: 100%|██████████| 19/19 [00:00<00:00, 132.07it/s, loss=1.02e+3]\n"
          ]
        },
        {
          "output_type": "stream",
          "name": "stdout",
          "text": [
            "Epoch [420/8000]: Train loss: 1097.7430, Valid loss: 1011.8520\n"
          ]
        },
        {
          "output_type": "stream",
          "name": "stderr",
          "text": [
            "Epoch [424/8000]: 100%|██████████| 19/19 [00:00<00:00, 132.07it/s, loss=1.1e+3]\n"
          ]
        },
        {
          "output_type": "stream",
          "name": "stdout",
          "text": [
            "Epoch [424/8000]: Train loss: 1097.7121, Valid loss: 1009.8346\n"
          ]
        },
        {
          "output_type": "stream",
          "name": "stderr",
          "text": [
            "Epoch [425/8000]: 100%|██████████| 19/19 [00:00<00:00, 132.25it/s, loss=1.02e+3]\n"
          ]
        },
        {
          "output_type": "stream",
          "name": "stdout",
          "text": [
            "Epoch [425/8000]: Train loss: 1096.7467, Valid loss: 999.0971\n"
          ]
        },
        {
          "output_type": "stream",
          "name": "stderr",
          "text": [
            "Epoch [426/8000]: 100%|██████████| 19/19 [00:00<00:00, 133.18it/s, loss=1.11e+3]\n"
          ]
        },
        {
          "output_type": "stream",
          "name": "stdout",
          "text": [
            "Epoch [426/8000]: Train loss: 1097.3824, Valid loss: 996.1061\n"
          ]
        },
        {
          "output_type": "stream",
          "name": "stderr",
          "text": [
            "Epoch [427/8000]: 100%|██████████| 19/19 [00:00<00:00, 123.71it/s, loss=1.12e+3]\n"
          ]
        },
        {
          "output_type": "stream",
          "name": "stdout",
          "text": [
            "Epoch [427/8000]: Train loss: 1097.2520, Valid loss: 999.0566\n"
          ]
        },
        {
          "output_type": "stream",
          "name": "stderr",
          "text": [
            "Epoch [428/8000]: 100%|██████████| 19/19 [00:00<00:00, 129.43it/s, loss=1.04e+3]\n"
          ]
        },
        {
          "output_type": "stream",
          "name": "stdout",
          "text": [
            "Epoch [428/8000]: Train loss: 1096.3179, Valid loss: 1006.5280\n"
          ]
        },
        {
          "output_type": "stream",
          "name": "stderr",
          "text": [
            "Epoch [429/8000]: 100%|██████████| 19/19 [00:00<00:00, 129.39it/s, loss=869]\n"
          ]
        },
        {
          "output_type": "stream",
          "name": "stdout",
          "text": [
            "Epoch [429/8000]: Train loss: 1094.4071, Valid loss: 992.3308\n"
          ]
        },
        {
          "output_type": "stream",
          "name": "stderr",
          "text": [
            "Epoch [430/8000]: 100%|██████████| 19/19 [00:00<00:00, 123.84it/s, loss=1.11e+3]\n"
          ]
        },
        {
          "output_type": "stream",
          "name": "stdout",
          "text": [
            "Epoch [430/8000]: Train loss: 1096.6251, Valid loss: 989.1007\n",
            "Saving model with loss 989.101...\n"
          ]
        },
        {
          "output_type": "stream",
          "name": "stderr",
          "text": [
            "Epoch [431/8000]: 100%|██████████| 19/19 [00:00<00:00, 127.86it/s, loss=1.11e+3]\n"
          ]
        },
        {
          "output_type": "stream",
          "name": "stdout",
          "text": [
            "Epoch [431/8000]: Train loss: 1096.3932, Valid loss: 995.6855\n"
          ]
        },
        {
          "output_type": "stream",
          "name": "stderr",
          "text": [
            "Epoch [432/8000]: 100%|██████████| 19/19 [00:00<00:00, 136.12it/s, loss=1.09e+3]\n"
          ]
        },
        {
          "output_type": "stream",
          "name": "stdout",
          "text": [
            "Epoch [432/8000]: Train loss: 1095.9372, Valid loss: 989.0612\n",
            "Saving model with loss 989.061...\n"
          ]
        },
        {
          "output_type": "stream",
          "name": "stderr",
          "text": [
            "Epoch [433/8000]: 100%|██████████| 19/19 [00:00<00:00, 129.19it/s, loss=985]\n"
          ]
        },
        {
          "output_type": "stream",
          "name": "stdout",
          "text": [
            "Epoch [433/8000]: Train loss: 1094.7470, Valid loss: 996.4484\n"
          ]
        },
        {
          "output_type": "stream",
          "name": "stderr",
          "text": [
            "Epoch [434/8000]: 100%|██████████| 19/19 [00:00<00:00, 119.38it/s, loss=996]\n"
          ]
        },
        {
          "output_type": "stream",
          "name": "stdout",
          "text": [
            "Epoch [434/8000]: Train loss: 1094.6527, Valid loss: 1007.2460\n"
          ]
        },
        {
          "output_type": "stream",
          "name": "stderr",
          "text": [
            "Epoch [435/8000]: 100%|██████████| 19/19 [00:00<00:00, 125.44it/s, loss=1.04e+3]\n"
          ]
        },
        {
          "output_type": "stream",
          "name": "stdout",
          "text": [
            "Epoch [435/8000]: Train loss: 1094.8652, Valid loss: 1001.4530\n"
          ]
        },
        {
          "output_type": "stream",
          "name": "stderr",
          "text": [
            "Epoch [437/8000]: 100%|██████████| 19/19 [00:00<00:00, 130.08it/s, loss=1.27e+3]\n"
          ]
        },
        {
          "output_type": "stream",
          "name": "stdout",
          "text": [
            "Epoch [437/8000]: Train loss: 1096.7370, Valid loss: 994.7327\n"
          ]
        },
        {
          "output_type": "stream",
          "name": "stderr",
          "text": [
            "Epoch [438/8000]: 100%|██████████| 19/19 [00:00<00:00, 134.19it/s, loss=1.12e+3]\n"
          ]
        },
        {
          "output_type": "stream",
          "name": "stdout",
          "text": [
            "Epoch [438/8000]: Train loss: 1095.0549, Valid loss: 1003.0779\n"
          ]
        },
        {
          "output_type": "stream",
          "name": "stderr",
          "text": [
            "Epoch [439/8000]: 100%|██████████| 19/19 [00:00<00:00, 132.16it/s, loss=1.05e+3]\n"
          ]
        },
        {
          "output_type": "stream",
          "name": "stdout",
          "text": [
            "Epoch [439/8000]: Train loss: 1094.1769, Valid loss: 1001.9462\n"
          ]
        },
        {
          "output_type": "stream",
          "name": "stderr",
          "text": [
            "Epoch [440/8000]: 100%|██████████| 19/19 [00:00<00:00, 116.65it/s, loss=1.21e+3]\n"
          ]
        },
        {
          "output_type": "stream",
          "name": "stdout",
          "text": [
            "Epoch [440/8000]: Train loss: 1095.5363, Valid loss: 989.4438\n"
          ]
        },
        {
          "output_type": "stream",
          "name": "stderr",
          "text": [
            "Epoch [441/8000]: 100%|██████████| 19/19 [00:00<00:00, 123.08it/s, loss=1.02e+3]\n"
          ]
        },
        {
          "output_type": "stream",
          "name": "stdout",
          "text": [
            "Epoch [441/8000]: Train loss: 1093.4899, Valid loss: 1000.0139\n"
          ]
        },
        {
          "output_type": "stream",
          "name": "stderr",
          "text": [
            "Epoch [442/8000]: 100%|██████████| 19/19 [00:00<00:00, 120.51it/s, loss=1.12e+3]\n"
          ]
        },
        {
          "output_type": "stream",
          "name": "stdout",
          "text": [
            "Epoch [442/8000]: Train loss: 1094.3050, Valid loss: 997.0678\n"
          ]
        },
        {
          "output_type": "stream",
          "name": "stderr",
          "text": [
            "Epoch [443/8000]: 100%|██████████| 19/19 [00:00<00:00, 121.94it/s, loss=1.06e+3]\n"
          ]
        },
        {
          "output_type": "stream",
          "name": "stdout",
          "text": [
            "Epoch [443/8000]: Train loss: 1093.5263, Valid loss: 991.2902\n"
          ]
        },
        {
          "output_type": "stream",
          "name": "stderr",
          "text": [
            "Epoch [444/8000]: 100%|██████████| 19/19 [00:00<00:00, 118.93it/s, loss=1.25e+3]\n"
          ]
        },
        {
          "output_type": "stream",
          "name": "stdout",
          "text": [
            "Epoch [444/8000]: Train loss: 1095.1813, Valid loss: 998.3752\n"
          ]
        },
        {
          "output_type": "stream",
          "name": "stderr",
          "text": [
            "Epoch [445/8000]: 100%|██████████| 19/19 [00:00<00:00, 122.30it/s, loss=1.13e+3]\n"
          ]
        },
        {
          "output_type": "stream",
          "name": "stdout",
          "text": [
            "Epoch [445/8000]: Train loss: 1093.8225, Valid loss: 996.5205\n"
          ]
        },
        {
          "output_type": "stream",
          "name": "stderr",
          "text": [
            "Epoch [446/8000]: 100%|██████████| 19/19 [00:00<00:00, 122.08it/s, loss=1.01e+3]\n"
          ]
        },
        {
          "output_type": "stream",
          "name": "stdout",
          "text": [
            "Epoch [446/8000]: Train loss: 1092.4403, Valid loss: 987.3041\n"
          ]
        },
        {
          "output_type": "stream",
          "name": "stderr",
          "text": [
            "Epoch [447/8000]: 100%|██████████| 19/19 [00:00<00:00, 117.85it/s, loss=1.05e+3]\n"
          ]
        },
        {
          "output_type": "stream",
          "name": "stdout",
          "text": [
            "Epoch [447/8000]: Train loss: 1092.5810, Valid loss: 998.7780\n"
          ]
        },
        {
          "output_type": "stream",
          "name": "stderr",
          "text": [
            "Epoch [448/8000]: 100%|██████████| 19/19 [00:00<00:00, 124.69it/s, loss=1.11e+3]\n"
          ]
        },
        {
          "output_type": "stream",
          "name": "stdout",
          "text": [
            "Epoch [448/8000]: Train loss: 1092.9705, Valid loss: 998.4049\n"
          ]
        },
        {
          "output_type": "stream",
          "name": "stderr",
          "text": [
            "Epoch [449/8000]: 100%|██████████| 19/19 [00:00<00:00, 120.22it/s, loss=1.17e+3]\n"
          ]
        },
        {
          "output_type": "stream",
          "name": "stdout",
          "text": [
            "Epoch [449/8000]: Train loss: 1093.3436, Valid loss: 987.4952\n"
          ]
        },
        {
          "output_type": "stream",
          "name": "stderr",
          "text": [
            "Epoch [450/8000]: 100%|██████████| 19/19 [00:00<00:00, 101.33it/s, loss=1.11e+3]\n"
          ]
        },
        {
          "output_type": "stream",
          "name": "stdout",
          "text": [
            "Epoch [450/8000]: Train loss: 1092.5850, Valid loss: 992.1168\n"
          ]
        },
        {
          "output_type": "stream",
          "name": "stderr",
          "text": [
            "Epoch [451/8000]: 100%|██████████| 19/19 [00:00<00:00, 110.64it/s, loss=1.08e+3]\n"
          ]
        },
        {
          "output_type": "stream",
          "name": "stdout",
          "text": [
            "Epoch [451/8000]: Train loss: 1092.0567, Valid loss: 996.3333\n"
          ]
        },
        {
          "output_type": "stream",
          "name": "stderr",
          "text": [
            "Epoch [452/8000]: 100%|██████████| 19/19 [00:00<00:00, 125.61it/s, loss=1.18e+3]\n"
          ]
        },
        {
          "output_type": "stream",
          "name": "stdout",
          "text": [
            "Epoch [452/8000]: Train loss: 1092.8711, Valid loss: 1006.9114\n"
          ]
        },
        {
          "output_type": "stream",
          "name": "stderr",
          "text": [
            "Epoch [453/8000]: 100%|██████████| 19/19 [00:00<00:00, 106.45it/s, loss=1e+3]\n"
          ]
        },
        {
          "output_type": "stream",
          "name": "stdout",
          "text": [
            "Epoch [453/8000]: Train loss: 1090.9498, Valid loss: 988.3677\n"
          ]
        },
        {
          "output_type": "stream",
          "name": "stderr",
          "text": [
            "Epoch [454/8000]: 100%|██████████| 19/19 [00:00<00:00, 119.73it/s, loss=1.24e+3]\n"
          ]
        },
        {
          "output_type": "stream",
          "name": "stdout",
          "text": [
            "Epoch [454/8000]: Train loss: 1093.1159, Valid loss: 1001.6619\n"
          ]
        },
        {
          "output_type": "stream",
          "name": "stderr",
          "text": [
            "Epoch [455/8000]: 100%|██████████| 19/19 [00:00<00:00, 114.14it/s, loss=1.05e+3]\n"
          ]
        },
        {
          "output_type": "stream",
          "name": "stdout",
          "text": [
            "Epoch [455/8000]: Train loss: 1091.0436, Valid loss: 989.1522\n"
          ]
        },
        {
          "output_type": "stream",
          "name": "stderr",
          "text": [
            "Epoch [456/8000]: 100%|██████████| 19/19 [00:00<00:00, 112.18it/s, loss=1.3e+3]\n"
          ]
        },
        {
          "output_type": "stream",
          "name": "stdout",
          "text": [
            "Epoch [456/8000]: Train loss: 1093.3140, Valid loss: 999.4197\n"
          ]
        },
        {
          "output_type": "stream",
          "name": "stderr",
          "text": [
            "Epoch [457/8000]: 100%|██████████| 19/19 [00:00<00:00, 123.73it/s, loss=1.12e+3]\n"
          ]
        },
        {
          "output_type": "stream",
          "name": "stdout",
          "text": [
            "Epoch [457/8000]: Train loss: 1091.3099, Valid loss: 989.3996\n"
          ]
        },
        {
          "output_type": "stream",
          "name": "stderr",
          "text": [
            "Epoch [458/8000]: 100%|██████████| 19/19 [00:00<00:00, 139.06it/s, loss=1.05e+3]\n"
          ]
        },
        {
          "output_type": "stream",
          "name": "stdout",
          "text": [
            "Epoch [458/8000]: Train loss: 1090.4388, Valid loss: 995.5782\n"
          ]
        },
        {
          "output_type": "stream",
          "name": "stderr",
          "text": [
            "Epoch [459/8000]: 100%|██████████| 19/19 [00:00<00:00, 128.93it/s, loss=1.22e+3]\n"
          ]
        },
        {
          "output_type": "stream",
          "name": "stdout",
          "text": [
            "Epoch [459/8000]: Train loss: 1091.9009, Valid loss: 985.9737\n"
          ]
        },
        {
          "output_type": "stream",
          "name": "stderr",
          "text": [
            "Epoch [460/8000]: 100%|██████████| 19/19 [00:00<00:00, 131.39it/s, loss=1.06e+3]\n"
          ]
        },
        {
          "output_type": "stream",
          "name": "stdout",
          "text": [
            "Epoch [460/8000]: Train loss: 1090.1202, Valid loss: 989.1816\n"
          ]
        },
        {
          "output_type": "stream",
          "name": "stderr",
          "text": [
            "Epoch [461/8000]: 100%|██████████| 19/19 [00:00<00:00, 130.19it/s, loss=1.11e+3]\n"
          ]
        },
        {
          "output_type": "stream",
          "name": "stdout",
          "text": [
            "Epoch [461/8000]: Train loss: 1090.4846, Valid loss: 994.1630\n"
          ]
        },
        {
          "output_type": "stream",
          "name": "stderr",
          "text": [
            "Epoch [462/8000]: 100%|██████████| 19/19 [00:00<00:00, 133.78it/s, loss=1.21e+3]\n"
          ]
        },
        {
          "output_type": "stream",
          "name": "stdout",
          "text": [
            "Epoch [462/8000]: Train loss: 1091.2310, Valid loss: 997.4403\n"
          ]
        },
        {
          "output_type": "stream",
          "name": "stderr",
          "text": [
            "Epoch [463/8000]: 100%|██████████| 19/19 [00:00<00:00, 120.23it/s, loss=937]\n"
          ]
        },
        {
          "output_type": "stream",
          "name": "stdout",
          "text": [
            "Epoch [463/8000]: Train loss: 1088.3511, Valid loss: 978.1646\n",
            "Saving model with loss 978.165...\n"
          ]
        },
        {
          "output_type": "stream",
          "name": "stderr",
          "text": [
            "Epoch [464/8000]: 100%|██████████| 19/19 [00:00<00:00, 127.85it/s, loss=1.17e+3]\n"
          ]
        },
        {
          "output_type": "stream",
          "name": "stdout",
          "text": [
            "Epoch [464/8000]: Train loss: 1090.4263, Valid loss: 986.8190\n"
          ]
        },
        {
          "output_type": "stream",
          "name": "stderr",
          "text": [
            "Epoch [465/8000]: 100%|██████████| 19/19 [00:00<00:00, 136.38it/s, loss=1.15e+3]\n"
          ]
        },
        {
          "output_type": "stream",
          "name": "stdout",
          "text": [
            "Epoch [465/8000]: Train loss: 1090.0903, Valid loss: 994.1235\n"
          ]
        },
        {
          "output_type": "stream",
          "name": "stderr",
          "text": [
            "Epoch [466/8000]: 100%|██████████| 19/19 [00:00<00:00, 114.43it/s, loss=1.02e+3]\n"
          ]
        },
        {
          "output_type": "stream",
          "name": "stdout",
          "text": [
            "Epoch [466/8000]: Train loss: 1088.5801, Valid loss: 992.2777\n"
          ]
        },
        {
          "output_type": "stream",
          "name": "stderr",
          "text": [
            "Epoch [467/8000]: 100%|██████████| 19/19 [00:00<00:00, 123.87it/s, loss=1.1e+3]\n"
          ]
        },
        {
          "output_type": "stream",
          "name": "stdout",
          "text": [
            "Epoch [467/8000]: Train loss: 1089.1631, Valid loss: 1002.1808\n"
          ]
        },
        {
          "output_type": "stream",
          "name": "stderr",
          "text": [
            "Epoch [468/8000]: 100%|██████████| 19/19 [00:00<00:00, 121.92it/s, loss=1.11e+3]\n"
          ]
        },
        {
          "output_type": "stream",
          "name": "stdout",
          "text": [
            "Epoch [468/8000]: Train loss: 1089.1271, Valid loss: 993.1265\n"
          ]
        },
        {
          "output_type": "stream",
          "name": "stderr",
          "text": [
            "Epoch [469/8000]: 100%|██████████| 19/19 [00:00<00:00, 82.70it/s, loss=1.08e+3]\n"
          ]
        },
        {
          "output_type": "stream",
          "name": "stdout",
          "text": [
            "Epoch [469/8000]: Train loss: 1088.6210, Valid loss: 999.9665\n"
          ]
        },
        {
          "output_type": "stream",
          "name": "stderr",
          "text": [
            "Epoch [470/8000]: 100%|██████████| 19/19 [00:00<00:00, 121.45it/s, loss=1.13e+3]\n"
          ]
        },
        {
          "output_type": "stream",
          "name": "stdout",
          "text": [
            "Epoch [470/8000]: Train loss: 1088.9145, Valid loss: 980.7364\n"
          ]
        },
        {
          "output_type": "stream",
          "name": "stderr",
          "text": [
            "Epoch [471/8000]: 100%|██████████| 19/19 [00:00<00:00, 111.98it/s, loss=1.08e+3]\n"
          ]
        },
        {
          "output_type": "stream",
          "name": "stdout",
          "text": [
            "Epoch [471/8000]: Train loss: 1088.2335, Valid loss: 991.2556\n"
          ]
        },
        {
          "output_type": "stream",
          "name": "stderr",
          "text": [
            "Epoch [472/8000]: 100%|██████████| 19/19 [00:00<00:00, 128.45it/s, loss=1.13e+3]\n"
          ]
        },
        {
          "output_type": "stream",
          "name": "stdout",
          "text": [
            "Epoch [472/8000]: Train loss: 1088.5283, Valid loss: 990.4909\n"
          ]
        },
        {
          "output_type": "stream",
          "name": "stderr",
          "text": [
            "Epoch [473/8000]: 100%|██████████| 19/19 [00:00<00:00, 122.74it/s, loss=985]\n"
          ]
        },
        {
          "output_type": "stream",
          "name": "stdout",
          "text": [
            "Epoch [473/8000]: Train loss: 1086.9055, Valid loss: 984.3058\n"
          ]
        },
        {
          "output_type": "stream",
          "name": "stderr",
          "text": [
            "Epoch [474/8000]: 100%|██████████| 19/19 [00:00<00:00, 131.52it/s, loss=957]\n"
          ]
        },
        {
          "output_type": "stream",
          "name": "stdout",
          "text": [
            "Epoch [474/8000]: Train loss: 1086.4367, Valid loss: 990.8883\n"
          ]
        },
        {
          "output_type": "stream",
          "name": "stderr",
          "text": [
            "Epoch [475/8000]: 100%|██████████| 19/19 [00:00<00:00, 119.39it/s, loss=1.09e+3]\n"
          ]
        },
        {
          "output_type": "stream",
          "name": "stdout",
          "text": [
            "Epoch [475/8000]: Train loss: 1087.5840, Valid loss: 989.5136\n"
          ]
        },
        {
          "output_type": "stream",
          "name": "stderr",
          "text": [
            "Epoch [476/8000]: 100%|██████████| 19/19 [00:00<00:00, 143.36it/s, loss=1.21e+3]\n"
          ]
        },
        {
          "output_type": "stream",
          "name": "stdout",
          "text": [
            "Epoch [476/8000]: Train loss: 1088.5508, Valid loss: 989.0431\n"
          ]
        },
        {
          "output_type": "stream",
          "name": "stderr",
          "text": [
            "Epoch [477/8000]: 100%|██████████| 19/19 [00:00<00:00, 141.90it/s, loss=1.26e+3]\n"
          ]
        },
        {
          "output_type": "stream",
          "name": "stdout",
          "text": [
            "Epoch [477/8000]: Train loss: 1088.8524, Valid loss: 986.4634\n"
          ]
        },
        {
          "output_type": "stream",
          "name": "stderr",
          "text": [
            "Epoch [478/8000]: 100%|██████████| 19/19 [00:00<00:00, 138.12it/s, loss=1.05e+3]\n"
          ]
        },
        {
          "output_type": "stream",
          "name": "stdout",
          "text": [
            "Epoch [478/8000]: Train loss: 1086.6145, Valid loss: 996.4722\n"
          ]
        },
        {
          "output_type": "stream",
          "name": "stderr",
          "text": [
            "Epoch [479/8000]: 100%|██████████| 19/19 [00:00<00:00, 141.88it/s, loss=1.22e+3]\n"
          ]
        },
        {
          "output_type": "stream",
          "name": "stdout",
          "text": [
            "Epoch [479/8000]: Train loss: 1088.0848, Valid loss: 994.6290\n"
          ]
        },
        {
          "output_type": "stream",
          "name": "stderr",
          "text": [
            "Epoch [480/8000]: 100%|██████████| 19/19 [00:00<00:00, 140.65it/s, loss=1.08e+3]\n"
          ]
        },
        {
          "output_type": "stream",
          "name": "stdout",
          "text": [
            "Epoch [480/8000]: Train loss: 1086.5260, Valid loss: 995.3596\n"
          ]
        },
        {
          "output_type": "stream",
          "name": "stderr",
          "text": [
            "Epoch [481/8000]: 100%|██████████| 19/19 [00:00<00:00, 142.60it/s, loss=1.14e+3]\n"
          ]
        },
        {
          "output_type": "stream",
          "name": "stdout",
          "text": [
            "Epoch [481/8000]: Train loss: 1086.9659, Valid loss: 979.9685\n"
          ]
        },
        {
          "output_type": "stream",
          "name": "stderr",
          "text": [
            "Epoch [482/8000]: 100%|██████████| 19/19 [00:00<00:00, 129.50it/s, loss=1.2e+3]\n"
          ]
        },
        {
          "output_type": "stream",
          "name": "stdout",
          "text": [
            "Epoch [482/8000]: Train loss: 1087.2794, Valid loss: 996.9255\n"
          ]
        },
        {
          "output_type": "stream",
          "name": "stderr",
          "text": [
            "Epoch [483/8000]: 100%|██████████| 19/19 [00:00<00:00, 138.14it/s, loss=1.22e+3]\n"
          ]
        },
        {
          "output_type": "stream",
          "name": "stdout",
          "text": [
            "Epoch [483/8000]: Train loss: 1087.3327, Valid loss: 995.6737\n"
          ]
        },
        {
          "output_type": "stream",
          "name": "stderr",
          "text": [
            "Epoch [484/8000]: 100%|██████████| 19/19 [00:00<00:00, 127.13it/s, loss=1.05e+3]\n"
          ]
        },
        {
          "output_type": "stream",
          "name": "stdout",
          "text": [
            "Epoch [484/8000]: Train loss: 1085.4806, Valid loss: 987.3750\n"
          ]
        },
        {
          "output_type": "stream",
          "name": "stderr",
          "text": [
            "Epoch [485/8000]: 100%|██████████| 19/19 [00:00<00:00, 136.77it/s, loss=914]\n"
          ]
        },
        {
          "output_type": "stream",
          "name": "stdout",
          "text": [
            "Epoch [485/8000]: Train loss: 1083.9370, Valid loss: 990.7934\n"
          ]
        },
        {
          "output_type": "stream",
          "name": "stderr",
          "text": [
            "Epoch [486/8000]: 100%|██████████| 19/19 [00:00<00:00, 145.31it/s, loss=1.14e+3]\n"
          ]
        },
        {
          "output_type": "stream",
          "name": "stdout",
          "text": [
            "Epoch [486/8000]: Train loss: 1085.9687, Valid loss: 976.9880\n",
            "Saving model with loss 976.988...\n"
          ]
        },
        {
          "output_type": "stream",
          "name": "stderr",
          "text": [
            "Epoch [487/8000]: 100%|██████████| 19/19 [00:00<00:00, 140.20it/s, loss=1.18e+3]\n"
          ]
        },
        {
          "output_type": "stream",
          "name": "stdout",
          "text": [
            "Epoch [487/8000]: Train loss: 1086.1716, Valid loss: 979.2251\n"
          ]
        },
        {
          "output_type": "stream",
          "name": "stderr",
          "text": [
            "Epoch [488/8000]: 100%|██████████| 19/19 [00:00<00:00, 128.56it/s, loss=1.25e+3]\n"
          ]
        },
        {
          "output_type": "stream",
          "name": "stdout",
          "text": [
            "Epoch [488/8000]: Train loss: 1086.6965, Valid loss: 998.3867\n"
          ]
        },
        {
          "output_type": "stream",
          "name": "stderr",
          "text": [
            "Epoch [489/8000]: 100%|██████████| 19/19 [00:00<00:00, 139.57it/s, loss=1.19e+3]\n"
          ]
        },
        {
          "output_type": "stream",
          "name": "stdout",
          "text": [
            "Epoch [489/8000]: Train loss: 1085.9086, Valid loss: 991.8175\n"
          ]
        },
        {
          "output_type": "stream",
          "name": "stderr",
          "text": [
            "Epoch [490/8000]: 100%|██████████| 19/19 [00:00<00:00, 138.82it/s, loss=1.25e+3]\n"
          ]
        },
        {
          "output_type": "stream",
          "name": "stdout",
          "text": [
            "Epoch [490/8000]: Train loss: 1086.2673, Valid loss: 996.2667\n"
          ]
        },
        {
          "output_type": "stream",
          "name": "stderr",
          "text": [
            "Epoch [491/8000]: 100%|██████████| 19/19 [00:00<00:00, 140.57it/s, loss=1.15e+3]\n"
          ]
        },
        {
          "output_type": "stream",
          "name": "stdout",
          "text": [
            "Epoch [491/8000]: Train loss: 1085.1224, Valid loss: 992.3996\n"
          ]
        },
        {
          "output_type": "stream",
          "name": "stderr",
          "text": [
            "Epoch [492/8000]: 100%|██████████| 19/19 [00:00<00:00, 138.50it/s, loss=979]\n"
          ]
        },
        {
          "output_type": "stream",
          "name": "stdout",
          "text": [
            "Epoch [492/8000]: Train loss: 1083.2589, Valid loss: 999.3186\n"
          ]
        },
        {
          "output_type": "stream",
          "name": "stderr",
          "text": [
            "Epoch [493/8000]: 100%|██████████| 19/19 [00:00<00:00, 38.03it/s, loss=1.28e+3]\n"
          ]
        },
        {
          "output_type": "stream",
          "name": "stdout",
          "text": [
            "Epoch [493/8000]: Train loss: 1086.0424, Valid loss: 978.8512\n"
          ]
        },
        {
          "output_type": "stream",
          "name": "stderr",
          "text": [
            "Epoch [494/8000]: 100%|██████████| 19/19 [00:00<00:00, 60.35it/s, loss=1.06e+3]\n"
          ]
        },
        {
          "output_type": "stream",
          "name": "stdout",
          "text": [
            "Epoch [494/8000]: Train loss: 1083.7338, Valid loss: 989.0670\n"
          ]
        },
        {
          "output_type": "stream",
          "name": "stderr",
          "text": [
            "Epoch [495/8000]:   0%|          | 0/19 [00:00<?, ?it/s, loss=1.03e+3]"
          ]
        },
        {
          "output_type": "stream",
          "name": "stdout",
          "text": [
            "Epoch [500/8000]: Train loss: 1085.8025, Valid loss: 987.7857\n"
          ]
        },
        {
          "output_type": "stream",
          "name": "stderr",
          "text": [
            "Epoch [501/8000]: 100%|██████████| 19/19 [00:00<00:00, 61.47it/s, loss=1.29e+3] \n"
          ]
        },
        {
          "output_type": "stream",
          "name": "stdout",
          "text": [
            "Epoch [501/8000]: Train loss: 1084.6423, Valid loss: 986.7272\n"
          ]
        },
        {
          "output_type": "stream",
          "name": "stderr",
          "text": [
            "Epoch [502/8000]: 100%|██████████| 19/19 [00:00<00:00, 37.77it/s, loss=1e+3]\n"
          ]
        },
        {
          "output_type": "stream",
          "name": "stdout",
          "text": [
            "Epoch [502/8000]: Train loss: 1081.6532, Valid loss: 989.4320\n"
          ]
        },
        {
          "output_type": "stream",
          "name": "stderr",
          "text": [
            "Epoch [503/8000]: 100%|██████████| 19/19 [00:00<00:00, 119.81it/s, loss=1.15e+3]\n"
          ]
        },
        {
          "output_type": "stream",
          "name": "stdout",
          "text": [
            "Epoch [503/8000]: Train loss: 1082.9406, Valid loss: 985.3681\n"
          ]
        },
        {
          "output_type": "stream",
          "name": "stderr",
          "text": [
            "Epoch [504/8000]: 100%|██████████| 19/19 [00:00<00:00, 120.83it/s, loss=1.04e+3]\n"
          ]
        },
        {
          "output_type": "stream",
          "name": "stdout",
          "text": [
            "Epoch [504/8000]: Train loss: 1081.6253, Valid loss: 982.0055\n"
          ]
        },
        {
          "output_type": "stream",
          "name": "stderr",
          "text": [
            "Epoch [505/8000]: 100%|██████████| 19/19 [00:00<00:00, 125.05it/s, loss=1.08e+3]\n"
          ]
        },
        {
          "output_type": "stream",
          "name": "stdout",
          "text": [
            "Epoch [505/8000]: Train loss: 1081.8855, Valid loss: 983.7925\n"
          ]
        },
        {
          "output_type": "stream",
          "name": "stderr",
          "text": [
            "Epoch [506/8000]: 100%|██████████| 19/19 [00:00<00:00, 121.16it/s, loss=1.14e+3]\n"
          ]
        },
        {
          "output_type": "stream",
          "name": "stdout",
          "text": [
            "Epoch [506/8000]: Train loss: 1082.2180, Valid loss: 988.2969\n"
          ]
        },
        {
          "output_type": "stream",
          "name": "stderr",
          "text": [
            "Epoch [507/8000]: 100%|██████████| 19/19 [00:00<00:00, 118.91it/s, loss=1.01e+3]\n"
          ]
        },
        {
          "output_type": "stream",
          "name": "stdout",
          "text": [
            "Epoch [507/8000]: Train loss: 1080.8294, Valid loss: 981.4610\n"
          ]
        },
        {
          "output_type": "stream",
          "name": "stderr",
          "text": [
            "Epoch [508/8000]: 100%|██████████| 19/19 [00:00<00:00, 112.94it/s, loss=1.02e+3]\n"
          ]
        },
        {
          "output_type": "stream",
          "name": "stdout",
          "text": [
            "Epoch [508/8000]: Train loss: 1080.7412, Valid loss: 995.4883\n"
          ]
        },
        {
          "output_type": "stream",
          "name": "stderr",
          "text": [
            "Epoch [509/8000]: 100%|██████████| 19/19 [00:00<00:00, 124.26it/s, loss=1.05e+3]\n"
          ]
        },
        {
          "output_type": "stream",
          "name": "stdout",
          "text": [
            "Epoch [509/8000]: Train loss: 1080.7957, Valid loss: 984.1765\n"
          ]
        },
        {
          "output_type": "stream",
          "name": "stderr",
          "text": [
            "Epoch [510/8000]: 100%|██████████| 19/19 [00:00<00:00, 121.05it/s, loss=1.17e+3]\n"
          ]
        },
        {
          "output_type": "stream",
          "name": "stdout",
          "text": [
            "Epoch [510/8000]: Train loss: 1081.8260, Valid loss: 986.7089\n"
          ]
        },
        {
          "output_type": "stream",
          "name": "stderr",
          "text": [
            "Epoch [511/8000]: 100%|██████████| 19/19 [00:00<00:00, 119.73it/s, loss=930]\n"
          ]
        },
        {
          "output_type": "stream",
          "name": "stdout",
          "text": [
            "Epoch [511/8000]: Train loss: 1079.2709, Valid loss: 982.1481\n"
          ]
        },
        {
          "output_type": "stream",
          "name": "stderr",
          "text": [
            "Epoch [512/8000]: 100%|██████████| 19/19 [00:00<00:00, 118.23it/s, loss=1.17e+3]\n"
          ]
        },
        {
          "output_type": "stream",
          "name": "stdout",
          "text": [
            "Epoch [512/8000]: Train loss: 1081.4696, Valid loss: 988.4063\n"
          ]
        },
        {
          "output_type": "stream",
          "name": "stderr",
          "text": [
            "Epoch [513/8000]: 100%|██████████| 19/19 [00:00<00:00, 116.30it/s, loss=1.18e+3]\n"
          ]
        },
        {
          "output_type": "stream",
          "name": "stdout",
          "text": [
            "Epoch [513/8000]: Train loss: 1081.3882, Valid loss: 979.2173\n"
          ]
        },
        {
          "output_type": "stream",
          "name": "stderr",
          "text": [
            "Epoch [514/8000]: 100%|██████████| 19/19 [00:00<00:00, 119.18it/s, loss=1.02e+3]\n"
          ]
        },
        {
          "output_type": "stream",
          "name": "stdout",
          "text": [
            "Epoch [514/8000]: Train loss: 1079.6288, Valid loss: 982.0257\n"
          ]
        },
        {
          "output_type": "stream",
          "name": "stderr",
          "text": [
            "Epoch [515/8000]: 100%|██████████| 19/19 [00:00<00:00, 107.55it/s, loss=1.09e+3]\n"
          ]
        },
        {
          "output_type": "stream",
          "name": "stdout",
          "text": [
            "Epoch [515/8000]: Train loss: 1080.1178, Valid loss: 968.6629\n",
            "Saving model with loss 968.663...\n"
          ]
        },
        {
          "output_type": "stream",
          "name": "stderr",
          "text": [
            "Epoch [516/8000]: 100%|██████████| 19/19 [00:00<00:00, 117.75it/s, loss=972]\n"
          ]
        },
        {
          "output_type": "stream",
          "name": "stdout",
          "text": [
            "Epoch [516/8000]: Train loss: 1078.7775, Valid loss: 981.7060\n"
          ]
        },
        {
          "output_type": "stream",
          "name": "stderr",
          "text": [
            "Epoch [517/8000]: 100%|██████████| 19/19 [00:00<00:00, 129.48it/s, loss=968]\n"
          ]
        },
        {
          "output_type": "stream",
          "name": "stdout",
          "text": [
            "Epoch [517/8000]: Train loss: 1078.5621, Valid loss: 984.2414\n"
          ]
        },
        {
          "output_type": "stream",
          "name": "stderr",
          "text": [
            "Epoch [518/8000]: 100%|██████████| 19/19 [00:00<00:00, 123.07it/s, loss=1.07e+3]\n"
          ]
        },
        {
          "output_type": "stream",
          "name": "stdout",
          "text": [
            "Epoch [518/8000]: Train loss: 1079.4082, Valid loss: 984.5144\n"
          ]
        },
        {
          "output_type": "stream",
          "name": "stderr",
          "text": [
            "Epoch [519/8000]: 100%|██████████| 19/19 [00:00<00:00, 128.42it/s, loss=1.1e+3]\n"
          ]
        },
        {
          "output_type": "stream",
          "name": "stdout",
          "text": [
            "Epoch [519/8000]: Train loss: 1079.4940, Valid loss: 979.6778\n"
          ]
        },
        {
          "output_type": "stream",
          "name": "stderr",
          "text": [
            "Epoch [520/8000]: 100%|██████████| 19/19 [00:00<00:00, 135.15it/s, loss=1.09e+3]\n"
          ]
        },
        {
          "output_type": "stream",
          "name": "stdout",
          "text": [
            "Epoch [520/8000]: Train loss: 1079.1877, Valid loss: 989.0766\n"
          ]
        },
        {
          "output_type": "stream",
          "name": "stderr",
          "text": [
            "Epoch [521/8000]: 100%|██████████| 19/19 [00:00<00:00, 125.14it/s, loss=1.19e+3]\n"
          ]
        },
        {
          "output_type": "stream",
          "name": "stdout",
          "text": [
            "Epoch [521/8000]: Train loss: 1080.0192, Valid loss: 986.4443\n"
          ]
        },
        {
          "output_type": "stream",
          "name": "stderr",
          "text": [
            "Epoch [522/8000]: 100%|██████████| 19/19 [00:00<00:00, 137.68it/s, loss=1.01e+3]\n"
          ]
        },
        {
          "output_type": "stream",
          "name": "stdout",
          "text": [
            "Epoch [522/8000]: Train loss: 1078.0918, Valid loss: 984.0029\n"
          ]
        },
        {
          "output_type": "stream",
          "name": "stderr",
          "text": [
            "Epoch [523/8000]: 100%|██████████| 19/19 [00:00<00:00, 131.33it/s, loss=1.13e+3]\n"
          ]
        },
        {
          "output_type": "stream",
          "name": "stdout",
          "text": [
            "Epoch [523/8000]: Train loss: 1079.0577, Valid loss: 988.4747\n"
          ]
        },
        {
          "output_type": "stream",
          "name": "stderr",
          "text": [
            "Epoch [524/8000]: 100%|██████████| 19/19 [00:00<00:00, 133.70it/s, loss=1.14e+3]\n"
          ]
        },
        {
          "output_type": "stream",
          "name": "stdout",
          "text": [
            "Epoch [524/8000]: Train loss: 1079.0381, Valid loss: 981.5627\n"
          ]
        },
        {
          "output_type": "stream",
          "name": "stderr",
          "text": [
            "Epoch [525/8000]: 100%|██████████| 19/19 [00:00<00:00, 132.47it/s, loss=1.09e+3]\n"
          ]
        },
        {
          "output_type": "stream",
          "name": "stdout",
          "text": [
            "Epoch [525/8000]: Train loss: 1078.3427, Valid loss: 977.4028\n"
          ]
        },
        {
          "output_type": "stream",
          "name": "stderr",
          "text": [
            "Epoch [526/8000]: 100%|██████████| 19/19 [00:00<00:00, 129.14it/s, loss=1.06e+3]\n"
          ]
        },
        {
          "output_type": "stream",
          "name": "stdout",
          "text": [
            "Epoch [526/8000]: Train loss: 1077.8109, Valid loss: 975.3974\n"
          ]
        },
        {
          "output_type": "stream",
          "name": "stderr",
          "text": [
            "Epoch [527/8000]: 100%|██████████| 19/19 [00:00<00:00, 129.17it/s, loss=1.08e+3]\n"
          ]
        },
        {
          "output_type": "stream",
          "name": "stdout",
          "text": [
            "Epoch [527/8000]: Train loss: 1077.9099, Valid loss: 976.6107\n"
          ]
        },
        {
          "output_type": "stream",
          "name": "stderr",
          "text": [
            "Epoch [528/8000]: 100%|██████████| 19/19 [00:00<00:00, 133.25it/s, loss=1.17e+3]\n"
          ]
        },
        {
          "output_type": "stream",
          "name": "stdout",
          "text": [
            "Epoch [528/8000]: Train loss: 1078.5877, Valid loss: 980.5447\n"
          ]
        },
        {
          "output_type": "stream",
          "name": "stderr",
          "text": [
            "Epoch [529/8000]: 100%|██████████| 19/19 [00:00<00:00, 132.97it/s, loss=953]\n"
          ]
        },
        {
          "output_type": "stream",
          "name": "stdout",
          "text": [
            "Epoch [529/8000]: Train loss: 1076.2496, Valid loss: 985.6469\n"
          ]
        },
        {
          "output_type": "stream",
          "name": "stderr",
          "text": [
            "Epoch [530/8000]: 100%|██████████| 19/19 [00:00<00:00, 127.74it/s, loss=1.04e+3]\n"
          ]
        },
        {
          "output_type": "stream",
          "name": "stdout",
          "text": [
            "Epoch [530/8000]: Train loss: 1076.9007, Valid loss: 985.7631\n"
          ]
        },
        {
          "output_type": "stream",
          "name": "stderr",
          "text": [
            "Epoch [531/8000]: 100%|██████████| 19/19 [00:00<00:00, 136.66it/s, loss=1.17e+3]\n"
          ]
        },
        {
          "output_type": "stream",
          "name": "stdout",
          "text": [
            "Epoch [531/8000]: Train loss: 1078.0239, Valid loss: 990.1246\n"
          ]
        },
        {
          "output_type": "stream",
          "name": "stderr",
          "text": [
            "Epoch [532/8000]: 100%|██████████| 19/19 [00:00<00:00, 131.53it/s, loss=1.11e+3]\n"
          ]
        },
        {
          "output_type": "stream",
          "name": "stdout",
          "text": [
            "Epoch [532/8000]: Train loss: 1077.3115, Valid loss: 979.5594\n"
          ]
        },
        {
          "output_type": "stream",
          "name": "stderr",
          "text": [
            "Epoch [533/8000]: 100%|██████████| 19/19 [00:00<00:00, 131.54it/s, loss=1.11e+3]\n"
          ]
        },
        {
          "output_type": "stream",
          "name": "stdout",
          "text": [
            "Epoch [533/8000]: Train loss: 1077.0932, Valid loss: 986.6228\n"
          ]
        },
        {
          "output_type": "stream",
          "name": "stderr",
          "text": [
            "Epoch [534/8000]: 100%|██████████| 19/19 [00:00<00:00, 122.05it/s, loss=1.18e+3]\n"
          ]
        },
        {
          "output_type": "stream",
          "name": "stdout",
          "text": [
            "Epoch [534/8000]: Train loss: 1077.6436, Valid loss: 986.3340\n"
          ]
        },
        {
          "output_type": "stream",
          "name": "stderr",
          "text": [
            "Epoch [535/8000]: 100%|██████████| 19/19 [00:00<00:00, 131.45it/s, loss=1.33e+3]\n"
          ]
        },
        {
          "output_type": "stream",
          "name": "stdout",
          "text": [
            "Epoch [535/8000]: Train loss: 1078.9054, Valid loss: 973.9102\n"
          ]
        },
        {
          "output_type": "stream",
          "name": "stderr",
          "text": [
            "Epoch [536/8000]: 100%|██████████| 19/19 [00:00<00:00, 127.97it/s, loss=1.18e+3]\n"
          ]
        },
        {
          "output_type": "stream",
          "name": "stdout",
          "text": [
            "Epoch [536/8000]: Train loss: 1077.2629, Valid loss: 980.0437\n"
          ]
        },
        {
          "output_type": "stream",
          "name": "stderr",
          "text": [
            "Epoch [537/8000]: 100%|██████████| 19/19 [00:00<00:00, 115.49it/s, loss=1.21e+3]\n"
          ]
        },
        {
          "output_type": "stream",
          "name": "stdout",
          "text": [
            "Epoch [537/8000]: Train loss: 1077.4015, Valid loss: 975.4164\n"
          ]
        },
        {
          "output_type": "stream",
          "name": "stderr",
          "text": [
            "Epoch [538/8000]: 100%|██████████| 19/19 [00:00<00:00, 121.14it/s, loss=942]\n"
          ]
        },
        {
          "output_type": "stream",
          "name": "stdout",
          "text": [
            "Epoch [538/8000]: Train loss: 1074.5413, Valid loss: 983.6606\n"
          ]
        },
        {
          "output_type": "stream",
          "name": "stderr",
          "text": [
            "Epoch [539/8000]: 100%|██████████| 19/19 [00:00<00:00, 123.44it/s, loss=1.11e+3]\n"
          ]
        },
        {
          "output_type": "stream",
          "name": "stdout",
          "text": [
            "Epoch [539/8000]: Train loss: 1076.0164, Valid loss: 980.6801\n"
          ]
        },
        {
          "output_type": "stream",
          "name": "stderr",
          "text": [
            "Epoch [540/8000]: 100%|██████████| 19/19 [00:00<00:00, 122.62it/s, loss=1.17e+3]\n"
          ]
        },
        {
          "output_type": "stream",
          "name": "stdout",
          "text": [
            "Epoch [540/8000]: Train loss: 1076.4025, Valid loss: 974.6762\n"
          ]
        },
        {
          "output_type": "stream",
          "name": "stderr",
          "text": [
            "Epoch [541/8000]: 100%|██████████| 19/19 [00:00<00:00, 121.36it/s, loss=1.03e+3]\n"
          ]
        },
        {
          "output_type": "stream",
          "name": "stdout",
          "text": [
            "Epoch [541/8000]: Train loss: 1074.9042, Valid loss: 984.2777\n"
          ]
        },
        {
          "output_type": "stream",
          "name": "stderr",
          "text": [
            "Epoch [542/8000]: 100%|██████████| 19/19 [00:00<00:00, 130.18it/s, loss=1.07e+3]\n"
          ]
        },
        {
          "output_type": "stream",
          "name": "stdout",
          "text": [
            "Epoch [542/8000]: Train loss: 1075.1146, Valid loss: 977.2994\n"
          ]
        },
        {
          "output_type": "stream",
          "name": "stderr",
          "text": [
            "Epoch [543/8000]: 100%|██████████| 19/19 [00:00<00:00, 118.94it/s, loss=990]\n"
          ]
        },
        {
          "output_type": "stream",
          "name": "stdout",
          "text": [
            "Epoch [543/8000]: Train loss: 1074.1288, Valid loss: 986.7137\n"
          ]
        },
        {
          "output_type": "stream",
          "name": "stderr",
          "text": [
            "Epoch [544/8000]: 100%|██████████| 19/19 [00:00<00:00, 117.40it/s, loss=1.07e+3]\n"
          ]
        },
        {
          "output_type": "stream",
          "name": "stdout",
          "text": [
            "Epoch [544/8000]: Train loss: 1074.7313, Valid loss: 983.0906\n"
          ]
        },
        {
          "output_type": "stream",
          "name": "stderr",
          "text": [
            "Epoch [545/8000]: 100%|██████████| 19/19 [00:00<00:00, 129.97it/s, loss=1.15e+3]\n"
          ]
        },
        {
          "output_type": "stream",
          "name": "stdout",
          "text": [
            "Epoch [545/8000]: Train loss: 1075.3678, Valid loss: 975.4250\n"
          ]
        },
        {
          "output_type": "stream",
          "name": "stderr",
          "text": [
            "Epoch [546/8000]: 100%|██████████| 19/19 [00:00<00:00, 112.94it/s, loss=1.1e+3]\n"
          ]
        },
        {
          "output_type": "stream",
          "name": "stdout",
          "text": [
            "Epoch [546/8000]: Train loss: 1074.6737, Valid loss: 968.2313\n",
            "Saving model with loss 968.231...\n"
          ]
        },
        {
          "output_type": "stream",
          "name": "stderr",
          "text": [
            "Epoch [547/8000]: 100%|██████████| 19/19 [00:00<00:00, 125.43it/s, loss=1.07e+3]\n"
          ]
        },
        {
          "output_type": "stream",
          "name": "stdout",
          "text": [
            "Epoch [547/8000]: Train loss: 1074.2349, Valid loss: 976.9277\n"
          ]
        },
        {
          "output_type": "stream",
          "name": "stderr",
          "text": [
            "Epoch [548/8000]: 100%|██████████| 19/19 [00:00<00:00, 118.68it/s, loss=1.02e+3]\n"
          ]
        },
        {
          "output_type": "stream",
          "name": "stdout",
          "text": [
            "Epoch [548/8000]: Train loss: 1073.5052, Valid loss: 982.0529\n"
          ]
        },
        {
          "output_type": "stream",
          "name": "stderr",
          "text": [
            "Epoch [549/8000]: 100%|██████████| 19/19 [00:00<00:00, 129.17it/s, loss=1.14e+3]\n"
          ]
        },
        {
          "output_type": "stream",
          "name": "stdout",
          "text": [
            "Epoch [549/8000]: Train loss: 1074.5216, Valid loss: 970.4707\n"
          ]
        },
        {
          "output_type": "stream",
          "name": "stderr",
          "text": [
            "Epoch [550/8000]: 100%|██████████| 19/19 [00:00<00:00, 122.90it/s, loss=983]\n"
          ]
        },
        {
          "output_type": "stream",
          "name": "stdout",
          "text": [
            "Epoch [550/8000]: Train loss: 1072.8261, Valid loss: 979.3064\n"
          ]
        },
        {
          "output_type": "stream",
          "name": "stderr",
          "text": [
            "Epoch [551/8000]: 100%|██████████| 19/19 [00:00<00:00, 122.22it/s, loss=1.19e+3]\n"
          ]
        },
        {
          "output_type": "stream",
          "name": "stdout",
          "text": [
            "Epoch [551/8000]: Train loss: 1074.6892, Valid loss: 971.2393\n"
          ]
        },
        {
          "output_type": "stream",
          "name": "stderr",
          "text": [
            "Epoch [552/8000]: 100%|██████████| 19/19 [00:00<00:00, 118.59it/s, loss=1.01e+3]\n"
          ]
        },
        {
          "output_type": "stream",
          "name": "stdout",
          "text": [
            "Epoch [552/8000]: Train loss: 1072.7133, Valid loss: 978.5152\n"
          ]
        },
        {
          "output_type": "stream",
          "name": "stderr",
          "text": [
            "Epoch [553/8000]:  68%|██████▊   | 13/19 [00:00<00:00, 124.13it/s, loss=986]"
          ]
        }
      ],
      "source": [
        "model = My_Model(input_dim=x_train.shape[1]).to(device) # put your model and data on the same computation device.\n",
        "trainer(train_loader, valid_loader, model, config, device)"
      ]
    },
    {
      "cell_type": "markdown",
      "metadata": {
        "id": "Ik09KPqU-di-"
      },
      "source": [
        "# Plot learning curves with `tensorboard` (optional)\n",
        "\n",
        "`tensorboard` is a tool that allows you to visualize your training progress.\n",
        "\n",
        "If this block does not display your learning curve, please wait for few minutes, and re-run this block. It might take some time to load your logging information. "
      ]
    },
    {
      "cell_type": "code",
      "execution_count": null,
      "metadata": {
        "id": "loA4nKmLGQ-n"
      },
      "outputs": [],
      "source": [
        "%reload_ext tensorboard\n",
        "%tensorboard --logdir=./runs/"
      ]
    },
    {
      "cell_type": "markdown",
      "metadata": {
        "id": "yhAHGqC9-woK"
      },
      "source": [
        "# Testing\n",
        "The predictions of your model on testing set will be stored at `pred.csv`."
      ]
    },
    {
      "cell_type": "code",
      "execution_count": null,
      "metadata": {
        "id": "Q5eVdpbvAlAe"
      },
      "outputs": [],
      "source": [
        "def save_pred(preds, file):\n",
        "    ''' Save predictions to specified file '''\n",
        "    with open(file, 'w') as fp:\n",
        "        writer = csv.writer(fp)\n",
        "        writer.writerow(['id', 'tested_positive'])\n",
        "        for i, p in enumerate(preds):\n",
        "            writer.writerow([i, p])\n",
        "\n",
        "model = My_Model(input_dim=x_train.shape[1]).to(device)\n",
        "model.load_state_dict(torch.load(config['save_path']))\n",
        "preds = predict(test_loader, model, device) \n",
        "save_pred(preds, 'pred.csv')"
      ]
    },
    {
      "cell_type": "markdown",
      "source": [
        "# Download\n",
        "\n",
        "Run this block to download the `pred.csv` automatically."
      ],
      "metadata": {
        "id": "T_N-wBvVahc7"
      }
    },
    {
      "cell_type": "code",
      "source": [
        "from google.colab import files\n",
        "files.download('pred.csv')"
      ],
      "metadata": {
        "id": "PmMnwrHeavJv"
      },
      "execution_count": null,
      "outputs": []
    },
    {
      "cell_type": "markdown",
      "source": [
        "# Reference\n",
        "This notebook uses code written by Heng-Jui Chang @ NTUEE (https://github.com/ga642381/ML2021-Spring/blob/main/HW01/HW01.ipynb)"
      ],
      "metadata": {
        "id": "IJ_k5rY0GvSV"
      }
    }
  ],
  "metadata": {
    "accelerator": "GPU",
    "colab": {
      "provenance": [],
      "include_colab_link": true
    },
    "kernelspec": {
      "display_name": "Python 3",
      "name": "python3"
    },
    "language_info": {
      "name": "python"
    },
    "gpuClass": "standard"
  },
  "nbformat": 4,
  "nbformat_minor": 0
}